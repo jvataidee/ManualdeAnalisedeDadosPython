{
  "nbformat": 4,
  "nbformat_minor": 0,
  "metadata": {
    "colab": {
      "name": "cap5_variavel_aleatori_dist_probabilidade.ipynb",
      "provenance": [],
      "collapsed_sections": [],
      "toc_visible": true,
      "include_colab_link": true
    },
    "kernelspec": {
      "name": "python3",
      "display_name": "Python 3"
    },
    "accelerator": "GPU"
  },
  "cells": [
    {
      "cell_type": "markdown",
      "metadata": {
        "id": "view-in-github",
        "colab_type": "text"
      },
      "source": [
        "<a href=\"https://colab.research.google.com/github/jvataidee/ManualdeAnalisedeDados_Python/blob/master/cap5_variavel_aleatori_dist_probabilidade.ipynb\" target=\"_parent\"><img src=\"https://colab.research.google.com/assets/colab-badge.svg\" alt=\"Open In Colab\"/></a>"
      ]
    },
    {
      "cell_type": "markdown",
      "metadata": {
        "id": "kLI0gJtzDGuQ"
      },
      "source": [
        "**by: [João Ataíde](https://www.joaoataide.com)**\n",
        "# **CAP 05: Variáveis Aleatórias e Distribuição de Probabilidade**\n",
        "\n",
        "---\n",
        "\n"
      ]
    },
    {
      "cell_type": "code",
      "source": [
        "#importar bibliotecas\n",
        "import pandas as pd\n",
        "import numpy as np\n",
        "import math\n",
        "import matplotlib.pyplot as plt\n",
        "import seaborn as sns\n",
        "import statistics as st\n",
        "import scipy.stats as stats\n",
        "from scipy.stats import chi2_contingency, spearmanr"
      ],
      "metadata": {
        "id": "dTSRYPl7ORJW"
      },
      "execution_count": 36,
      "outputs": []
    },
    {
      "cell_type": "markdown",
      "source": [
        "## **Variáveis Aleatórias**\n",
        "As variáveis aleatórias caracteriza-se como a variável que apresenta um valor único para cada elemento, sendo esse determinado aleatoriamente e pom ser diferenciadas das seguintes formas:\n",
        "\n",
        "\n",
        "* `Variáveis aleatórias discretas: ` são variáveis que aleatoriamente assumem valores enumeráveis, não podendo ser decimal ou inteiro. *EX: quantidade de filhos, funcionários de uma empresa, quantidade de computadores de uma sala de escritório...*\n",
        "\n",
        "* `Variáveis aleatórias contínua: ` são variável que aleatoriamente assumem diversos valores num intervalo real. *Ex: renda familiar, faturamente de uma empresa, peso, altura ...*"
      ],
      "metadata": {
        "id": "5nkQaTPvqskn"
      }
    },
    {
      "cell_type": "markdown",
      "source": [
        "### **Variáveis aleatórias discretas (VAD)**\n",
        "\n",
        "Sendo $X$ uma VAD essa pode assumir valores $\\{x_1,x_2,...,x_n\\}$ e suas probabildiades $\\{p(x_1),p(x_2),...,p(x_n)\\}$, o que gera um função de probabildiade:\n",
        "\n",
        "$P(x_i) = P(X = x_i) = p_i, \\forall\\ i=1,..,n $\n",
        "\n",
        "então,\n",
        "$p(x_i)\\geq 0\\ \\ \\forall\\ x_i\\ e \\sum p(x_i) = 1 $\n",
        "\n",
        "\n"
      ],
      "metadata": {
        "id": "zJBKEWQiskBN"
      }
    },
    {
      "cell_type": "markdown",
      "source": [
        "#### **Esperança VAD**\n",
        " valor esperado ou médio dentre os valores de X.\n",
        "\n",
        "$E(X) = \\sum x_i\\cdot P(X = x_i)$"
      ],
      "metadata": {
        "id": "YjpmqkFavo7a"
      }
    },
    {
      "cell_type": "markdown",
      "source": [
        "#### **Variáncia e Desvio-padrão VAD**\n",
        "\n",
        "$Var(X) = \\sum_{i=1}^n(x_i - E(X))^2\\cdot p_i$\n",
        "\n",
        "$\\sigma(X) = \\sqrt{Var(X)}$"
      ],
      "metadata": {
        "id": "rwj4IrzYvuCO"
      }
    },
    {
      "cell_type": "code",
      "source": [
        "vendas = [0., 1., 2., 3.]\n",
        "px = [2/10, 4/10, 3/10, 1/10]"
      ],
      "metadata": {
        "id": "ba57RkIfroHX"
      },
      "execution_count": 4,
      "outputs": []
    },
    {
      "cell_type": "code",
      "source": [
        "esp = []\n",
        "for i,j in zip(vendas, px):\n",
        "    esp.append(i * j)\n",
        "\n",
        "esp = sum(esp)\n",
        "esp"
      ],
      "metadata": {
        "colab": {
          "base_uri": "https://localhost:8080/"
        },
        "id": "vZcTz8UgxJLc",
        "outputId": "10e0352e-3352-4aea-ee76-9347fc8a57bb"
      },
      "execution_count": 18,
      "outputs": [
        {
          "output_type": "execute_result",
          "data": {
            "text/plain": [
              "1.3"
            ]
          },
          "metadata": {},
          "execution_count": 18
        }
      ]
    },
    {
      "cell_type": "code",
      "source": [
        "var = []\n",
        "for i, j in zip(vendas, px):\n",
        "    var_ = ((i - esp)**2)*j\n",
        "    var.append(var_)\n",
        "\n",
        "var = sum(var)\n",
        "var"
      ],
      "metadata": {
        "colab": {
          "base_uri": "https://localhost:8080/"
        },
        "id": "P0zbo67QySIl",
        "outputId": "78a2d383-aa81-410a-c327-5262f8e4f2fb"
      },
      "execution_count": 24,
      "outputs": [
        {
          "output_type": "execute_result",
          "data": {
            "text/plain": [
              "0.81"
            ]
          },
          "metadata": {},
          "execution_count": 24
        }
      ]
    },
    {
      "cell_type": "markdown",
      "source": [
        "#### **Função de distribuição acumulada (FDA) de um VAD**\n",
        "É a soma das probabilidades dos valor $x_i \\leq x$\n",
        "\n",
        "$F(x) = P(X \\leq x) = \\sum p(x_i)$\n",
        "\n",
        "`Propiedades`<p>\n",
        "$0 \\leq F(x) \\leq 1$<p>\n",
        "$\\lim_{x\\rightarrow∞}F(x) = 1$<p>\n",
        "$\\lim_{x\\rightarrow∞}F(x) = 0$<p>\n",
        "$a<b → F(a) \\leq F(b)$\n"
      ],
      "metadata": {
        "id": "hoo4SQUuy_Me"
      }
    },
    {
      "cell_type": "code",
      "source": [
        "acumulada = []\n",
        "for i in range(len(px)):\n",
        "    if  i <= 0:\n",
        "        acumulada.append(px[i])\n",
        "    else:\n",
        "        acumulada.append(np.round(acumulada[i-1] + px[i],2))\n",
        "acumulada"
      ],
      "metadata": {
        "colab": {
          "base_uri": "https://localhost:8080/"
        },
        "id": "0bW3FsMc1M-b",
        "outputId": "2c1747bf-62ec-4720-f97b-f548dda877cc"
      },
      "execution_count": 66,
      "outputs": [
        {
          "output_type": "execute_result",
          "data": {
            "text/plain": [
              "[0.2, 0.6, 0.9, 1.0]"
            ]
          },
          "metadata": {},
          "execution_count": 66
        }
      ]
    },
    {
      "cell_type": "code",
      "source": [
        "def funcao(valor):\n",
        "    for i in range(len(px)):\n",
        "        if valor >= vendas[i]:\n",
        "        #    print(i)\n",
        "            p_valor = acumulada[i]\n",
        "            pass\n",
        "        elif valor < 0:\n",
        "            p_valor = 0\n",
        "            \n",
        "    return p_valor\n",
        "\n",
        "assert funcao(0.5)== 2/10\n",
        "assert funcao(1)== 6/10\n",
        "assert funcao(2.5)== 9/10\n",
        "assert funcao(3)== 1\n",
        "assert funcao(4)==1\n",
        "assert funcao(-0.5)== 0"
      ],
      "metadata": {
        "id": "6PHz6R2N0wKA"
      },
      "execution_count": 123,
      "outputs": []
    },
    {
      "cell_type": "markdown",
      "source": [
        "### **Variáveis aleatórias contínuas (VAC)**\n",
        "Sendo $X$ uma variável contínua assosiada a uma função de densidade de probabilidade $f(x)$.<p>\n",
        "$\\int_{-∞}^{+∞}f(x)dx = 1, f(x)\\geq 0$<p>\n",
        "$\\forall a e b tal que -∞ < a < b < +∞$<p>\n",
        "$P(a\\leq X\\leq b) = \\int_{-∞}^{+∞}f(x)dx $"
      ],
      "metadata": {
        "id": "rD4DXQen9WP2"
      }
    },
    {
      "cell_type": "markdown",
      "source": [
        "#### **Esperança VAC**\n",
        "Esperança matemática \n",
        "\n",
        "$E(X)= \\int_{-∞}^{+∞}x\\cdot f(x)dx$"
      ],
      "metadata": {
        "id": "D3kmMN6GET6n"
      }
    },
    {
      "cell_type": "markdown",
      "source": [
        "#### **Variáncia e Desvio-padrão VAC**\n",
        "\n",
        "$Var(X) = \\int_{-∞}^{+∞}(x - E(x))^2\\cdot f(x)dx$"
      ],
      "metadata": {
        "id": "g16ZzXvIEX0z"
      }
    },
    {
      "cell_type": "code",
      "source": [
        ""
      ],
      "metadata": {
        "id": "YdDxZOTTHqb6"
      },
      "execution_count": null,
      "outputs": []
    },
    {
      "cell_type": "markdown",
      "source": [
        "#### **Função de distribuição acumulada (FDA) de um VAC**\n",
        "\n",
        "$F(x) = P(X \\leq x), -∞ < x < +∞$ <p>\n",
        "`Propiedades`<p>\n",
        "\n",
        "$0 \\leq F(x) \\leq 1$<p>\n",
        "$\\lim_{x\\rightarrow∞}F(x) = 1$<p>\n",
        "$\\lim_{x\\rightarrow∞}F(x) = 0$<p>\n",
        "$a<b → F(a) \\leq F(b)$\n"
      ],
      "metadata": {
        "id": "mb4DA5mSEbZD"
      }
    },
    {
      "cell_type": "code",
      "source": [
        ""
      ],
      "metadata": {
        "id": "IDAfpD0EEFpd"
      },
      "execution_count": null,
      "outputs": []
    }
  ]
}