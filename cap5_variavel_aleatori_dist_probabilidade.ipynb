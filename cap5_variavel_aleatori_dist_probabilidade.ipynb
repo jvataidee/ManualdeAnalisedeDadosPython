{
  "nbformat": 4,
  "nbformat_minor": 0,
  "metadata": {
    "colab": {
      "name": "cap5_variavel_aleatori_dist_probabilidade.ipynb",
      "provenance": [],
      "collapsed_sections": [],
      "toc_visible": true,
      "include_colab_link": true
    },
    "kernelspec": {
      "name": "python3",
      "display_name": "Python 3"
    },
    "accelerator": "GPU"
  },
  "cells": [
    {
      "cell_type": "markdown",
      "metadata": {
        "id": "view-in-github",
        "colab_type": "text"
      },
      "source": [
        "<a href=\"https://colab.research.google.com/github/jvataidee/ManualdeAnalisedeDados_Python/blob/master/cap5_variavel_aleatori_dist_probabilidade.ipynb\" target=\"_parent\"><img src=\"https://colab.research.google.com/assets/colab-badge.svg\" alt=\"Open In Colab\"/></a>"
      ]
    },
    {
      "cell_type": "markdown",
      "metadata": {
        "id": "kLI0gJtzDGuQ"
      },
      "source": [
        "**by: [João Ataíde](https://www.joaoataide.com)**\n",
        "# **CAP 05: Variáveis Aleatórias e Distribuição de Probabilidade**\n",
        "\n",
        "---\n",
        "\n"
      ]
    },
    {
      "cell_type": "code",
      "source": [
        "#importar bibliotecas\n",
        "import pandas as pd\n",
        "import numpy as np\n",
        "import math\n",
        "import matplotlib.pyplot as plt\n",
        "import seaborn as sns\n",
        "import statistics as st\n",
        "import scipy.stats as stats\n",
        "from scipy.stats import chi2_contingency, spearmanr"
      ],
      "metadata": {
        "id": "dTSRYPl7ORJW"
      },
      "execution_count": null,
      "outputs": []
    }
  ]
}