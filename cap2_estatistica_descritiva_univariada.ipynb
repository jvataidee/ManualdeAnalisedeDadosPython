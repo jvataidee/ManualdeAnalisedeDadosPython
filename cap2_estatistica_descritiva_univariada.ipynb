{
  "nbformat": 4,
  "nbformat_minor": 0,
  "metadata": {
    "colab": {
      "name": "cap2_estatistica_descritiva_univariada.ipynb",
      "provenance": [],
      "collapsed_sections": [],
      "toc_visible": true,
      "include_colab_link": true
    },
    "kernelspec": {
      "name": "python3",
      "display_name": "Python 3"
    },
    "accelerator": "GPU"
  },
  "cells": [
    {
      "cell_type": "markdown",
      "metadata": {
        "id": "view-in-github",
        "colab_type": "text"
      },
      "source": [
        "<a href=\"https://colab.research.google.com/github/jvataidee/ManualdeAnalisedeDados_Python/blob/master/cap2_estatistica_descritiva_univariada.ipynb\" target=\"_parent\"><img src=\"https://colab.research.google.com/assets/colab-badge.svg\" alt=\"Open In Colab\"/></a>"
      ]
    },
    {
      "cell_type": "markdown",
      "metadata": {
        "id": "kLI0gJtzDGuQ"
      },
      "source": [
        "**by: [João Ataíde](https://www.joaoataide.com)**\n",
        "# **CAP 02: Estatística Descritiva Univariada**\n",
        "\n",
        "---\n",
        "\n"
      ]
    },
    {
      "cell_type": "code",
      "source": [
        "#importar bibliotecas\n",
        "import pandas as pd\n",
        "import numpy as np\n",
        "import math\n",
        "import matplotlib.pyplot as plt\n",
        "import seaborn as sns\n",
        "import statistics as st\n",
        "import scipy.stats as stats"
      ],
      "metadata": {
        "id": "dTSRYPl7ORJW"
      },
      "execution_count": 359,
      "outputs": []
    },
    {
      "cell_type": "markdown",
      "source": [
        "## Tabela de Distribuição de Frequências\n",
        "\n",
        "Essas informações podem ser utilizadas para verificar a ocorrênci de um conjunto de observações de cariáveis quant ou qualitativas.\n",
        "\n",
        "\n",
        "*  `Frequência absoluta` ($f_i$): Número de ocorrência de cada elemento $i$\n",
        "*  `Frequência Relativa` ($f_r$): porcentagem relativa à frequência absoluta\n",
        "*  `Frequência acumulada` ($f_{ac}$): soma de todas as ocorrência até o elemento analisado\n",
        "*  `Frequência relativa acumulada` ($f_{rac}$): procentagem relativa à frequência acumulada."
      ],
      "metadata": {
        "id": "GPaBD61YeXQK"
      }
    },
    {
      "cell_type": "markdown",
      "source": [
        "## Tabela de distribuição de frequência caso qualitativo"
      ],
      "metadata": {
        "id": "K_IRwDV0gdfU"
      }
    },
    {
      "cell_type": "code",
      "source": [
        "doadores = pd.DataFrame([[\"A+\", 15],\n",
        "                        [\"A-\",  2],\n",
        "                        [\"B+\",  6],\n",
        "                        [\"B-\",  1],\n",
        "                        [\"AB+\", 1],\n",
        "                        [\"AB-\", 1],\n",
        "                        [\"O+\",  32],\n",
        "                        [\"O-\",  2]])\n",
        "\n",
        "colunas = [\"Tipo sanguíneo\",\"Doadores\"]\n",
        "\n",
        "doadores.columns = colunas\n",
        "doadores "
      ],
      "metadata": {
        "colab": {
          "base_uri": "https://localhost:8080/",
          "height": 300
        },
        "id": "y8ypwxqAfRqh",
        "outputId": "27b947d8-37ff-4842-f6b1-89ee462d0676"
      },
      "execution_count": null,
      "outputs": [
        {
          "output_type": "execute_result",
          "data": {
            "text/html": [
              "\n",
              "  <div id=\"df-c053d5c3-6f85-4b52-b086-f397cd8957b5\">\n",
              "    <div class=\"colab-df-container\">\n",
              "      <div>\n",
              "<style scoped>\n",
              "    .dataframe tbody tr th:only-of-type {\n",
              "        vertical-align: middle;\n",
              "    }\n",
              "\n",
              "    .dataframe tbody tr th {\n",
              "        vertical-align: top;\n",
              "    }\n",
              "\n",
              "    .dataframe thead th {\n",
              "        text-align: right;\n",
              "    }\n",
              "</style>\n",
              "<table border=\"1\" class=\"dataframe\">\n",
              "  <thead>\n",
              "    <tr style=\"text-align: right;\">\n",
              "      <th></th>\n",
              "      <th>Tipo sanguíneo</th>\n",
              "      <th>Doadores</th>\n",
              "    </tr>\n",
              "  </thead>\n",
              "  <tbody>\n",
              "    <tr>\n",
              "      <th>0</th>\n",
              "      <td>A+</td>\n",
              "      <td>15</td>\n",
              "    </tr>\n",
              "    <tr>\n",
              "      <th>1</th>\n",
              "      <td>A-</td>\n",
              "      <td>2</td>\n",
              "    </tr>\n",
              "    <tr>\n",
              "      <th>2</th>\n",
              "      <td>B+</td>\n",
              "      <td>6</td>\n",
              "    </tr>\n",
              "    <tr>\n",
              "      <th>3</th>\n",
              "      <td>B-</td>\n",
              "      <td>1</td>\n",
              "    </tr>\n",
              "    <tr>\n",
              "      <th>4</th>\n",
              "      <td>AB+</td>\n",
              "      <td>1</td>\n",
              "    </tr>\n",
              "    <tr>\n",
              "      <th>5</th>\n",
              "      <td>AB-</td>\n",
              "      <td>1</td>\n",
              "    </tr>\n",
              "    <tr>\n",
              "      <th>6</th>\n",
              "      <td>O+</td>\n",
              "      <td>32</td>\n",
              "    </tr>\n",
              "    <tr>\n",
              "      <th>7</th>\n",
              "      <td>O-</td>\n",
              "      <td>2</td>\n",
              "    </tr>\n",
              "  </tbody>\n",
              "</table>\n",
              "</div>\n",
              "      <button class=\"colab-df-convert\" onclick=\"convertToInteractive('df-c053d5c3-6f85-4b52-b086-f397cd8957b5')\"\n",
              "              title=\"Convert this dataframe to an interactive table.\"\n",
              "              style=\"display:none;\">\n",
              "        \n",
              "  <svg xmlns=\"http://www.w3.org/2000/svg\" height=\"24px\"viewBox=\"0 0 24 24\"\n",
              "       width=\"24px\">\n",
              "    <path d=\"M0 0h24v24H0V0z\" fill=\"none\"/>\n",
              "    <path d=\"M18.56 5.44l.94 2.06.94-2.06 2.06-.94-2.06-.94-.94-2.06-.94 2.06-2.06.94zm-11 1L8.5 8.5l.94-2.06 2.06-.94-2.06-.94L8.5 2.5l-.94 2.06-2.06.94zm10 10l.94 2.06.94-2.06 2.06-.94-2.06-.94-.94-2.06-.94 2.06-2.06.94z\"/><path d=\"M17.41 7.96l-1.37-1.37c-.4-.4-.92-.59-1.43-.59-.52 0-1.04.2-1.43.59L10.3 9.45l-7.72 7.72c-.78.78-.78 2.05 0 2.83L4 21.41c.39.39.9.59 1.41.59.51 0 1.02-.2 1.41-.59l7.78-7.78 2.81-2.81c.8-.78.8-2.07 0-2.86zM5.41 20L4 18.59l7.72-7.72 1.47 1.35L5.41 20z\"/>\n",
              "  </svg>\n",
              "      </button>\n",
              "      \n",
              "  <style>\n",
              "    .colab-df-container {\n",
              "      display:flex;\n",
              "      flex-wrap:wrap;\n",
              "      gap: 12px;\n",
              "    }\n",
              "\n",
              "    .colab-df-convert {\n",
              "      background-color: #E8F0FE;\n",
              "      border: none;\n",
              "      border-radius: 50%;\n",
              "      cursor: pointer;\n",
              "      display: none;\n",
              "      fill: #1967D2;\n",
              "      height: 32px;\n",
              "      padding: 0 0 0 0;\n",
              "      width: 32px;\n",
              "    }\n",
              "\n",
              "    .colab-df-convert:hover {\n",
              "      background-color: #E2EBFA;\n",
              "      box-shadow: 0px 1px 2px rgba(60, 64, 67, 0.3), 0px 1px 3px 1px rgba(60, 64, 67, 0.15);\n",
              "      fill: #174EA6;\n",
              "    }\n",
              "\n",
              "    [theme=dark] .colab-df-convert {\n",
              "      background-color: #3B4455;\n",
              "      fill: #D2E3FC;\n",
              "    }\n",
              "\n",
              "    [theme=dark] .colab-df-convert:hover {\n",
              "      background-color: #434B5C;\n",
              "      box-shadow: 0px 1px 3px 1px rgba(0, 0, 0, 0.15);\n",
              "      filter: drop-shadow(0px 1px 2px rgba(0, 0, 0, 0.3));\n",
              "      fill: #FFFFFF;\n",
              "    }\n",
              "  </style>\n",
              "\n",
              "      <script>\n",
              "        const buttonEl =\n",
              "          document.querySelector('#df-c053d5c3-6f85-4b52-b086-f397cd8957b5 button.colab-df-convert');\n",
              "        buttonEl.style.display =\n",
              "          google.colab.kernel.accessAllowed ? 'block' : 'none';\n",
              "\n",
              "        async function convertToInteractive(key) {\n",
              "          const element = document.querySelector('#df-c053d5c3-6f85-4b52-b086-f397cd8957b5');\n",
              "          const dataTable =\n",
              "            await google.colab.kernel.invokeFunction('convertToInteractive',\n",
              "                                                     [key], {});\n",
              "          if (!dataTable) return;\n",
              "\n",
              "          const docLinkHtml = 'Like what you see? Visit the ' +\n",
              "            '<a target=\"_blank\" href=https://colab.research.google.com/notebooks/data_table.ipynb>data table notebook</a>'\n",
              "            + ' to learn more about interactive tables.';\n",
              "          element.innerHTML = '';\n",
              "          dataTable['output_type'] = 'display_data';\n",
              "          await google.colab.output.renderOutput(dataTable, element);\n",
              "          const docLink = document.createElement('div');\n",
              "          docLink.innerHTML = docLinkHtml;\n",
              "          element.appendChild(docLink);\n",
              "        }\n",
              "      </script>\n",
              "    </div>\n",
              "  </div>\n",
              "  "
            ],
            "text/plain": [
              "  Tipo sanguíneo  Doadores\n",
              "0             A+        15\n",
              "1             A-         2\n",
              "2             B+         6\n",
              "3             B-         1\n",
              "4            AB+         1\n",
              "5            AB-         1\n",
              "6             O+        32\n",
              "7             O-         2"
            ]
          },
          "metadata": {},
          "execution_count": 3
        }
      ]
    },
    {
      "cell_type": "code",
      "source": [
        "#Frequencia abssoluta\n",
        "doadores[\"f_i\"] = doadores.Doadores\n",
        "soma_fi = sum(doadores[\"f_i\"])\n",
        "\n",
        "#Frequência Relativa\n",
        "doadores[\"f_ri\"] = np.round(doadores.Doadores / soma_fi * 100, 2)\n",
        "soma_fri = sum(doadores[\"f_ri\"])\n",
        "\n",
        "#Frequência acumulada\n",
        "doadores[\"f_ac\"] = doadores.Doadores.cumsum()\n",
        "\n",
        "#Frequência relativa acumulada\n",
        "doadores[\"f_rac\"] = np.round(doadores[\"f_ri\"].cumsum(),2)\n",
        "\n",
        "print(f\"Soma da Frequência Absoluta {soma_fi}\")\n",
        "print(f\"Soma da Frequência Absoluta {np.round(soma_fri,2)} %\")\n",
        "print(\" \")\n",
        "doadores"
      ],
      "metadata": {
        "colab": {
          "base_uri": "https://localhost:8080/",
          "height": 355
        },
        "id": "CqLc9XHDgkzE",
        "outputId": "1c73b5a0-7cfe-49f3-a1b0-92def5569b6c"
      },
      "execution_count": null,
      "outputs": [
        {
          "output_type": "stream",
          "name": "stdout",
          "text": [
            "Soma da Frequência Absoluta 60\n",
            "Soma da Frequência Absoluta 100.0 %\n",
            " \n"
          ]
        },
        {
          "output_type": "execute_result",
          "data": {
            "text/html": [
              "\n",
              "  <div id=\"df-3ed24cac-7d98-424a-91d8-5ab6e411345c\">\n",
              "    <div class=\"colab-df-container\">\n",
              "      <div>\n",
              "<style scoped>\n",
              "    .dataframe tbody tr th:only-of-type {\n",
              "        vertical-align: middle;\n",
              "    }\n",
              "\n",
              "    .dataframe tbody tr th {\n",
              "        vertical-align: top;\n",
              "    }\n",
              "\n",
              "    .dataframe thead th {\n",
              "        text-align: right;\n",
              "    }\n",
              "</style>\n",
              "<table border=\"1\" class=\"dataframe\">\n",
              "  <thead>\n",
              "    <tr style=\"text-align: right;\">\n",
              "      <th></th>\n",
              "      <th>Tipo sanguíneo</th>\n",
              "      <th>Doadores</th>\n",
              "      <th>f_i</th>\n",
              "      <th>f_ri</th>\n",
              "      <th>f_ac</th>\n",
              "      <th>f_rac</th>\n",
              "    </tr>\n",
              "  </thead>\n",
              "  <tbody>\n",
              "    <tr>\n",
              "      <th>0</th>\n",
              "      <td>A+</td>\n",
              "      <td>15</td>\n",
              "      <td>15</td>\n",
              "      <td>25.00</td>\n",
              "      <td>15</td>\n",
              "      <td>25.00</td>\n",
              "    </tr>\n",
              "    <tr>\n",
              "      <th>1</th>\n",
              "      <td>A-</td>\n",
              "      <td>2</td>\n",
              "      <td>2</td>\n",
              "      <td>3.33</td>\n",
              "      <td>17</td>\n",
              "      <td>28.33</td>\n",
              "    </tr>\n",
              "    <tr>\n",
              "      <th>2</th>\n",
              "      <td>B+</td>\n",
              "      <td>6</td>\n",
              "      <td>6</td>\n",
              "      <td>10.00</td>\n",
              "      <td>23</td>\n",
              "      <td>38.33</td>\n",
              "    </tr>\n",
              "    <tr>\n",
              "      <th>3</th>\n",
              "      <td>B-</td>\n",
              "      <td>1</td>\n",
              "      <td>1</td>\n",
              "      <td>1.67</td>\n",
              "      <td>24</td>\n",
              "      <td>40.00</td>\n",
              "    </tr>\n",
              "    <tr>\n",
              "      <th>4</th>\n",
              "      <td>AB+</td>\n",
              "      <td>1</td>\n",
              "      <td>1</td>\n",
              "      <td>1.67</td>\n",
              "      <td>25</td>\n",
              "      <td>41.67</td>\n",
              "    </tr>\n",
              "    <tr>\n",
              "      <th>5</th>\n",
              "      <td>AB-</td>\n",
              "      <td>1</td>\n",
              "      <td>1</td>\n",
              "      <td>1.67</td>\n",
              "      <td>26</td>\n",
              "      <td>43.34</td>\n",
              "    </tr>\n",
              "    <tr>\n",
              "      <th>6</th>\n",
              "      <td>O+</td>\n",
              "      <td>32</td>\n",
              "      <td>32</td>\n",
              "      <td>53.33</td>\n",
              "      <td>58</td>\n",
              "      <td>96.67</td>\n",
              "    </tr>\n",
              "    <tr>\n",
              "      <th>7</th>\n",
              "      <td>O-</td>\n",
              "      <td>2</td>\n",
              "      <td>2</td>\n",
              "      <td>3.33</td>\n",
              "      <td>60</td>\n",
              "      <td>100.00</td>\n",
              "    </tr>\n",
              "  </tbody>\n",
              "</table>\n",
              "</div>\n",
              "      <button class=\"colab-df-convert\" onclick=\"convertToInteractive('df-3ed24cac-7d98-424a-91d8-5ab6e411345c')\"\n",
              "              title=\"Convert this dataframe to an interactive table.\"\n",
              "              style=\"display:none;\">\n",
              "        \n",
              "  <svg xmlns=\"http://www.w3.org/2000/svg\" height=\"24px\"viewBox=\"0 0 24 24\"\n",
              "       width=\"24px\">\n",
              "    <path d=\"M0 0h24v24H0V0z\" fill=\"none\"/>\n",
              "    <path d=\"M18.56 5.44l.94 2.06.94-2.06 2.06-.94-2.06-.94-.94-2.06-.94 2.06-2.06.94zm-11 1L8.5 8.5l.94-2.06 2.06-.94-2.06-.94L8.5 2.5l-.94 2.06-2.06.94zm10 10l.94 2.06.94-2.06 2.06-.94-2.06-.94-.94-2.06-.94 2.06-2.06.94z\"/><path d=\"M17.41 7.96l-1.37-1.37c-.4-.4-.92-.59-1.43-.59-.52 0-1.04.2-1.43.59L10.3 9.45l-7.72 7.72c-.78.78-.78 2.05 0 2.83L4 21.41c.39.39.9.59 1.41.59.51 0 1.02-.2 1.41-.59l7.78-7.78 2.81-2.81c.8-.78.8-2.07 0-2.86zM5.41 20L4 18.59l7.72-7.72 1.47 1.35L5.41 20z\"/>\n",
              "  </svg>\n",
              "      </button>\n",
              "      \n",
              "  <style>\n",
              "    .colab-df-container {\n",
              "      display:flex;\n",
              "      flex-wrap:wrap;\n",
              "      gap: 12px;\n",
              "    }\n",
              "\n",
              "    .colab-df-convert {\n",
              "      background-color: #E8F0FE;\n",
              "      border: none;\n",
              "      border-radius: 50%;\n",
              "      cursor: pointer;\n",
              "      display: none;\n",
              "      fill: #1967D2;\n",
              "      height: 32px;\n",
              "      padding: 0 0 0 0;\n",
              "      width: 32px;\n",
              "    }\n",
              "\n",
              "    .colab-df-convert:hover {\n",
              "      background-color: #E2EBFA;\n",
              "      box-shadow: 0px 1px 2px rgba(60, 64, 67, 0.3), 0px 1px 3px 1px rgba(60, 64, 67, 0.15);\n",
              "      fill: #174EA6;\n",
              "    }\n",
              "\n",
              "    [theme=dark] .colab-df-convert {\n",
              "      background-color: #3B4455;\n",
              "      fill: #D2E3FC;\n",
              "    }\n",
              "\n",
              "    [theme=dark] .colab-df-convert:hover {\n",
              "      background-color: #434B5C;\n",
              "      box-shadow: 0px 1px 3px 1px rgba(0, 0, 0, 0.15);\n",
              "      filter: drop-shadow(0px 1px 2px rgba(0, 0, 0, 0.3));\n",
              "      fill: #FFFFFF;\n",
              "    }\n",
              "  </style>\n",
              "\n",
              "      <script>\n",
              "        const buttonEl =\n",
              "          document.querySelector('#df-3ed24cac-7d98-424a-91d8-5ab6e411345c button.colab-df-convert');\n",
              "        buttonEl.style.display =\n",
              "          google.colab.kernel.accessAllowed ? 'block' : 'none';\n",
              "\n",
              "        async function convertToInteractive(key) {\n",
              "          const element = document.querySelector('#df-3ed24cac-7d98-424a-91d8-5ab6e411345c');\n",
              "          const dataTable =\n",
              "            await google.colab.kernel.invokeFunction('convertToInteractive',\n",
              "                                                     [key], {});\n",
              "          if (!dataTable) return;\n",
              "\n",
              "          const docLinkHtml = 'Like what you see? Visit the ' +\n",
              "            '<a target=\"_blank\" href=https://colab.research.google.com/notebooks/data_table.ipynb>data table notebook</a>'\n",
              "            + ' to learn more about interactive tables.';\n",
              "          element.innerHTML = '';\n",
              "          dataTable['output_type'] = 'display_data';\n",
              "          await google.colab.output.renderOutput(dataTable, element);\n",
              "          const docLink = document.createElement('div');\n",
              "          docLink.innerHTML = docLinkHtml;\n",
              "          element.appendChild(docLink);\n",
              "        }\n",
              "      </script>\n",
              "    </div>\n",
              "  </div>\n",
              "  "
            ],
            "text/plain": [
              "  Tipo sanguíneo  Doadores  f_i   f_ri  f_ac   f_rac\n",
              "0             A+        15   15  25.00    15   25.00\n",
              "1             A-         2    2   3.33    17   28.33\n",
              "2             B+         6    6  10.00    23   38.33\n",
              "3             B-         1    1   1.67    24   40.00\n",
              "4            AB+         1    1   1.67    25   41.67\n",
              "5            AB-         1    1   1.67    26   43.34\n",
              "6             O+        32   32  53.33    58   96.67\n",
              "7             O-         2    2   3.33    60  100.00"
            ]
          },
          "metadata": {},
          "execution_count": 379
        }
      ]
    },
    {
      "cell_type": "markdown",
      "source": [
        "## Tabela de distribuição de frequência caso quantitativos\n"
      ],
      "metadata": {
        "id": "MM5s8XjCpmIk"
      }
    },
    {
      "cell_type": "code",
      "source": [
        "lista_pessoas = pd.DataFrame([2, 5, 4, 7, 4, 1, 6, 2, 2, 5, 4, 12,\n",
        "                              8, 6, 4, 5, 2, 8, 6, 4, 5, 2, 2, 2,\n",
        "                              4, 7, 2, 5, 6, 4, 1, 5, 10, 2, 2, 10,\n",
        "                              2, 10, 6, 4, 3, 4, 6, 3, 8, 4, 2, 1])"
      ],
      "metadata": {
        "id": "meqlrFu3pwed"
      },
      "execution_count": null,
      "outputs": []
    },
    {
      "cell_type": "code",
      "source": [
        "#Frequência Relativa\n",
        "contagens = lista_pessoas.value_counts()\n",
        "contagens = pd.DataFrame(contagens)\n",
        "contagens.columns = [\"f_i\"]\n",
        "soma_fi = sum(contagens[\"f_i\"])\n",
        "\n",
        "#Frequência Relativa\n",
        "contagens[\"f_ri\"] = np.round(contagens[\"f_i\"] / soma_fi * 100, 2)\n",
        "soma_fri = sum(contagens[\"f_ri\"])\n",
        "\n",
        "#Frequência acumulada\n",
        "contagens[\"f_ac\"] = contagens[\"f_i\"].cumsum()\n",
        "\n",
        "#Frequência relativa acumulada\n",
        "contagens[\"f_rac\"] = np.round(contagens[\"f_ri\"].cumsum(),2)\n",
        "\n",
        "print(f\"Soma da Frequência Absoluta {soma_fi}\")\n",
        "print(f\"Soma da Frequência Absoluta {np.round(soma_fri, 2)} %\")\n",
        "print(\" \")\n",
        "contagens"
      ],
      "metadata": {
        "colab": {
          "base_uri": "https://localhost:8080/",
          "height": 449
        },
        "id": "kX2nr4r7sDA0",
        "outputId": "2e82ed4c-6e85-481e-9dd7-b02b07c5da76"
      },
      "execution_count": null,
      "outputs": [
        {
          "output_type": "stream",
          "name": "stdout",
          "text": [
            "Soma da Frequência Absoluta 48\n",
            "Soma da Frequência Absoluta 100.0 %\n",
            " \n"
          ]
        },
        {
          "output_type": "execute_result",
          "data": {
            "text/html": [
              "\n",
              "  <div id=\"df-c13c7cce-1a5d-4b09-8771-a120a642e3e7\">\n",
              "    <div class=\"colab-df-container\">\n",
              "      <div>\n",
              "<style scoped>\n",
              "    .dataframe tbody tr th:only-of-type {\n",
              "        vertical-align: middle;\n",
              "    }\n",
              "\n",
              "    .dataframe tbody tr th {\n",
              "        vertical-align: top;\n",
              "    }\n",
              "\n",
              "    .dataframe thead th {\n",
              "        text-align: right;\n",
              "    }\n",
              "</style>\n",
              "<table border=\"1\" class=\"dataframe\">\n",
              "  <thead>\n",
              "    <tr style=\"text-align: right;\">\n",
              "      <th></th>\n",
              "      <th>f_i</th>\n",
              "      <th>f_ri</th>\n",
              "      <th>f_ac</th>\n",
              "      <th>f_rac</th>\n",
              "    </tr>\n",
              "    <tr>\n",
              "      <th>0</th>\n",
              "      <th></th>\n",
              "      <th></th>\n",
              "      <th></th>\n",
              "      <th></th>\n",
              "    </tr>\n",
              "  </thead>\n",
              "  <tbody>\n",
              "    <tr>\n",
              "      <th>2</th>\n",
              "      <td>12</td>\n",
              "      <td>25.00</td>\n",
              "      <td>12</td>\n",
              "      <td>25.00</td>\n",
              "    </tr>\n",
              "    <tr>\n",
              "      <th>4</th>\n",
              "      <td>10</td>\n",
              "      <td>20.83</td>\n",
              "      <td>22</td>\n",
              "      <td>45.83</td>\n",
              "    </tr>\n",
              "    <tr>\n",
              "      <th>6</th>\n",
              "      <td>6</td>\n",
              "      <td>12.50</td>\n",
              "      <td>28</td>\n",
              "      <td>58.33</td>\n",
              "    </tr>\n",
              "    <tr>\n",
              "      <th>5</th>\n",
              "      <td>6</td>\n",
              "      <td>12.50</td>\n",
              "      <td>34</td>\n",
              "      <td>70.83</td>\n",
              "    </tr>\n",
              "    <tr>\n",
              "      <th>10</th>\n",
              "      <td>3</td>\n",
              "      <td>6.25</td>\n",
              "      <td>37</td>\n",
              "      <td>77.08</td>\n",
              "    </tr>\n",
              "    <tr>\n",
              "      <th>8</th>\n",
              "      <td>3</td>\n",
              "      <td>6.25</td>\n",
              "      <td>40</td>\n",
              "      <td>83.33</td>\n",
              "    </tr>\n",
              "    <tr>\n",
              "      <th>1</th>\n",
              "      <td>3</td>\n",
              "      <td>6.25</td>\n",
              "      <td>43</td>\n",
              "      <td>89.58</td>\n",
              "    </tr>\n",
              "    <tr>\n",
              "      <th>7</th>\n",
              "      <td>2</td>\n",
              "      <td>4.17</td>\n",
              "      <td>45</td>\n",
              "      <td>93.75</td>\n",
              "    </tr>\n",
              "    <tr>\n",
              "      <th>3</th>\n",
              "      <td>2</td>\n",
              "      <td>4.17</td>\n",
              "      <td>47</td>\n",
              "      <td>97.92</td>\n",
              "    </tr>\n",
              "    <tr>\n",
              "      <th>12</th>\n",
              "      <td>1</td>\n",
              "      <td>2.08</td>\n",
              "      <td>48</td>\n",
              "      <td>100.00</td>\n",
              "    </tr>\n",
              "  </tbody>\n",
              "</table>\n",
              "</div>\n",
              "      <button class=\"colab-df-convert\" onclick=\"convertToInteractive('df-c13c7cce-1a5d-4b09-8771-a120a642e3e7')\"\n",
              "              title=\"Convert this dataframe to an interactive table.\"\n",
              "              style=\"display:none;\">\n",
              "        \n",
              "  <svg xmlns=\"http://www.w3.org/2000/svg\" height=\"24px\"viewBox=\"0 0 24 24\"\n",
              "       width=\"24px\">\n",
              "    <path d=\"M0 0h24v24H0V0z\" fill=\"none\"/>\n",
              "    <path d=\"M18.56 5.44l.94 2.06.94-2.06 2.06-.94-2.06-.94-.94-2.06-.94 2.06-2.06.94zm-11 1L8.5 8.5l.94-2.06 2.06-.94-2.06-.94L8.5 2.5l-.94 2.06-2.06.94zm10 10l.94 2.06.94-2.06 2.06-.94-2.06-.94-.94-2.06-.94 2.06-2.06.94z\"/><path d=\"M17.41 7.96l-1.37-1.37c-.4-.4-.92-.59-1.43-.59-.52 0-1.04.2-1.43.59L10.3 9.45l-7.72 7.72c-.78.78-.78 2.05 0 2.83L4 21.41c.39.39.9.59 1.41.59.51 0 1.02-.2 1.41-.59l7.78-7.78 2.81-2.81c.8-.78.8-2.07 0-2.86zM5.41 20L4 18.59l7.72-7.72 1.47 1.35L5.41 20z\"/>\n",
              "  </svg>\n",
              "      </button>\n",
              "      \n",
              "  <style>\n",
              "    .colab-df-container {\n",
              "      display:flex;\n",
              "      flex-wrap:wrap;\n",
              "      gap: 12px;\n",
              "    }\n",
              "\n",
              "    .colab-df-convert {\n",
              "      background-color: #E8F0FE;\n",
              "      border: none;\n",
              "      border-radius: 50%;\n",
              "      cursor: pointer;\n",
              "      display: none;\n",
              "      fill: #1967D2;\n",
              "      height: 32px;\n",
              "      padding: 0 0 0 0;\n",
              "      width: 32px;\n",
              "    }\n",
              "\n",
              "    .colab-df-convert:hover {\n",
              "      background-color: #E2EBFA;\n",
              "      box-shadow: 0px 1px 2px rgba(60, 64, 67, 0.3), 0px 1px 3px 1px rgba(60, 64, 67, 0.15);\n",
              "      fill: #174EA6;\n",
              "    }\n",
              "\n",
              "    [theme=dark] .colab-df-convert {\n",
              "      background-color: #3B4455;\n",
              "      fill: #D2E3FC;\n",
              "    }\n",
              "\n",
              "    [theme=dark] .colab-df-convert:hover {\n",
              "      background-color: #434B5C;\n",
              "      box-shadow: 0px 1px 3px 1px rgba(0, 0, 0, 0.15);\n",
              "      filter: drop-shadow(0px 1px 2px rgba(0, 0, 0, 0.3));\n",
              "      fill: #FFFFFF;\n",
              "    }\n",
              "  </style>\n",
              "\n",
              "      <script>\n",
              "        const buttonEl =\n",
              "          document.querySelector('#df-c13c7cce-1a5d-4b09-8771-a120a642e3e7 button.colab-df-convert');\n",
              "        buttonEl.style.display =\n",
              "          google.colab.kernel.accessAllowed ? 'block' : 'none';\n",
              "\n",
              "        async function convertToInteractive(key) {\n",
              "          const element = document.querySelector('#df-c13c7cce-1a5d-4b09-8771-a120a642e3e7');\n",
              "          const dataTable =\n",
              "            await google.colab.kernel.invokeFunction('convertToInteractive',\n",
              "                                                     [key], {});\n",
              "          if (!dataTable) return;\n",
              "\n",
              "          const docLinkHtml = 'Like what you see? Visit the ' +\n",
              "            '<a target=\"_blank\" href=https://colab.research.google.com/notebooks/data_table.ipynb>data table notebook</a>'\n",
              "            + ' to learn more about interactive tables.';\n",
              "          element.innerHTML = '';\n",
              "          dataTable['output_type'] = 'display_data';\n",
              "          await google.colab.output.renderOutput(dataTable, element);\n",
              "          const docLink = document.createElement('div');\n",
              "          docLink.innerHTML = docLinkHtml;\n",
              "          element.appendChild(docLink);\n",
              "        }\n",
              "      </script>\n",
              "    </div>\n",
              "  </div>\n",
              "  "
            ],
            "text/plain": [
              "    f_i   f_ri  f_ac   f_rac\n",
              "0                           \n",
              "2    12  25.00    12   25.00\n",
              "4    10  20.83    22   45.83\n",
              "6     6  12.50    28   58.33\n",
              "5     6  12.50    34   70.83\n",
              "10    3   6.25    37   77.08\n",
              "8     3   6.25    40   83.33\n",
              "1     3   6.25    43   89.58\n",
              "7     2   4.17    45   93.75\n",
              "3     2   4.17    47   97.92\n",
              "12    1   2.08    48  100.00"
            ]
          },
          "metadata": {},
          "execution_count": 85
        }
      ]
    },
    {
      "cell_type": "markdown",
      "source": [
        "## Representação gráfica dos resultados"
      ],
      "metadata": {
        "id": "IAWEbTimuM5b"
      }
    },
    {
      "cell_type": "markdown",
      "source": [
        "#### Gráficos de barra"
      ],
      "metadata": {
        "id": "zD8KuHMS_XET"
      }
    },
    {
      "cell_type": "code",
      "source": [
        "dados = pd.DataFrame([[\"Exelente\", 58],\n",
        "                      [\"Bom\", 18],\n",
        "                      [\"Regular\", 32],\n",
        "                      [\"Ruim\", 12]])\n",
        "dados.columns = [\"Satisfação\", \"Frequência absoluta\"]\n",
        "dados"
      ],
      "metadata": {
        "colab": {
          "base_uri": "https://localhost:8080/",
          "height": 175
        },
        "id": "zT0HDArvuai6",
        "outputId": "7d5522fb-1b2c-4f68-e849-5e8deecd9272"
      },
      "execution_count": null,
      "outputs": [
        {
          "output_type": "execute_result",
          "data": {
            "text/html": [
              "\n",
              "  <div id=\"df-c2ba1c30-6c45-4b5e-8752-01957dbb375e\">\n",
              "    <div class=\"colab-df-container\">\n",
              "      <div>\n",
              "<style scoped>\n",
              "    .dataframe tbody tr th:only-of-type {\n",
              "        vertical-align: middle;\n",
              "    }\n",
              "\n",
              "    .dataframe tbody tr th {\n",
              "        vertical-align: top;\n",
              "    }\n",
              "\n",
              "    .dataframe thead th {\n",
              "        text-align: right;\n",
              "    }\n",
              "</style>\n",
              "<table border=\"1\" class=\"dataframe\">\n",
              "  <thead>\n",
              "    <tr style=\"text-align: right;\">\n",
              "      <th></th>\n",
              "      <th>Satisfação</th>\n",
              "      <th>Frequência absoluta</th>\n",
              "    </tr>\n",
              "  </thead>\n",
              "  <tbody>\n",
              "    <tr>\n",
              "      <th>0</th>\n",
              "      <td>Exelente</td>\n",
              "      <td>58</td>\n",
              "    </tr>\n",
              "    <tr>\n",
              "      <th>1</th>\n",
              "      <td>Bom</td>\n",
              "      <td>18</td>\n",
              "    </tr>\n",
              "    <tr>\n",
              "      <th>2</th>\n",
              "      <td>Regular</td>\n",
              "      <td>32</td>\n",
              "    </tr>\n",
              "    <tr>\n",
              "      <th>3</th>\n",
              "      <td>Ruim</td>\n",
              "      <td>12</td>\n",
              "    </tr>\n",
              "  </tbody>\n",
              "</table>\n",
              "</div>\n",
              "      <button class=\"colab-df-convert\" onclick=\"convertToInteractive('df-c2ba1c30-6c45-4b5e-8752-01957dbb375e')\"\n",
              "              title=\"Convert this dataframe to an interactive table.\"\n",
              "              style=\"display:none;\">\n",
              "        \n",
              "  <svg xmlns=\"http://www.w3.org/2000/svg\" height=\"24px\"viewBox=\"0 0 24 24\"\n",
              "       width=\"24px\">\n",
              "    <path d=\"M0 0h24v24H0V0z\" fill=\"none\"/>\n",
              "    <path d=\"M18.56 5.44l.94 2.06.94-2.06 2.06-.94-2.06-.94-.94-2.06-.94 2.06-2.06.94zm-11 1L8.5 8.5l.94-2.06 2.06-.94-2.06-.94L8.5 2.5l-.94 2.06-2.06.94zm10 10l.94 2.06.94-2.06 2.06-.94-2.06-.94-.94-2.06-.94 2.06-2.06.94z\"/><path d=\"M17.41 7.96l-1.37-1.37c-.4-.4-.92-.59-1.43-.59-.52 0-1.04.2-1.43.59L10.3 9.45l-7.72 7.72c-.78.78-.78 2.05 0 2.83L4 21.41c.39.39.9.59 1.41.59.51 0 1.02-.2 1.41-.59l7.78-7.78 2.81-2.81c.8-.78.8-2.07 0-2.86zM5.41 20L4 18.59l7.72-7.72 1.47 1.35L5.41 20z\"/>\n",
              "  </svg>\n",
              "      </button>\n",
              "      \n",
              "  <style>\n",
              "    .colab-df-container {\n",
              "      display:flex;\n",
              "      flex-wrap:wrap;\n",
              "      gap: 12px;\n",
              "    }\n",
              "\n",
              "    .colab-df-convert {\n",
              "      background-color: #E8F0FE;\n",
              "      border: none;\n",
              "      border-radius: 50%;\n",
              "      cursor: pointer;\n",
              "      display: none;\n",
              "      fill: #1967D2;\n",
              "      height: 32px;\n",
              "      padding: 0 0 0 0;\n",
              "      width: 32px;\n",
              "    }\n",
              "\n",
              "    .colab-df-convert:hover {\n",
              "      background-color: #E2EBFA;\n",
              "      box-shadow: 0px 1px 2px rgba(60, 64, 67, 0.3), 0px 1px 3px 1px rgba(60, 64, 67, 0.15);\n",
              "      fill: #174EA6;\n",
              "    }\n",
              "\n",
              "    [theme=dark] .colab-df-convert {\n",
              "      background-color: #3B4455;\n",
              "      fill: #D2E3FC;\n",
              "    }\n",
              "\n",
              "    [theme=dark] .colab-df-convert:hover {\n",
              "      background-color: #434B5C;\n",
              "      box-shadow: 0px 1px 3px 1px rgba(0, 0, 0, 0.15);\n",
              "      filter: drop-shadow(0px 1px 2px rgba(0, 0, 0, 0.3));\n",
              "      fill: #FFFFFF;\n",
              "    }\n",
              "  </style>\n",
              "\n",
              "      <script>\n",
              "        const buttonEl =\n",
              "          document.querySelector('#df-c2ba1c30-6c45-4b5e-8752-01957dbb375e button.colab-df-convert');\n",
              "        buttonEl.style.display =\n",
              "          google.colab.kernel.accessAllowed ? 'block' : 'none';\n",
              "\n",
              "        async function convertToInteractive(key) {\n",
              "          const element = document.querySelector('#df-c2ba1c30-6c45-4b5e-8752-01957dbb375e');\n",
              "          const dataTable =\n",
              "            await google.colab.kernel.invokeFunction('convertToInteractive',\n",
              "                                                     [key], {});\n",
              "          if (!dataTable) return;\n",
              "\n",
              "          const docLinkHtml = 'Like what you see? Visit the ' +\n",
              "            '<a target=\"_blank\" href=https://colab.research.google.com/notebooks/data_table.ipynb>data table notebook</a>'\n",
              "            + ' to learn more about interactive tables.';\n",
              "          element.innerHTML = '';\n",
              "          dataTable['output_type'] = 'display_data';\n",
              "          await google.colab.output.renderOutput(dataTable, element);\n",
              "          const docLink = document.createElement('div');\n",
              "          docLink.innerHTML = docLinkHtml;\n",
              "          element.appendChild(docLink);\n",
              "        }\n",
              "      </script>\n",
              "    </div>\n",
              "  </div>\n",
              "  "
            ],
            "text/plain": [
              "  Satisfação  Frequência absoluta\n",
              "0   Exelente                   58\n",
              "1        Bom                   18\n",
              "2    Regular                   32\n",
              "3       Ruim                   12"
            ]
          },
          "metadata": {},
          "execution_count": 616
        }
      ]
    },
    {
      "cell_type": "code",
      "source": [
        "#Gráfico barra vertical\n",
        "fig, ax = plt.subplots()\n",
        "ax = sns.barplot(x=\"Satisfação\", y=\"Frequência absoluta\", data=dados)"
      ],
      "metadata": {
        "colab": {
          "base_uri": "https://localhost:8080/",
          "height": 280
        },
        "id": "h2ds1mkH3KG-",
        "outputId": "a033a7e7-6409-4ebc-9a1f-dc607cd7083c"
      },
      "execution_count": null,
      "outputs": [
        {
          "output_type": "display_data",
          "data": {
            "image/png": "[encoded data removed]",
            "text/plain": [
              "<Figure size 432x288 with 1 Axes>"
            ]
          },
          "metadata": {
            "needs_background": "light"
          }
        }
      ]
    },
    {
      "cell_type": "code",
      "source": [
        "#Gráfico barra horizontal\n",
        "fig, ax = plt.subplots()\n",
        "ax = sns.barplot(y=\"Satisfação\", x=\"Frequência absoluta\", data=dados, )"
      ],
      "metadata": {
        "colab": {
          "base_uri": "https://localhost:8080/",
          "height": 280
        },
        "id": "B9BTn0Uc-hvF",
        "outputId": "a4de3342-6de5-4f55-fdb1-5015953e21fe"
      },
      "execution_count": null,
      "outputs": [
        {
          "output_type": "display_data",
          "data": {
            "image/png": "[encoded data removed]",
            "text/plain": [
              "<Figure size 432x288 with 1 Axes>"
            ]
          },
          "metadata": {
            "needs_background": "light"
          }
        }
      ]
    },
    {
      "cell_type": "markdown",
      "source": [
        "#### Gráficos de Pizza ou de Setores"
      ],
      "metadata": {
        "id": "d_tc4Hgs_abX"
      }
    },
    {
      "cell_type": "code",
      "source": [
        "dados = pd.DataFrame([[\"PMDB\", 18],\n",
        "                      [\"REDE\", 22],\n",
        "                      [\"PDT\", 12],\n",
        "                      [\"PSDB\", 25],\n",
        "                      [\"PC do B\", 8],\n",
        "                      [\"PV\", 5],\n",
        "                      [\"Outros\", 10]])\n",
        "\n",
        "dados.columns = [\"Partido\", \"Porcentagem\"]\n",
        "dados = dados.sort_values(\"Porcentagem\", ascending= False)\n",
        "dados"
      ],
      "metadata": {
        "colab": {
          "base_uri": "https://localhost:8080/",
          "height": 268
        },
        "id": "GRlIODat_u9I",
        "outputId": "f0e61681-fefd-4e0d-b744-cd4d959dd24a"
      },
      "execution_count": null,
      "outputs": [
        {
          "output_type": "execute_result",
          "data": {
            "text/html": [
              "\n",
              "  <div id=\"df-c75ee78b-f216-44a3-af2a-da47d36dafec\">\n",
              "    <div class=\"colab-df-container\">\n",
              "      <div>\n",
              "<style scoped>\n",
              "    .dataframe tbody tr th:only-of-type {\n",
              "        vertical-align: middle;\n",
              "    }\n",
              "\n",
              "    .dataframe tbody tr th {\n",
              "        vertical-align: top;\n",
              "    }\n",
              "\n",
              "    .dataframe thead th {\n",
              "        text-align: right;\n",
              "    }\n",
              "</style>\n",
              "<table border=\"1\" class=\"dataframe\">\n",
              "  <thead>\n",
              "    <tr style=\"text-align: right;\">\n",
              "      <th></th>\n",
              "      <th>Partido</th>\n",
              "      <th>Porcentagem</th>\n",
              "    </tr>\n",
              "  </thead>\n",
              "  <tbody>\n",
              "    <tr>\n",
              "      <th>3</th>\n",
              "      <td>PSDB</td>\n",
              "      <td>25</td>\n",
              "    </tr>\n",
              "    <tr>\n",
              "      <th>1</th>\n",
              "      <td>REDE</td>\n",
              "      <td>22</td>\n",
              "    </tr>\n",
              "    <tr>\n",
              "      <th>0</th>\n",
              "      <td>PMDB</td>\n",
              "      <td>18</td>\n",
              "    </tr>\n",
              "    <tr>\n",
              "      <th>2</th>\n",
              "      <td>PDT</td>\n",
              "      <td>12</td>\n",
              "    </tr>\n",
              "    <tr>\n",
              "      <th>6</th>\n",
              "      <td>Outros</td>\n",
              "      <td>10</td>\n",
              "    </tr>\n",
              "    <tr>\n",
              "      <th>4</th>\n",
              "      <td>PC do B</td>\n",
              "      <td>8</td>\n",
              "    </tr>\n",
              "    <tr>\n",
              "      <th>5</th>\n",
              "      <td>PV</td>\n",
              "      <td>5</td>\n",
              "    </tr>\n",
              "  </tbody>\n",
              "</table>\n",
              "</div>\n",
              "      <button class=\"colab-df-convert\" onclick=\"convertToInteractive('df-c75ee78b-f216-44a3-af2a-da47d36dafec')\"\n",
              "              title=\"Convert this dataframe to an interactive table.\"\n",
              "              style=\"display:none;\">\n",
              "        \n",
              "  <svg xmlns=\"http://www.w3.org/2000/svg\" height=\"24px\"viewBox=\"0 0 24 24\"\n",
              "       width=\"24px\">\n",
              "    <path d=\"M0 0h24v24H0V0z\" fill=\"none\"/>\n",
              "    <path d=\"M18.56 5.44l.94 2.06.94-2.06 2.06-.94-2.06-.94-.94-2.06-.94 2.06-2.06.94zm-11 1L8.5 8.5l.94-2.06 2.06-.94-2.06-.94L8.5 2.5l-.94 2.06-2.06.94zm10 10l.94 2.06.94-2.06 2.06-.94-2.06-.94-.94-2.06-.94 2.06-2.06.94z\"/><path d=\"M17.41 7.96l-1.37-1.37c-.4-.4-.92-.59-1.43-.59-.52 0-1.04.2-1.43.59L10.3 9.45l-7.72 7.72c-.78.78-.78 2.05 0 2.83L4 21.41c.39.39.9.59 1.41.59.51 0 1.02-.2 1.41-.59l7.78-7.78 2.81-2.81c.8-.78.8-2.07 0-2.86zM5.41 20L4 18.59l7.72-7.72 1.47 1.35L5.41 20z\"/>\n",
              "  </svg>\n",
              "      </button>\n",
              "      \n",
              "  <style>\n",
              "    .colab-df-container {\n",
              "      display:flex;\n",
              "      flex-wrap:wrap;\n",
              "      gap: 12px;\n",
              "    }\n",
              "\n",
              "    .colab-df-convert {\n",
              "      background-color: #E8F0FE;\n",
              "      border: none;\n",
              "      border-radius: 50%;\n",
              "      cursor: pointer;\n",
              "      display: none;\n",
              "      fill: #1967D2;\n",
              "      height: 32px;\n",
              "      padding: 0 0 0 0;\n",
              "      width: 32px;\n",
              "    }\n",
              "\n",
              "    .colab-df-convert:hover {\n",
              "      background-color: #E2EBFA;\n",
              "      box-shadow: 0px 1px 2px rgba(60, 64, 67, 0.3), 0px 1px 3px 1px rgba(60, 64, 67, 0.15);\n",
              "      fill: #174EA6;\n",
              "    }\n",
              "\n",
              "    [theme=dark] .colab-df-convert {\n",
              "      background-color: #3B4455;\n",
              "      fill: #D2E3FC;\n",
              "    }\n",
              "\n",
              "    [theme=dark] .colab-df-convert:hover {\n",
              "      background-color: #434B5C;\n",
              "      box-shadow: 0px 1px 3px 1px rgba(0, 0, 0, 0.15);\n",
              "      filter: drop-shadow(0px 1px 2px rgba(0, 0, 0, 0.3));\n",
              "      fill: #FFFFFF;\n",
              "    }\n",
              "  </style>\n",
              "\n",
              "      <script>\n",
              "        const buttonEl =\n",
              "          document.querySelector('#df-c75ee78b-f216-44a3-af2a-da47d36dafec button.colab-df-convert');\n",
              "        buttonEl.style.display =\n",
              "          google.colab.kernel.accessAllowed ? 'block' : 'none';\n",
              "\n",
              "        async function convertToInteractive(key) {\n",
              "          const element = document.querySelector('#df-c75ee78b-f216-44a3-af2a-da47d36dafec');\n",
              "          const dataTable =\n",
              "            await google.colab.kernel.invokeFunction('convertToInteractive',\n",
              "                                                     [key], {});\n",
              "          if (!dataTable) return;\n",
              "\n",
              "          const docLinkHtml = 'Like what you see? Visit the ' +\n",
              "            '<a target=\"_blank\" href=https://colab.research.google.com/notebooks/data_table.ipynb>data table notebook</a>'\n",
              "            + ' to learn more about interactive tables.';\n",
              "          element.innerHTML = '';\n",
              "          dataTable['output_type'] = 'display_data';\n",
              "          await google.colab.output.renderOutput(dataTable, element);\n",
              "          const docLink = document.createElement('div');\n",
              "          docLink.innerHTML = docLinkHtml;\n",
              "          element.appendChild(docLink);\n",
              "        }\n",
              "      </script>\n",
              "    </div>\n",
              "  </div>\n",
              "  "
            ],
            "text/plain": [
              "   Partido  Porcentagem\n",
              "3     PSDB           25\n",
              "1     REDE           22\n",
              "0     PMDB           18\n",
              "2      PDT           12\n",
              "6   Outros           10\n",
              "4  PC do B            8\n",
              "5       PV            5"
            ]
          },
          "metadata": {},
          "execution_count": 573
        }
      ]
    },
    {
      "cell_type": "code",
      "source": [
        "#Gráfico barra horizontal\n",
        "fig, ax = plt.subplots()\n",
        "ax.pie(dados[\"Porcentagem\"], labels = dados[\"Partido\"], autopct=\"%1.1f%%\",\n",
        "             shadow = True, explode = (0,0.1,0,0,0,0,0), startangle=90)\n",
        "ax.axis(\"equal\")\n",
        "plt.show()"
      ],
      "metadata": {
        "colab": {
          "base_uri": "https://localhost:8080/",
          "height": 252
        },
        "id": "dAzhojDFI9iN",
        "outputId": "b4044671-ac06-4033-fa9d-8145702f4dff"
      },
      "execution_count": null,
      "outputs": [
        {
          "output_type": "display_data",
          "data": {
            "image/png": "[encoded data removed]",
            "text/plain": [
              "<Figure size 432x288 with 1 Axes>"
            ]
          },
          "metadata": {}
        }
      ]
    },
    {
      "cell_type": "markdown",
      "source": [
        "### Diagrama de pareto"
      ],
      "metadata": {
        "id": "SgrNlSshLaew"
      }
    },
    {
      "cell_type": "code",
      "source": [
        "from matplotlib.ticker import PercentFormatter"
      ],
      "metadata": {
        "id": "-2600xeyNGaD"
      },
      "execution_count": null,
      "outputs": []
    },
    {
      "cell_type": "code",
      "source": [
        "dados[\"Porcentagem Acumulada\"] = dados[\"Porcentagem\"].cumsum()\n",
        "dados"
      ],
      "metadata": {
        "colab": {
          "base_uri": "https://localhost:8080/",
          "height": 268
        },
        "id": "9S-V9uPTMqEa",
        "outputId": "bfffd539-b490-4146-a063-68a0fa966cf8"
      },
      "execution_count": null,
      "outputs": [
        {
          "output_type": "execute_result",
          "data": {
            "text/html": [
              "\n",
              "  <div id=\"df-35bfe540-3c78-4ec2-a3c9-7365085d5368\">\n",
              "    <div class=\"colab-df-container\">\n",
              "      <div>\n",
              "<style scoped>\n",
              "    .dataframe tbody tr th:only-of-type {\n",
              "        vertical-align: middle;\n",
              "    }\n",
              "\n",
              "    .dataframe tbody tr th {\n",
              "        vertical-align: top;\n",
              "    }\n",
              "\n",
              "    .dataframe thead th {\n",
              "        text-align: right;\n",
              "    }\n",
              "</style>\n",
              "<table border=\"1\" class=\"dataframe\">\n",
              "  <thead>\n",
              "    <tr style=\"text-align: right;\">\n",
              "      <th></th>\n",
              "      <th>Partido</th>\n",
              "      <th>Porcentagem</th>\n",
              "      <th>Porcentagem Acumulada</th>\n",
              "    </tr>\n",
              "  </thead>\n",
              "  <tbody>\n",
              "    <tr>\n",
              "      <th>3</th>\n",
              "      <td>PSDB</td>\n",
              "      <td>25</td>\n",
              "      <td>25</td>\n",
              "    </tr>\n",
              "    <tr>\n",
              "      <th>1</th>\n",
              "      <td>REDE</td>\n",
              "      <td>22</td>\n",
              "      <td>47</td>\n",
              "    </tr>\n",
              "    <tr>\n",
              "      <th>0</th>\n",
              "      <td>PMDB</td>\n",
              "      <td>18</td>\n",
              "      <td>65</td>\n",
              "    </tr>\n",
              "    <tr>\n",
              "      <th>2</th>\n",
              "      <td>PDT</td>\n",
              "      <td>12</td>\n",
              "      <td>77</td>\n",
              "    </tr>\n",
              "    <tr>\n",
              "      <th>6</th>\n",
              "      <td>Outros</td>\n",
              "      <td>10</td>\n",
              "      <td>87</td>\n",
              "    </tr>\n",
              "    <tr>\n",
              "      <th>4</th>\n",
              "      <td>PC do B</td>\n",
              "      <td>8</td>\n",
              "      <td>95</td>\n",
              "    </tr>\n",
              "    <tr>\n",
              "      <th>5</th>\n",
              "      <td>PV</td>\n",
              "      <td>5</td>\n",
              "      <td>100</td>\n",
              "    </tr>\n",
              "  </tbody>\n",
              "</table>\n",
              "</div>\n",
              "      <button class=\"colab-df-convert\" onclick=\"convertToInteractive('df-35bfe540-3c78-4ec2-a3c9-7365085d5368')\"\n",
              "              title=\"Convert this dataframe to an interactive table.\"\n",
              "              style=\"display:none;\">\n",
              "        \n",
              "  <svg xmlns=\"http://www.w3.org/2000/svg\" height=\"24px\"viewBox=\"0 0 24 24\"\n",
              "       width=\"24px\">\n",
              "    <path d=\"M0 0h24v24H0V0z\" fill=\"none\"/>\n",
              "    <path d=\"M18.56 5.44l.94 2.06.94-2.06 2.06-.94-2.06-.94-.94-2.06-.94 2.06-2.06.94zm-11 1L8.5 8.5l.94-2.06 2.06-.94-2.06-.94L8.5 2.5l-.94 2.06-2.06.94zm10 10l.94 2.06.94-2.06 2.06-.94-2.06-.94-.94-2.06-.94 2.06-2.06.94z\"/><path d=\"M17.41 7.96l-1.37-1.37c-.4-.4-.92-.59-1.43-.59-.52 0-1.04.2-1.43.59L10.3 9.45l-7.72 7.72c-.78.78-.78 2.05 0 2.83L4 21.41c.39.39.9.59 1.41.59.51 0 1.02-.2 1.41-.59l7.78-7.78 2.81-2.81c.8-.78.8-2.07 0-2.86zM5.41 20L4 18.59l7.72-7.72 1.47 1.35L5.41 20z\"/>\n",
              "  </svg>\n",
              "      </button>\n",
              "      \n",
              "  <style>\n",
              "    .colab-df-container {\n",
              "      display:flex;\n",
              "      flex-wrap:wrap;\n",
              "      gap: 12px;\n",
              "    }\n",
              "\n",
              "    .colab-df-convert {\n",
              "      background-color: #E8F0FE;\n",
              "      border: none;\n",
              "      border-radius: 50%;\n",
              "      cursor: pointer;\n",
              "      display: none;\n",
              "      fill: #1967D2;\n",
              "      height: 32px;\n",
              "      padding: 0 0 0 0;\n",
              "      width: 32px;\n",
              "    }\n",
              "\n",
              "    .colab-df-convert:hover {\n",
              "      background-color: #E2EBFA;\n",
              "      box-shadow: 0px 1px 2px rgba(60, 64, 67, 0.3), 0px 1px 3px 1px rgba(60, 64, 67, 0.15);\n",
              "      fill: #174EA6;\n",
              "    }\n",
              "\n",
              "    [theme=dark] .colab-df-convert {\n",
              "      background-color: #3B4455;\n",
              "      fill: #D2E3FC;\n",
              "    }\n",
              "\n",
              "    [theme=dark] .colab-df-convert:hover {\n",
              "      background-color: #434B5C;\n",
              "      box-shadow: 0px 1px 3px 1px rgba(0, 0, 0, 0.15);\n",
              "      filter: drop-shadow(0px 1px 2px rgba(0, 0, 0, 0.3));\n",
              "      fill: #FFFFFF;\n",
              "    }\n",
              "  </style>\n",
              "\n",
              "      <script>\n",
              "        const buttonEl =\n",
              "          document.querySelector('#df-35bfe540-3c78-4ec2-a3c9-7365085d5368 button.colab-df-convert');\n",
              "        buttonEl.style.display =\n",
              "          google.colab.kernel.accessAllowed ? 'block' : 'none';\n",
              "\n",
              "        async function convertToInteractive(key) {\n",
              "          const element = document.querySelector('#df-35bfe540-3c78-4ec2-a3c9-7365085d5368');\n",
              "          const dataTable =\n",
              "            await google.colab.kernel.invokeFunction('convertToInteractive',\n",
              "                                                     [key], {});\n",
              "          if (!dataTable) return;\n",
              "\n",
              "          const docLinkHtml = 'Like what you see? Visit the ' +\n",
              "            '<a target=\"_blank\" href=https://colab.research.google.com/notebooks/data_table.ipynb>data table notebook</a>'\n",
              "            + ' to learn more about interactive tables.';\n",
              "          element.innerHTML = '';\n",
              "          dataTable['output_type'] = 'display_data';\n",
              "          await google.colab.output.renderOutput(dataTable, element);\n",
              "          const docLink = document.createElement('div');\n",
              "          docLink.innerHTML = docLinkHtml;\n",
              "          element.appendChild(docLink);\n",
              "        }\n",
              "      </script>\n",
              "    </div>\n",
              "  </div>\n",
              "  "
            ],
            "text/plain": [
              "   Partido  Porcentagem  Porcentagem Acumulada\n",
              "3     PSDB           25                     25\n",
              "1     REDE           22                     47\n",
              "0     PMDB           18                     65\n",
              "2      PDT           12                     77\n",
              "6   Outros           10                     87\n",
              "4  PC do B            8                     95\n",
              "5       PV            5                    100"
            ]
          },
          "metadata": {},
          "execution_count": 580
        }
      ]
    },
    {
      "cell_type": "code",
      "source": [
        "fig, ax = plt.subplots()\n",
        "\n",
        "ax.bar(dados[\"Partido\"], dados[\"Porcentagem\"],)\n",
        "ax2 = ax.twinx()\n",
        "\n",
        "ax2.plot(dados[\"Partido\"], dados[\"Porcentagem Acumulada\"], color=\"C1\", marker=\"D\", ms=7)\n",
        "ax2.yaxis.set_major_formatter(PercentFormatter())\n",
        "\n",
        "ax.tick_params(axis=\"y\")\n",
        "ax2.tick_params(axis=\"y\")\n",
        "plt.show()"
      ],
      "metadata": {
        "colab": {
          "base_uri": "https://localhost:8080/",
          "height": 265
        },
        "id": "q2Phu8oJL9Tn",
        "outputId": "27a7cb43-0639-459b-bd92-af1b215ea7f0"
      },
      "execution_count": null,
      "outputs": [
        {
          "output_type": "display_data",
          "data": {
            "image/png": "[encoded data removed]",
            "text/plain": [
              "<Figure size 432x288 with 2 Axes>"
            ]
          },
          "metadata": {
            "needs_background": "light"
          }
        }
      ]
    },
    {
      "cell_type": "markdown",
      "source": [
        "### Gráfico de linhas"
      ],
      "metadata": {
        "id": "3cWEEJxKNwHF"
      }
    },
    {
      "cell_type": "code",
      "source": [
        "perdas_mes = pd.DataFrame([[\"January\", 0.42],\n",
        "                      [\"February\", 0.38],\n",
        "                      [\"March\", 0.12],\n",
        "                      [\"April\", 0.34],\n",
        "                      [\"May\", 0.22],\n",
        "                      [\"June\", 0.15],\n",
        "                      [\"July\", 0.18],\n",
        "                      [\"August\", 0.31],\n",
        "                      [\"September\", 0.47],\n",
        "                      [\"October\", 0.24],\n",
        "                      [\"November\", 0.42],\n",
        "                      [\"December\", 0.09]])\n",
        "\n",
        "perdas_mes.columns = [\"Mês\", \"Perdas\"]\n",
        "perdas_mes"
      ],
      "metadata": {
        "colab": {
          "base_uri": "https://localhost:8080/",
          "height": 426
        },
        "id": "0uNdc-HbN54B",
        "outputId": "a54582dc-b4c2-4525-d0a5-d5219d21a130"
      },
      "execution_count": null,
      "outputs": [
        {
          "output_type": "execute_result",
          "data": {
            "text/html": [
              "\n",
              "  <div id=\"df-69f7fa11-5ac9-4eb4-a9de-9c16df137689\">\n",
              "    <div class=\"colab-df-container\">\n",
              "      <div>\n",
              "<style scoped>\n",
              "    .dataframe tbody tr th:only-of-type {\n",
              "        vertical-align: middle;\n",
              "    }\n",
              "\n",
              "    .dataframe tbody tr th {\n",
              "        vertical-align: top;\n",
              "    }\n",
              "\n",
              "    .dataframe thead th {\n",
              "        text-align: right;\n",
              "    }\n",
              "</style>\n",
              "<table border=\"1\" class=\"dataframe\">\n",
              "  <thead>\n",
              "    <tr style=\"text-align: right;\">\n",
              "      <th></th>\n",
              "      <th>Mês</th>\n",
              "      <th>Perdas</th>\n",
              "    </tr>\n",
              "  </thead>\n",
              "  <tbody>\n",
              "    <tr>\n",
              "      <th>0</th>\n",
              "      <td>January</td>\n",
              "      <td>0.42</td>\n",
              "    </tr>\n",
              "    <tr>\n",
              "      <th>1</th>\n",
              "      <td>February</td>\n",
              "      <td>0.38</td>\n",
              "    </tr>\n",
              "    <tr>\n",
              "      <th>2</th>\n",
              "      <td>March</td>\n",
              "      <td>0.12</td>\n",
              "    </tr>\n",
              "    <tr>\n",
              "      <th>3</th>\n",
              "      <td>April</td>\n",
              "      <td>0.34</td>\n",
              "    </tr>\n",
              "    <tr>\n",
              "      <th>4</th>\n",
              "      <td>May</td>\n",
              "      <td>0.22</td>\n",
              "    </tr>\n",
              "    <tr>\n",
              "      <th>5</th>\n",
              "      <td>June</td>\n",
              "      <td>0.15</td>\n",
              "    </tr>\n",
              "    <tr>\n",
              "      <th>6</th>\n",
              "      <td>July</td>\n",
              "      <td>0.18</td>\n",
              "    </tr>\n",
              "    <tr>\n",
              "      <th>7</th>\n",
              "      <td>August</td>\n",
              "      <td>0.31</td>\n",
              "    </tr>\n",
              "    <tr>\n",
              "      <th>8</th>\n",
              "      <td>September</td>\n",
              "      <td>0.47</td>\n",
              "    </tr>\n",
              "    <tr>\n",
              "      <th>9</th>\n",
              "      <td>October</td>\n",
              "      <td>0.24</td>\n",
              "    </tr>\n",
              "    <tr>\n",
              "      <th>10</th>\n",
              "      <td>November</td>\n",
              "      <td>0.42</td>\n",
              "    </tr>\n",
              "    <tr>\n",
              "      <th>11</th>\n",
              "      <td>December</td>\n",
              "      <td>0.09</td>\n",
              "    </tr>\n",
              "  </tbody>\n",
              "</table>\n",
              "</div>\n",
              "      <button class=\"colab-df-convert\" onclick=\"convertToInteractive('df-69f7fa11-5ac9-4eb4-a9de-9c16df137689')\"\n",
              "              title=\"Convert this dataframe to an interactive table.\"\n",
              "              style=\"display:none;\">\n",
              "        \n",
              "  <svg xmlns=\"http://www.w3.org/2000/svg\" height=\"24px\"viewBox=\"0 0 24 24\"\n",
              "       width=\"24px\">\n",
              "    <path d=\"M0 0h24v24H0V0z\" fill=\"none\"/>\n",
              "    <path d=\"M18.56 5.44l.94 2.06.94-2.06 2.06-.94-2.06-.94-.94-2.06-.94 2.06-2.06.94zm-11 1L8.5 8.5l.94-2.06 2.06-.94-2.06-.94L8.5 2.5l-.94 2.06-2.06.94zm10 10l.94 2.06.94-2.06 2.06-.94-2.06-.94-.94-2.06-.94 2.06-2.06.94z\"/><path d=\"M17.41 7.96l-1.37-1.37c-.4-.4-.92-.59-1.43-.59-.52 0-1.04.2-1.43.59L10.3 9.45l-7.72 7.72c-.78.78-.78 2.05 0 2.83L4 21.41c.39.39.9.59 1.41.59.51 0 1.02-.2 1.41-.59l7.78-7.78 2.81-2.81c.8-.78.8-2.07 0-2.86zM5.41 20L4 18.59l7.72-7.72 1.47 1.35L5.41 20z\"/>\n",
              "  </svg>\n",
              "      </button>\n",
              "      \n",
              "  <style>\n",
              "    .colab-df-container {\n",
              "      display:flex;\n",
              "      flex-wrap:wrap;\n",
              "      gap: 12px;\n",
              "    }\n",
              "\n",
              "    .colab-df-convert {\n",
              "      background-color: #E8F0FE;\n",
              "      border: none;\n",
              "      border-radius: 50%;\n",
              "      cursor: pointer;\n",
              "      display: none;\n",
              "      fill: #1967D2;\n",
              "      height: 32px;\n",
              "      padding: 0 0 0 0;\n",
              "      width: 32px;\n",
              "    }\n",
              "\n",
              "    .colab-df-convert:hover {\n",
              "      background-color: #E2EBFA;\n",
              "      box-shadow: 0px 1px 2px rgba(60, 64, 67, 0.3), 0px 1px 3px 1px rgba(60, 64, 67, 0.15);\n",
              "      fill: #174EA6;\n",
              "    }\n",
              "\n",
              "    [theme=dark] .colab-df-convert {\n",
              "      background-color: #3B4455;\n",
              "      fill: #D2E3FC;\n",
              "    }\n",
              "\n",
              "    [theme=dark] .colab-df-convert:hover {\n",
              "      background-color: #434B5C;\n",
              "      box-shadow: 0px 1px 3px 1px rgba(0, 0, 0, 0.15);\n",
              "      filter: drop-shadow(0px 1px 2px rgba(0, 0, 0, 0.3));\n",
              "      fill: #FFFFFF;\n",
              "    }\n",
              "  </style>\n",
              "\n",
              "      <script>\n",
              "        const buttonEl =\n",
              "          document.querySelector('#df-69f7fa11-5ac9-4eb4-a9de-9c16df137689 button.colab-df-convert');\n",
              "        buttonEl.style.display =\n",
              "          google.colab.kernel.accessAllowed ? 'block' : 'none';\n",
              "\n",
              "        async function convertToInteractive(key) {\n",
              "          const element = document.querySelector('#df-69f7fa11-5ac9-4eb4-a9de-9c16df137689');\n",
              "          const dataTable =\n",
              "            await google.colab.kernel.invokeFunction('convertToInteractive',\n",
              "                                                     [key], {});\n",
              "          if (!dataTable) return;\n",
              "\n",
              "          const docLinkHtml = 'Like what you see? Visit the ' +\n",
              "            '<a target=\"_blank\" href=https://colab.research.google.com/notebooks/data_table.ipynb>data table notebook</a>'\n",
              "            + ' to learn more about interactive tables.';\n",
              "          element.innerHTML = '';\n",
              "          dataTable['output_type'] = 'display_data';\n",
              "          await google.colab.output.renderOutput(dataTable, element);\n",
              "          const docLink = document.createElement('div');\n",
              "          docLink.innerHTML = docLinkHtml;\n",
              "          element.appendChild(docLink);\n",
              "        }\n",
              "      </script>\n",
              "    </div>\n",
              "  </div>\n",
              "  "
            ],
            "text/plain": [
              "          Mês  Perdas\n",
              "0     January    0.42\n",
              "1    February    0.38\n",
              "2       March    0.12\n",
              "3       April    0.34\n",
              "4         May    0.22\n",
              "5        June    0.15\n",
              "6        July    0.18\n",
              "7      August    0.31\n",
              "8   September    0.47\n",
              "9     October    0.24\n",
              "10   November    0.42\n",
              "11   December    0.09"
            ]
          },
          "metadata": {},
          "execution_count": 4
        }
      ]
    },
    {
      "cell_type": "code",
      "source": [
        "#Gráfico de linhas\n",
        "fig, ax = plt.subplots(figsize = (10,4))\n",
        "ax.plot(perdas_mes[\"Mês\"],perdas_mes[\"Perdas\"], marker = 'o')\n",
        "ax.figure.autofmt_xdate()\n",
        "plt.show()"
      ],
      "metadata": {
        "colab": {
          "base_uri": "https://localhost:8080/",
          "height": 270
        },
        "id": "pNFQmkoLTcGk",
        "outputId": "7df3dbfb-f2ef-48f6-889b-c09a12b244bd"
      },
      "execution_count": null,
      "outputs": [
        {
          "output_type": "display_data",
          "data": {
            "image/png": "[encoded data removed]",
            "text/plain": [
              "<Figure size 720x288 with 1 Axes>"
            ]
          },
          "metadata": {
            "needs_background": "light"
          }
        }
      ]
    },
    {
      "cell_type": "markdown",
      "source": [
        "### Gráfico de dispersão"
      ],
      "metadata": {
        "id": "3BfhmqHIWSc0"
      }
    },
    {
      "cell_type": "code",
      "source": [
        "dados = pd.DataFrame([[30, 250],\n",
        "                      [50, 255],\n",
        "                      [85, 252],\n",
        "                      [106, 248],\n",
        "                      [138, 250],\n",
        "                      [178, 249],\n",
        "                      [198, 252],\n",
        "                      [222, 251],\n",
        "                      [250, 250],\n",
        "                      [297, 245]])\n",
        "\n",
        "dados.columns = [\"Tempo\", \"Peso\"]\n",
        "dados"
      ],
      "metadata": {
        "colab": {
          "base_uri": "https://localhost:8080/",
          "height": 363
        },
        "id": "Ha4xSH99WMTR",
        "outputId": "e59be9cf-4076-4082-bf57-bf6f0dceb27d"
      },
      "execution_count": null,
      "outputs": [
        {
          "output_type": "execute_result",
          "data": {
            "text/html": [
              "\n",
              "  <div id=\"df-aeee6c90-ccd9-4013-9b84-f432b1865a8f\">\n",
              "    <div class=\"colab-df-container\">\n",
              "      <div>\n",
              "<style scoped>\n",
              "    .dataframe tbody tr th:only-of-type {\n",
              "        vertical-align: middle;\n",
              "    }\n",
              "\n",
              "    .dataframe tbody tr th {\n",
              "        vertical-align: top;\n",
              "    }\n",
              "\n",
              "    .dataframe thead th {\n",
              "        text-align: right;\n",
              "    }\n",
              "</style>\n",
              "<table border=\"1\" class=\"dataframe\">\n",
              "  <thead>\n",
              "    <tr style=\"text-align: right;\">\n",
              "      <th></th>\n",
              "      <th>Tempo</th>\n",
              "      <th>Peso</th>\n",
              "    </tr>\n",
              "  </thead>\n",
              "  <tbody>\n",
              "    <tr>\n",
              "      <th>0</th>\n",
              "      <td>30</td>\n",
              "      <td>250</td>\n",
              "    </tr>\n",
              "    <tr>\n",
              "      <th>1</th>\n",
              "      <td>50</td>\n",
              "      <td>255</td>\n",
              "    </tr>\n",
              "    <tr>\n",
              "      <th>2</th>\n",
              "      <td>85</td>\n",
              "      <td>252</td>\n",
              "    </tr>\n",
              "    <tr>\n",
              "      <th>3</th>\n",
              "      <td>106</td>\n",
              "      <td>248</td>\n",
              "    </tr>\n",
              "    <tr>\n",
              "      <th>4</th>\n",
              "      <td>138</td>\n",
              "      <td>250</td>\n",
              "    </tr>\n",
              "    <tr>\n",
              "      <th>5</th>\n",
              "      <td>178</td>\n",
              "      <td>249</td>\n",
              "    </tr>\n",
              "    <tr>\n",
              "      <th>6</th>\n",
              "      <td>198</td>\n",
              "      <td>252</td>\n",
              "    </tr>\n",
              "    <tr>\n",
              "      <th>7</th>\n",
              "      <td>222</td>\n",
              "      <td>251</td>\n",
              "    </tr>\n",
              "    <tr>\n",
              "      <th>8</th>\n",
              "      <td>250</td>\n",
              "      <td>250</td>\n",
              "    </tr>\n",
              "    <tr>\n",
              "      <th>9</th>\n",
              "      <td>297</td>\n",
              "      <td>245</td>\n",
              "    </tr>\n",
              "  </tbody>\n",
              "</table>\n",
              "</div>\n",
              "      <button class=\"colab-df-convert\" onclick=\"convertToInteractive('df-aeee6c90-ccd9-4013-9b84-f432b1865a8f')\"\n",
              "              title=\"Convert this dataframe to an interactive table.\"\n",
              "              style=\"display:none;\">\n",
              "        \n",
              "  <svg xmlns=\"http://www.w3.org/2000/svg\" height=\"24px\"viewBox=\"0 0 24 24\"\n",
              "       width=\"24px\">\n",
              "    <path d=\"M0 0h24v24H0V0z\" fill=\"none\"/>\n",
              "    <path d=\"M18.56 5.44l.94 2.06.94-2.06 2.06-.94-2.06-.94-.94-2.06-.94 2.06-2.06.94zm-11 1L8.5 8.5l.94-2.06 2.06-.94-2.06-.94L8.5 2.5l-.94 2.06-2.06.94zm10 10l.94 2.06.94-2.06 2.06-.94-2.06-.94-.94-2.06-.94 2.06-2.06.94z\"/><path d=\"M17.41 7.96l-1.37-1.37c-.4-.4-.92-.59-1.43-.59-.52 0-1.04.2-1.43.59L10.3 9.45l-7.72 7.72c-.78.78-.78 2.05 0 2.83L4 21.41c.39.39.9.59 1.41.59.51 0 1.02-.2 1.41-.59l7.78-7.78 2.81-2.81c.8-.78.8-2.07 0-2.86zM5.41 20L4 18.59l7.72-7.72 1.47 1.35L5.41 20z\"/>\n",
              "  </svg>\n",
              "      </button>\n",
              "      \n",
              "  <style>\n",
              "    .colab-df-container {\n",
              "      display:flex;\n",
              "      flex-wrap:wrap;\n",
              "      gap: 12px;\n",
              "    }\n",
              "\n",
              "    .colab-df-convert {\n",
              "      background-color: #E8F0FE;\n",
              "      border: none;\n",
              "      border-radius: 50%;\n",
              "      cursor: pointer;\n",
              "      display: none;\n",
              "      fill: #1967D2;\n",
              "      height: 32px;\n",
              "      padding: 0 0 0 0;\n",
              "      width: 32px;\n",
              "    }\n",
              "\n",
              "    .colab-df-convert:hover {\n",
              "      background-color: #E2EBFA;\n",
              "      box-shadow: 0px 1px 2px rgba(60, 64, 67, 0.3), 0px 1px 3px 1px rgba(60, 64, 67, 0.15);\n",
              "      fill: #174EA6;\n",
              "    }\n",
              "\n",
              "    [theme=dark] .colab-df-convert {\n",
              "      background-color: #3B4455;\n",
              "      fill: #D2E3FC;\n",
              "    }\n",
              "\n",
              "    [theme=dark] .colab-df-convert:hover {\n",
              "      background-color: #434B5C;\n",
              "      box-shadow: 0px 1px 3px 1px rgba(0, 0, 0, 0.15);\n",
              "      filter: drop-shadow(0px 1px 2px rgba(0, 0, 0, 0.3));\n",
              "      fill: #FFFFFF;\n",
              "    }\n",
              "  </style>\n",
              "\n",
              "      <script>\n",
              "        const buttonEl =\n",
              "          document.querySelector('#df-aeee6c90-ccd9-4013-9b84-f432b1865a8f button.colab-df-convert');\n",
              "        buttonEl.style.display =\n",
              "          google.colab.kernel.accessAllowed ? 'block' : 'none';\n",
              "\n",
              "        async function convertToInteractive(key) {\n",
              "          const element = document.querySelector('#df-aeee6c90-ccd9-4013-9b84-f432b1865a8f');\n",
              "          const dataTable =\n",
              "            await google.colab.kernel.invokeFunction('convertToInteractive',\n",
              "                                                     [key], {});\n",
              "          if (!dataTable) return;\n",
              "\n",
              "          const docLinkHtml = 'Like what you see? Visit the ' +\n",
              "            '<a target=\"_blank\" href=https://colab.research.google.com/notebooks/data_table.ipynb>data table notebook</a>'\n",
              "            + ' to learn more about interactive tables.';\n",
              "          element.innerHTML = '';\n",
              "          dataTable['output_type'] = 'display_data';\n",
              "          await google.colab.output.renderOutput(dataTable, element);\n",
              "          const docLink = document.createElement('div');\n",
              "          docLink.innerHTML = docLinkHtml;\n",
              "          element.appendChild(docLink);\n",
              "        }\n",
              "      </script>\n",
              "    </div>\n",
              "  </div>\n",
              "  "
            ],
            "text/plain": [
              "   Tempo  Peso\n",
              "0     30   250\n",
              "1     50   255\n",
              "2     85   252\n",
              "3    106   248\n",
              "4    138   250\n",
              "5    178   249\n",
              "6    198   252\n",
              "7    222   251\n",
              "8    250   250\n",
              "9    297   245"
            ]
          },
          "metadata": {},
          "execution_count": 637
        }
      ]
    },
    {
      "cell_type": "code",
      "source": [
        "fig, ax = plt.subplots()\n",
        "ax.scatter(dados[\"Tempo\"], dados[\"Peso\"], marker='*', color= 'red')\n",
        "ax.set_xlabel(\"Tempo(min)\")\n",
        "ax.set_ylabel(\"Peso(kg)\")\n",
        "plt.show()"
      ],
      "metadata": {
        "colab": {
          "base_uri": "https://localhost:8080/",
          "height": 279
        },
        "id": "FneGfGrdW2f4",
        "outputId": "bbe5eafd-bba9-4c38-8da7-7ea3ff85cb1d"
      },
      "execution_count": null,
      "outputs": [
        {
          "output_type": "display_data",
          "data": {
            "image/png": "[encoded data removed]",
            "text/plain": [
              "<Figure size 432x288 with 1 Axes>"
            ]
          },
          "metadata": {
            "needs_background": "light"
          }
        }
      ]
    },
    {
      "cell_type": "markdown",
      "source": [
        "### Histograma\n",
        "\n",
        "Esse é um dus gráficos mais importantes na análise de dados e básicamente é a representação de frequências de uma variáveil **QUANTITATIVA**. "
      ],
      "metadata": {
        "id": "G6bLQOEOXgbW"
      }
    },
    {
      "cell_type": "code",
      "source": [
        "#Dados de contagens de pessoas\n",
        "contagens"
      ],
      "metadata": {
        "id": "Afsrz15kXh2k",
        "colab": {
          "base_uri": "https://localhost:8080/",
          "height": 394
        },
        "outputId": "87f7de74-0112-4eac-ed87-4302473cb203"
      },
      "execution_count": null,
      "outputs": [
        {
          "output_type": "execute_result",
          "data": {
            "text/html": [
              "\n",
              "  <div id=\"df-055b8e1f-33ca-4678-a28f-51db4cfde503\">\n",
              "    <div class=\"colab-df-container\">\n",
              "      <div>\n",
              "<style scoped>\n",
              "    .dataframe tbody tr th:only-of-type {\n",
              "        vertical-align: middle;\n",
              "    }\n",
              "\n",
              "    .dataframe tbody tr th {\n",
              "        vertical-align: top;\n",
              "    }\n",
              "\n",
              "    .dataframe thead th {\n",
              "        text-align: right;\n",
              "    }\n",
              "</style>\n",
              "<table border=\"1\" class=\"dataframe\">\n",
              "  <thead>\n",
              "    <tr style=\"text-align: right;\">\n",
              "      <th></th>\n",
              "      <th>f_i</th>\n",
              "      <th>f_ri</th>\n",
              "      <th>f_ac</th>\n",
              "      <th>f_rac</th>\n",
              "    </tr>\n",
              "    <tr>\n",
              "      <th>0</th>\n",
              "      <th></th>\n",
              "      <th></th>\n",
              "      <th></th>\n",
              "      <th></th>\n",
              "    </tr>\n",
              "  </thead>\n",
              "  <tbody>\n",
              "    <tr>\n",
              "      <th>2</th>\n",
              "      <td>12</td>\n",
              "      <td>25.00</td>\n",
              "      <td>12</td>\n",
              "      <td>25.00</td>\n",
              "    </tr>\n",
              "    <tr>\n",
              "      <th>4</th>\n",
              "      <td>10</td>\n",
              "      <td>20.83</td>\n",
              "      <td>22</td>\n",
              "      <td>45.83</td>\n",
              "    </tr>\n",
              "    <tr>\n",
              "      <th>6</th>\n",
              "      <td>6</td>\n",
              "      <td>12.50</td>\n",
              "      <td>28</td>\n",
              "      <td>58.33</td>\n",
              "    </tr>\n",
              "    <tr>\n",
              "      <th>5</th>\n",
              "      <td>6</td>\n",
              "      <td>12.50</td>\n",
              "      <td>34</td>\n",
              "      <td>70.83</td>\n",
              "    </tr>\n",
              "    <tr>\n",
              "      <th>10</th>\n",
              "      <td>3</td>\n",
              "      <td>6.25</td>\n",
              "      <td>37</td>\n",
              "      <td>77.08</td>\n",
              "    </tr>\n",
              "    <tr>\n",
              "      <th>8</th>\n",
              "      <td>3</td>\n",
              "      <td>6.25</td>\n",
              "      <td>40</td>\n",
              "      <td>83.33</td>\n",
              "    </tr>\n",
              "    <tr>\n",
              "      <th>1</th>\n",
              "      <td>3</td>\n",
              "      <td>6.25</td>\n",
              "      <td>43</td>\n",
              "      <td>89.58</td>\n",
              "    </tr>\n",
              "    <tr>\n",
              "      <th>7</th>\n",
              "      <td>2</td>\n",
              "      <td>4.17</td>\n",
              "      <td>45</td>\n",
              "      <td>93.75</td>\n",
              "    </tr>\n",
              "    <tr>\n",
              "      <th>3</th>\n",
              "      <td>2</td>\n",
              "      <td>4.17</td>\n",
              "      <td>47</td>\n",
              "      <td>97.92</td>\n",
              "    </tr>\n",
              "    <tr>\n",
              "      <th>12</th>\n",
              "      <td>1</td>\n",
              "      <td>2.08</td>\n",
              "      <td>48</td>\n",
              "      <td>100.00</td>\n",
              "    </tr>\n",
              "  </tbody>\n",
              "</table>\n",
              "</div>\n",
              "      <button class=\"colab-df-convert\" onclick=\"convertToInteractive('df-055b8e1f-33ca-4678-a28f-51db4cfde503')\"\n",
              "              title=\"Convert this dataframe to an interactive table.\"\n",
              "              style=\"display:none;\">\n",
              "        \n",
              "  <svg xmlns=\"http://www.w3.org/2000/svg\" height=\"24px\"viewBox=\"0 0 24 24\"\n",
              "       width=\"24px\">\n",
              "    <path d=\"M0 0h24v24H0V0z\" fill=\"none\"/>\n",
              "    <path d=\"M18.56 5.44l.94 2.06.94-2.06 2.06-.94-2.06-.94-.94-2.06-.94 2.06-2.06.94zm-11 1L8.5 8.5l.94-2.06 2.06-.94-2.06-.94L8.5 2.5l-.94 2.06-2.06.94zm10 10l.94 2.06.94-2.06 2.06-.94-2.06-.94-.94-2.06-.94 2.06-2.06.94z\"/><path d=\"M17.41 7.96l-1.37-1.37c-.4-.4-.92-.59-1.43-.59-.52 0-1.04.2-1.43.59L10.3 9.45l-7.72 7.72c-.78.78-.78 2.05 0 2.83L4 21.41c.39.39.9.59 1.41.59.51 0 1.02-.2 1.41-.59l7.78-7.78 2.81-2.81c.8-.78.8-2.07 0-2.86zM5.41 20L4 18.59l7.72-7.72 1.47 1.35L5.41 20z\"/>\n",
              "  </svg>\n",
              "      </button>\n",
              "      \n",
              "  <style>\n",
              "    .colab-df-container {\n",
              "      display:flex;\n",
              "      flex-wrap:wrap;\n",
              "      gap: 12px;\n",
              "    }\n",
              "\n",
              "    .colab-df-convert {\n",
              "      background-color: #E8F0FE;\n",
              "      border: none;\n",
              "      border-radius: 50%;\n",
              "      cursor: pointer;\n",
              "      display: none;\n",
              "      fill: #1967D2;\n",
              "      height: 32px;\n",
              "      padding: 0 0 0 0;\n",
              "      width: 32px;\n",
              "    }\n",
              "\n",
              "    .colab-df-convert:hover {\n",
              "      background-color: #E2EBFA;\n",
              "      box-shadow: 0px 1px 2px rgba(60, 64, 67, 0.3), 0px 1px 3px 1px rgba(60, 64, 67, 0.15);\n",
              "      fill: #174EA6;\n",
              "    }\n",
              "\n",
              "    [theme=dark] .colab-df-convert {\n",
              "      background-color: #3B4455;\n",
              "      fill: #D2E3FC;\n",
              "    }\n",
              "\n",
              "    [theme=dark] .colab-df-convert:hover {\n",
              "      background-color: #434B5C;\n",
              "      box-shadow: 0px 1px 3px 1px rgba(0, 0, 0, 0.15);\n",
              "      filter: drop-shadow(0px 1px 2px rgba(0, 0, 0, 0.3));\n",
              "      fill: #FFFFFF;\n",
              "    }\n",
              "  </style>\n",
              "\n",
              "      <script>\n",
              "        const buttonEl =\n",
              "          document.querySelector('#df-055b8e1f-33ca-4678-a28f-51db4cfde503 button.colab-df-convert');\n",
              "        buttonEl.style.display =\n",
              "          google.colab.kernel.accessAllowed ? 'block' : 'none';\n",
              "\n",
              "        async function convertToInteractive(key) {\n",
              "          const element = document.querySelector('#df-055b8e1f-33ca-4678-a28f-51db4cfde503');\n",
              "          const dataTable =\n",
              "            await google.colab.kernel.invokeFunction('convertToInteractive',\n",
              "                                                     [key], {});\n",
              "          if (!dataTable) return;\n",
              "\n",
              "          const docLinkHtml = 'Like what you see? Visit the ' +\n",
              "            '<a target=\"_blank\" href=https://colab.research.google.com/notebooks/data_table.ipynb>data table notebook</a>'\n",
              "            + ' to learn more about interactive tables.';\n",
              "          element.innerHTML = '';\n",
              "          dataTable['output_type'] = 'display_data';\n",
              "          await google.colab.output.renderOutput(dataTable, element);\n",
              "          const docLink = document.createElement('div');\n",
              "          docLink.innerHTML = docLinkHtml;\n",
              "          element.appendChild(docLink);\n",
              "        }\n",
              "      </script>\n",
              "    </div>\n",
              "  </div>\n",
              "  "
            ],
            "text/plain": [
              "    f_i   f_ri  f_ac   f_rac\n",
              "0                           \n",
              "2    12  25.00    12   25.00\n",
              "4    10  20.83    22   45.83\n",
              "6     6  12.50    28   58.33\n",
              "5     6  12.50    34   70.83\n",
              "10    3   6.25    37   77.08\n",
              "8     3   6.25    40   83.33\n",
              "1     3   6.25    43   89.58\n",
              "7     2   4.17    45   93.75\n",
              "3     2   4.17    47   97.92\n",
              "12    1   2.08    48  100.00"
            ]
          },
          "metadata": {},
          "execution_count": 81
        }
      ]
    },
    {
      "cell_type": "code",
      "source": [
        "fig, ax = plt.subplots()\n",
        "ax.set_title(\"Histograma\")\n",
        "ax = sns.histplot(lista_pessoas, kde=True, cumulative=False, bins='auto', legend=False);\n",
        "\n",
        "fig, ax = plt.subplots()\n",
        "ax.set_title(\"Histograma Acumulado\")\n",
        "ax = sns.histplot(lista_pessoas, kde=True, cumulative=True, bins='auto', legend=False)\n",
        "plt.show()"
      ],
      "metadata": {
        "colab": {
          "base_uri": "https://localhost:8080/",
          "height": 545
        },
        "id": "B7PBnxU-VLb1",
        "outputId": "fbca47c1-6315-4e0e-875d-28e547154252"
      },
      "execution_count": null,
      "outputs": [
        {
          "output_type": "display_data",
          "data": {
            "image/png": "[encoded data removed]",
            "text/plain": [
              "<Figure size 432x288 with 1 Axes>"
            ]
          },
          "metadata": {
            "needs_background": "light"
          }
        },
        {
          "output_type": "display_data",
          "data": {
            "image/png": "[encoded data removed]",
            "text/plain": [
              "<Figure size 432x288 with 1 Axes>"
            ]
          },
          "metadata": {
            "needs_background": "light"
          }
        }
      ]
    },
    {
      "cell_type": "markdown",
      "source": [
        "### Gráfico de ramos-e-folhas"
      ],
      "metadata": {
        "id": "iWtTJLEsafFG"
      }
    },
    {
      "cell_type": "code",
      "source": [
        "!pip install stemgraphic -q"
      ],
      "metadata": {
        "colab": {
          "base_uri": "https://localhost:8080/"
        },
        "id": "IbWTRmV5d5zY",
        "outputId": "5dcf2b2a-33ec-45e5-e7db-d70d299c1600"
      },
      "execution_count": null,
      "outputs": [
        {
          "output_type": "stream",
          "name": "stdout",
          "text": [
            "\u001b[?25l\r\u001b[K     |█████▎                          | 10 kB 27.5 MB/s eta 0:00:01\r\u001b[K     |██████████▋                     | 20 kB 9.1 MB/s eta 0:00:01\r\u001b[K     |███████████████▉                | 30 kB 7.7 MB/s eta 0:00:01\r\u001b[K     |█████████████████████▏          | 40 kB 7.1 MB/s eta 0:00:01\r\u001b[K     |██████████████████████████▌     | 51 kB 4.3 MB/s eta 0:00:01\r\u001b[K     |███████████████████████████████▊| 61 kB 4.5 MB/s eta 0:00:01\r\u001b[K     |████████████████████████████████| 61 kB 392 kB/s \n",
            "\u001b[?25h"
          ]
        }
      ]
    },
    {
      "cell_type": "code",
      "source": [
        "import stemgraphic"
      ],
      "metadata": {
        "id": "GWmgvqGZa3Ev"
      },
      "execution_count": null,
      "outputs": []
    },
    {
      "cell_type": "code",
      "source": [
        "idades = pd.DataFrame([44, 60, 22, 49, 31, 58, 42, 63, 33, 37,\n",
        "                       54, 55, 40, 71, 55, 62, 35, 45, 59, 54,\n",
        "                       50, 51, 24, 31, 40, 73, 28, 35, 75, 48])\n",
        "idades.columns = [\"Funcionários\"]\n",
        "idades = idades.sort_values(\"Funcionários\")"
      ],
      "metadata": {
        "id": "bANPhspfaiYb"
      },
      "execution_count": null,
      "outputs": []
    },
    {
      "cell_type": "code",
      "source": [
        "fig, ax = plt.subplots(figsize = (8,6))\n",
        "stemgraphic.stem_graphic(idades[\"Funcionários\"].values, title=\"Gráfico dee ramos-e-folhas\",\n",
        "                         break_on=2, ax = ax);"
      ],
      "metadata": {
        "colab": {
          "base_uri": "https://localhost:8080/",
          "height": 441
        },
        "id": "6lJAOPP5d5FL",
        "outputId": "fadce4dc-694e-4132-b8c2-4fe0dec92fd7"
      },
      "execution_count": null,
      "outputs": [
        {
          "output_type": "display_data",
          "data": {
            "image/png": "[encoded data removed]",
            "text/plain": [
              "<Figure size 576x432 with 1 Axes>"
            ]
          },
          "metadata": {
            "needs_background": "light"
          }
        }
      ]
    },
    {
      "cell_type": "markdown",
      "source": [
        "### Box-plot diagrama de caixa"
      ],
      "metadata": {
        "id": "iz9ZugMXk2a_"
      }
    },
    {
      "cell_type": "code",
      "source": [
        "idades = pd.DataFrame([44, 60, 22, 49, 31, 58, 42, 63, 33, 37,\n",
        "                       54, 55, 40, 71, 55, 62, 35, 45, 59, 54,\n",
        "                       50, 51, 24, 31, 40, 73, 28, 35, 75, 48])\n",
        "idades.columns = [\"Funcionários\"]\n",
        "idades = idades.sort_values(\"Funcionários\")"
      ],
      "metadata": {
        "id": "wVRb3dqSwINz"
      },
      "execution_count": null,
      "outputs": []
    },
    {
      "cell_type": "code",
      "source": [
        "fig, ax = plt.subplots()\n",
        "sns.boxplot(data = idades, width=0.2, orient ='vertical', ax = ax)\n",
        "ax.set_ylim([10, 90])\n",
        "plt.show()"
      ],
      "metadata": {
        "colab": {
          "base_uri": "https://localhost:8080/",
          "height": 269
        },
        "id": "2HZD-Xkik6RI",
        "outputId": "f05b5114-c04f-4579-d806-3554eb98524b"
      },
      "execution_count": null,
      "outputs": [
        {
          "output_type": "display_data",
          "data": {
            "image/png": "[encoded data removed]",
            "text/plain": [
              "<Figure size 432x288 with 1 Axes>"
            ]
          },
          "metadata": {
            "needs_background": "light"
          }
        }
      ]
    },
    {
      "cell_type": "markdown",
      "source": [
        "## Medidas de resumo (Estatítica Descritiva)\n",
        "\n",
        "*   `Medidas de posição ou localização : ` maneira geral essa medida indica a posição dos dados em relação ao eixo dos valores, são subdivididas entre medidas de tendência central (média, mediana, moda) e medidads separatrizes (quartis, decis e percentis)\n",
        "\n",
        "*   `Medidas dispersão ou variabildade: ` essa define quanto que os dados variam e referem-se a amplitude, desvio-padrão, desvio-médio, erro-padrão e coeficiente de variação.  \n",
        "\n"
      ],
      "metadata": {
        "id": "xxjRLCEzyFfe"
      }
    },
    {
      "cell_type": "markdown",
      "source": [
        "#### Medidas de posição"
      ],
      "metadata": {
        "id": "vuPLfvZ-Wi_V"
      }
    },
    {
      "cell_type": "markdown",
      "source": [
        "##### Média aritmética\n",
        "\n",
        "$\\overline{X} = \\frac{\\sum_{i}^nX_i}{n}\n",
        "$"
      ],
      "metadata": {
        "id": "RZXy8OmFWon8"
      }
    },
    {
      "cell_type": "code",
      "source": [
        "lista = [5.7, 6.5, 6.9, 8.3, 8, 4.2, 6.3, 7.4, 5.8, 6.0]\n",
        "print(f\"Valor médio {np.mean(lista)}\")"
      ],
      "metadata": {
        "colab": {
          "base_uri": "https://localhost:8080/"
        },
        "id": "4gZ17lOfkmBx",
        "outputId": "95c93863-a01f-42cf-99c7-575fb29627cf"
      },
      "execution_count": null,
      "outputs": [
        {
          "output_type": "stream",
          "name": "stdout",
          "text": [
            "Valor médio 6.51\n"
          ]
        }
      ]
    },
    {
      "cell_type": "markdown",
      "source": [
        "##### Média aritimética ponderada\n",
        "\n",
        "\n",
        "$\\overline{X} = \\frac{\\sum_{i}^nX_i}{\\sum_{i}^nP_i}\n",
        "$"
      ],
      "metadata": {
        "id": "31el0cJ6mJaV"
      }
    },
    {
      "cell_type": "code",
      "source": [
        "retorno = [4.5, 7.0, 5.5, 6.5] \n",
        "weights = [1, 2, 3, 4]\n",
        "\n",
        "media_ponderada = np.round(np.average(retorno, weights=weights),2)\n",
        "print(f\"Valor médio ponderada {media_ponderada}\")"
      ],
      "metadata": {
        "colab": {
          "base_uri": "https://localhost:8080/"
        },
        "id": "x1TxyFqdmtQL",
        "outputId": "7e8ce7e9-8a78-48d4-bf94-ed49130646f3"
      },
      "execution_count": null,
      "outputs": [
        {
          "output_type": "stream",
          "name": "stdout",
          "text": [
            "Valor médio ponderada 6.1\n"
          ]
        }
      ]
    },
    {
      "cell_type": "markdown",
      "source": [
        "##### Mediana\n",
        "\n",
        "`Se for par: `\n",
        "$M_d(x) = \\frac{X_{\\frac{n}{2}}+X_{\\frac{n}{2}+1}}{2}$\n",
        "\n",
        "`Se por ínpar: `\n",
        "$X_{\\frac{n+1}{2}}$"
      ],
      "metadata": {
        "id": "vNbOewZVoU2N"
      }
    },
    {
      "cell_type": "code",
      "source": [
        "perdas_mes = perdas_mes.sort_values(\"Perdas\", ascending=False)\n",
        "perdas_mes"
      ],
      "metadata": {
        "colab": {
          "base_uri": "https://localhost:8080/",
          "height": 426
        },
        "id": "iB-1EIMRqQlW",
        "outputId": "f5c7dac4-51a1-4b47-8986-26a219faadff"
      },
      "execution_count": null,
      "outputs": [
        {
          "output_type": "execute_result",
          "data": {
            "text/html": [
              "\n",
              "  <div id=\"df-d258f8c7-b15e-4e69-84ae-1673397436f4\">\n",
              "    <div class=\"colab-df-container\">\n",
              "      <div>\n",
              "<style scoped>\n",
              "    .dataframe tbody tr th:only-of-type {\n",
              "        vertical-align: middle;\n",
              "    }\n",
              "\n",
              "    .dataframe tbody tr th {\n",
              "        vertical-align: top;\n",
              "    }\n",
              "\n",
              "    .dataframe thead th {\n",
              "        text-align: right;\n",
              "    }\n",
              "</style>\n",
              "<table border=\"1\" class=\"dataframe\">\n",
              "  <thead>\n",
              "    <tr style=\"text-align: right;\">\n",
              "      <th></th>\n",
              "      <th>Mês</th>\n",
              "      <th>Perdas</th>\n",
              "    </tr>\n",
              "  </thead>\n",
              "  <tbody>\n",
              "    <tr>\n",
              "      <th>8</th>\n",
              "      <td>September</td>\n",
              "      <td>0.47</td>\n",
              "    </tr>\n",
              "    <tr>\n",
              "      <th>0</th>\n",
              "      <td>January</td>\n",
              "      <td>0.42</td>\n",
              "    </tr>\n",
              "    <tr>\n",
              "      <th>10</th>\n",
              "      <td>November</td>\n",
              "      <td>0.42</td>\n",
              "    </tr>\n",
              "    <tr>\n",
              "      <th>1</th>\n",
              "      <td>February</td>\n",
              "      <td>0.38</td>\n",
              "    </tr>\n",
              "    <tr>\n",
              "      <th>3</th>\n",
              "      <td>April</td>\n",
              "      <td>0.34</td>\n",
              "    </tr>\n",
              "    <tr>\n",
              "      <th>7</th>\n",
              "      <td>August</td>\n",
              "      <td>0.31</td>\n",
              "    </tr>\n",
              "    <tr>\n",
              "      <th>9</th>\n",
              "      <td>October</td>\n",
              "      <td>0.24</td>\n",
              "    </tr>\n",
              "    <tr>\n",
              "      <th>4</th>\n",
              "      <td>May</td>\n",
              "      <td>0.22</td>\n",
              "    </tr>\n",
              "    <tr>\n",
              "      <th>6</th>\n",
              "      <td>July</td>\n",
              "      <td>0.18</td>\n",
              "    </tr>\n",
              "    <tr>\n",
              "      <th>5</th>\n",
              "      <td>June</td>\n",
              "      <td>0.15</td>\n",
              "    </tr>\n",
              "    <tr>\n",
              "      <th>2</th>\n",
              "      <td>March</td>\n",
              "      <td>0.12</td>\n",
              "    </tr>\n",
              "    <tr>\n",
              "      <th>11</th>\n",
              "      <td>December</td>\n",
              "      <td>0.09</td>\n",
              "    </tr>\n",
              "  </tbody>\n",
              "</table>\n",
              "</div>\n",
              "      <button class=\"colab-df-convert\" onclick=\"convertToInteractive('df-d258f8c7-b15e-4e69-84ae-1673397436f4')\"\n",
              "              title=\"Convert this dataframe to an interactive table.\"\n",
              "              style=\"display:none;\">\n",
              "        \n",
              "  <svg xmlns=\"http://www.w3.org/2000/svg\" height=\"24px\"viewBox=\"0 0 24 24\"\n",
              "       width=\"24px\">\n",
              "    <path d=\"M0 0h24v24H0V0z\" fill=\"none\"/>\n",
              "    <path d=\"M18.56 5.44l.94 2.06.94-2.06 2.06-.94-2.06-.94-.94-2.06-.94 2.06-2.06.94zm-11 1L8.5 8.5l.94-2.06 2.06-.94-2.06-.94L8.5 2.5l-.94 2.06-2.06.94zm10 10l.94 2.06.94-2.06 2.06-.94-2.06-.94-.94-2.06-.94 2.06-2.06.94z\"/><path d=\"M17.41 7.96l-1.37-1.37c-.4-.4-.92-.59-1.43-.59-.52 0-1.04.2-1.43.59L10.3 9.45l-7.72 7.72c-.78.78-.78 2.05 0 2.83L4 21.41c.39.39.9.59 1.41.59.51 0 1.02-.2 1.41-.59l7.78-7.78 2.81-2.81c.8-.78.8-2.07 0-2.86zM5.41 20L4 18.59l7.72-7.72 1.47 1.35L5.41 20z\"/>\n",
              "  </svg>\n",
              "      </button>\n",
              "      \n",
              "  <style>\n",
              "    .colab-df-container {\n",
              "      display:flex;\n",
              "      flex-wrap:wrap;\n",
              "      gap: 12px;\n",
              "    }\n",
              "\n",
              "    .colab-df-convert {\n",
              "      background-color: #E8F0FE;\n",
              "      border: none;\n",
              "      border-radius: 50%;\n",
              "      cursor: pointer;\n",
              "      display: none;\n",
              "      fill: #1967D2;\n",
              "      height: 32px;\n",
              "      padding: 0 0 0 0;\n",
              "      width: 32px;\n",
              "    }\n",
              "\n",
              "    .colab-df-convert:hover {\n",
              "      background-color: #E2EBFA;\n",
              "      box-shadow: 0px 1px 2px rgba(60, 64, 67, 0.3), 0px 1px 3px 1px rgba(60, 64, 67, 0.15);\n",
              "      fill: #174EA6;\n",
              "    }\n",
              "\n",
              "    [theme=dark] .colab-df-convert {\n",
              "      background-color: #3B4455;\n",
              "      fill: #D2E3FC;\n",
              "    }\n",
              "\n",
              "    [theme=dark] .colab-df-convert:hover {\n",
              "      background-color: #434B5C;\n",
              "      box-shadow: 0px 1px 3px 1px rgba(0, 0, 0, 0.15);\n",
              "      filter: drop-shadow(0px 1px 2px rgba(0, 0, 0, 0.3));\n",
              "      fill: #FFFFFF;\n",
              "    }\n",
              "  </style>\n",
              "\n",
              "      <script>\n",
              "        const buttonEl =\n",
              "          document.querySelector('#df-d258f8c7-b15e-4e69-84ae-1673397436f4 button.colab-df-convert');\n",
              "        buttonEl.style.display =\n",
              "          google.colab.kernel.accessAllowed ? 'block' : 'none';\n",
              "\n",
              "        async function convertToInteractive(key) {\n",
              "          const element = document.querySelector('#df-d258f8c7-b15e-4e69-84ae-1673397436f4');\n",
              "          const dataTable =\n",
              "            await google.colab.kernel.invokeFunction('convertToInteractive',\n",
              "                                                     [key], {});\n",
              "          if (!dataTable) return;\n",
              "\n",
              "          const docLinkHtml = 'Like what you see? Visit the ' +\n",
              "            '<a target=\"_blank\" href=https://colab.research.google.com/notebooks/data_table.ipynb>data table notebook</a>'\n",
              "            + ' to learn more about interactive tables.';\n",
              "          element.innerHTML = '';\n",
              "          dataTable['output_type'] = 'display_data';\n",
              "          await google.colab.output.renderOutput(dataTable, element);\n",
              "          const docLink = document.createElement('div');\n",
              "          docLink.innerHTML = docLinkHtml;\n",
              "          element.appendChild(docLink);\n",
              "        }\n",
              "      </script>\n",
              "    </div>\n",
              "  </div>\n",
              "  "
            ],
            "text/plain": [
              "          Mês  Perdas\n",
              "8   September    0.47\n",
              "0     January    0.42\n",
              "10   November    0.42\n",
              "1    February    0.38\n",
              "3       April    0.34\n",
              "7      August    0.31\n",
              "9     October    0.24\n",
              "4         May    0.22\n",
              "6        July    0.18\n",
              "5        June    0.15\n",
              "2       March    0.12\n",
              "11   December    0.09"
            ]
          },
          "metadata": {},
          "execution_count": 5
        }
      ]
    },
    {
      "cell_type": "code",
      "source": [
        "print(f\"Valor da mediana é de : {st.median(perdas_mes.Perdas)}\")"
      ],
      "metadata": {
        "colab": {
          "base_uri": "https://localhost:8080/"
        },
        "id": "ewuEX4Q6oWhN",
        "outputId": "26e4e9da-1150-40c3-bd5d-9bd8ed3e8aa7"
      },
      "execution_count": null,
      "outputs": [
        {
          "output_type": "stream",
          "name": "stdout",
          "text": [
            "Valor da mediana é de : 0.275\n"
          ]
        }
      ]
    },
    {
      "cell_type": "markdown",
      "source": [
        "##### Moda\n",
        "Valor que mais se repete em uma série"
      ],
      "metadata": {
        "id": "-MwfrXhbqocO"
      }
    },
    {
      "cell_type": "code",
      "source": [
        "print(f\"Valor da Moda é de : { st.mode(perdas_mes.Perdas)}\")"
      ],
      "metadata": {
        "colab": {
          "base_uri": "https://localhost:8080/"
        },
        "id": "JDm7BxtGqp1d",
        "outputId": "5db7b384-24ce-4d9c-ed35-4635e0194163"
      },
      "execution_count": null,
      "outputs": [
        {
          "output_type": "stream",
          "name": "stdout",
          "text": [
            "Valor da Moda é de : 0.42\n"
          ]
        }
      ]
    },
    {
      "cell_type": "markdown",
      "source": [
        "#### Medidas separatrizes"
      ],
      "metadata": {
        "id": "KeUEiWeHr6Wb"
      }
    },
    {
      "cell_type": "markdown",
      "source": [
        "##### Quartis"
      ],
      "metadata": {
        "id": "unceP4HpsIGR"
      }
    },
    {
      "cell_type": "code",
      "source": [
        "soma = np.round(sum(perdas_mes[\"Perdas\"]),2)\n",
        "print(f\"Soma das frequência é: {soma}\")"
      ],
      "metadata": {
        "colab": {
          "base_uri": "https://localhost:8080/"
        },
        "id": "LDZgLl9CFyoW",
        "outputId": "49392e89-448d-4605-f888-8e5d37661b02"
      },
      "execution_count": null,
      "outputs": [
        {
          "output_type": "stream",
          "name": "stdout",
          "text": [
            "Soma das frequência é: 3.34\n"
          ]
        }
      ]
    },
    {
      "cell_type": "code",
      "source": [
        "q = np.round(perdas_mes[\"Perdas\"].quantile(q = 0.25),2)\n",
        "print(f\"Q1: {q}\")\n",
        "\n",
        "q = np.round(perdas_mes[\"Perdas\"].quantile(q = 0.50),2)\n",
        "print(f\"Q2: {q}\")\n",
        "\n",
        "q = np.round(perdas_mes[\"Perdas\"].quantile(q = 0.75),2)\n",
        "print(f\"Q3: {q}\")"
      ],
      "metadata": {
        "colab": {
          "base_uri": "https://localhost:8080/"
        },
        "id": "x_SNeWc0HQ7i",
        "outputId": "7be2cdf7-3a23-46cb-8061-ae3bc0dca99f"
      },
      "execution_count": null,
      "outputs": [
        {
          "output_type": "stream",
          "name": "stdout",
          "text": [
            "Q1: 0.17\n",
            "Q2: 0.28\n",
            "Q3: 0.39\n"
          ]
        }
      ]
    },
    {
      "cell_type": "markdown",
      "source": [
        "De maneira geral o Quartis são os mais usados, `Q1` significa que *25%* dos meseses do ano analisados possuiam perda  inferiores a de 0.17%, `Q2` que *50%* dos meses do ano tiveram perdas menores que 0.28 e `Q3`que em 75% dos meses do ano a empresa teve perda de 0.39.  \n",
        "\n",
        "`OBS:`A demais, os Decis e Percentis estabelecem a mesma lógica citada a cima."
      ],
      "metadata": {
        "id": "ifZSL519VXNP"
      }
    },
    {
      "cell_type": "markdown",
      "source": [
        "##### Decis"
      ],
      "metadata": {
        "id": "OhHOiKuDsJwi"
      }
    },
    {
      "cell_type": "code",
      "source": [
        "q = np.round(perdas_mes[\"Perdas\"].quantile(q = 0.10),2)\n",
        "print(f\"D1: {q}\")\n",
        "\n",
        "q = np.round(perdas_mes[\"Perdas\"].quantile(q = 0.20),2)\n",
        "print(f\"D2: {q}\")\n",
        "\n",
        "q = np.round(perdas_mes[\"Perdas\"].quantile(q = 0.30),2)\n",
        "print(f\"D3: {q}\")\n",
        "\n",
        "q = np.round(perdas_mes[\"Perdas\"].quantile(q = 0.40),2)\n",
        "print(f\"D4: {q}\")\n",
        "\n",
        "q = np.round(perdas_mes[\"Perdas\"].quantile(q = 0.50),2)\n",
        "print(f\"D5: {q}\")\n",
        "\n",
        "q = np.round(perdas_mes[\"Perdas\"].quantile(q = 0.60),2)\n",
        "print(f\"D6: {q}\")\n",
        "\n",
        "q = np.round(perdas_mes[\"Perdas\"].quantile(q = 0.70),2)\n",
        "print(f\"D7: {q}\")\n",
        "\n",
        "q = np.round(perdas_mes[\"Perdas\"].quantile(q = 0.80),2)\n",
        "print(f\"D8: {q}\")"
      ],
      "metadata": {
        "colab": {
          "base_uri": "https://localhost:8080/"
        },
        "id": "HU2XEjMUKuxd",
        "outputId": "74bc006d-c521-4bd0-e04f-843ab541e22c"
      },
      "execution_count": null,
      "outputs": [
        {
          "output_type": "stream",
          "name": "stdout",
          "text": [
            "D1: 0.12\n",
            "D2: 0.16\n",
            "D3: 0.19\n",
            "D4: 0.23\n",
            "D5: 0.28\n",
            "D6: 0.33\n",
            "D7: 0.37\n",
            "D8: 0.41\n"
          ]
        }
      ]
    },
    {
      "cell_type": "markdown",
      "source": [
        "##### Percentis"
      ],
      "metadata": {
        "id": "VY-lfHsOsMoC"
      }
    },
    {
      "cell_type": "code",
      "source": [
        "q = np.round(perdas_mes[\"Perdas\"].quantile(q = 0.25),2)\n",
        "print(f\"P25: {q}\")\n",
        "\n",
        "q = np.round(perdas_mes[\"Perdas\"].quantile(q = 0.50),2)\n",
        "print(f\"P50: {q}\")\n",
        "\n",
        "q = np.round(perdas_mes[\"Perdas\"].quantile(q = 0.75),2)\n",
        "print(f\"P75: {q}\")"
      ],
      "metadata": {
        "colab": {
          "base_uri": "https://localhost:8080/"
        },
        "id": "gIdOtufLLBr1",
        "outputId": "f21bddbb-db23-42ff-b5b1-ad7505ba1f08"
      },
      "execution_count": null,
      "outputs": [
        {
          "output_type": "stream",
          "name": "stdout",
          "text": [
            "P25: 0.17\n",
            "P50: 0.28\n",
            "P75: 0.39\n"
          ]
        }
      ]
    },
    {
      "cell_type": "markdown",
      "source": [
        "##### Identificação de Outliers\n",
        "\n",
        "Outliers são aquelas observações que possuem grande afastamente das demais, sendo então umv alor inconsitents, ou ainda atípicos, discrepantes, anormais ou extremos.\n",
        "\n",
        "*Ex: Amostragem de salários de uma empresa, no qual a maioria recebe de 3 a 10 salários minimos, com um executivo que recebe 50 salários minimos, esse valor de 50 é inconsitente.*\n",
        "\n",
        "`Métodos de Identificação: ` boxplot, modelos de discordância, teste de Dixon, teste de Grubbs, Zscore ...\n",
        "\n"
      ],
      "metadata": {
        "id": "qAUXlsDVLvgN"
      }
    },
    {
      "cell_type": "code",
      "source": [
        "tempo = pd.DataFrame([44.0, 44.5, 44.7, 44.8, 44.9, 44.9, 45, 45, 45,\n",
        "                       45, 45.4, 45.6, 45.7, 45.8, 46, 46.2, 46.2, 46.3, 46.5 ])\n",
        "tempo.columns = [\"tempo\"]\n",
        "tempo = tempo.sort_values(\"tempo\")"
      ],
      "metadata": {
        "id": "qvpFKJtKLzh0"
      },
      "execution_count": null,
      "outputs": []
    },
    {
      "cell_type": "code",
      "source": [
        "def verifica_outlier_moderado(dados):\n",
        "\n",
        "    #Calcular quartis\n",
        "    q1 = dados.quantile(q=0.25)\n",
        "    q2 = dados.quantile(q=0.50)\n",
        "    q3 = dados.quantile(q=0.75)\n",
        "\n",
        "    #Criando resultados\n",
        "    resultado = pd.DataFrame([])\n",
        "\n",
        "    #Calcular amplitude de quartil\n",
        "    aiq = (q3 - q1)\n",
        "\n",
        "    #Checando limite\n",
        "    limite_inf = q1 - 1.5*aiq\n",
        "    limite_sup = q3 + 1.5*aiq\n",
        "\n",
        "    resultado[\"Max\"] = dados.max()\n",
        "    resultado[\"Min\"] = dados.min()\n",
        "    resultado[\"Inf\"] = limite_inf\n",
        "    resultado[\"Sup\"] = limite_sup\n",
        "    resultado[\"AIQ\"] = aiq\n",
        "    resultado[\"Q1\"] = q1\n",
        "    resultado[\"Q2\"] = q2\n",
        "    resultado[\"Q3\"] = q3\n",
        "\n",
        "    return resultado"
      ],
      "metadata": {
        "id": "87_Jsul5YFk9"
      },
      "execution_count": null,
      "outputs": []
    },
    {
      "cell_type": "code",
      "source": [
        "verifica_outlier_moderado(tempo)"
      ],
      "metadata": {
        "colab": {
          "base_uri": "https://localhost:8080/",
          "height": 81
        },
        "id": "F_y9W01yZU_T",
        "outputId": "4b126a6e-591c-4c3e-f931-2b39eaa3cf4c"
      },
      "execution_count": null,
      "outputs": [
        {
          "output_type": "execute_result",
          "data": {
            "text/html": [
              "\n",
              "  <div id=\"df-b175f40e-9078-4784-b922-faa7a2f932d6\">\n",
              "    <div class=\"colab-df-container\">\n",
              "      <div>\n",
              "<style scoped>\n",
              "    .dataframe tbody tr th:only-of-type {\n",
              "        vertical-align: middle;\n",
              "    }\n",
              "\n",
              "    .dataframe tbody tr th {\n",
              "        vertical-align: top;\n",
              "    }\n",
              "\n",
              "    .dataframe thead th {\n",
              "        text-align: right;\n",
              "    }\n",
              "</style>\n",
              "<table border=\"1\" class=\"dataframe\">\n",
              "  <thead>\n",
              "    <tr style=\"text-align: right;\">\n",
              "      <th></th>\n",
              "      <th>Max</th>\n",
              "      <th>Min</th>\n",
              "      <th>Inf</th>\n",
              "      <th>Sup</th>\n",
              "      <th>AIQ</th>\n",
              "      <th>Q1</th>\n",
              "      <th>Q2</th>\n",
              "      <th>Q3</th>\n",
              "    </tr>\n",
              "  </thead>\n",
              "  <tbody>\n",
              "    <tr>\n",
              "      <th>tempo</th>\n",
              "      <td>46.5</td>\n",
              "      <td>44.0</td>\n",
              "      <td>43.4</td>\n",
              "      <td>47.4</td>\n",
              "      <td>1.0</td>\n",
              "      <td>44.9</td>\n",
              "      <td>45.0</td>\n",
              "      <td>45.9</td>\n",
              "    </tr>\n",
              "  </tbody>\n",
              "</table>\n",
              "</div>\n",
              "      <button class=\"colab-df-convert\" onclick=\"convertToInteractive('df-b175f40e-9078-4784-b922-faa7a2f932d6')\"\n",
              "              title=\"Convert this dataframe to an interactive table.\"\n",
              "              style=\"display:none;\">\n",
              "        \n",
              "  <svg xmlns=\"http://www.w3.org/2000/svg\" height=\"24px\"viewBox=\"0 0 24 24\"\n",
              "       width=\"24px\">\n",
              "    <path d=\"M0 0h24v24H0V0z\" fill=\"none\"/>\n",
              "    <path d=\"M18.56 5.44l.94 2.06.94-2.06 2.06-.94-2.06-.94-.94-2.06-.94 2.06-2.06.94zm-11 1L8.5 8.5l.94-2.06 2.06-.94-2.06-.94L8.5 2.5l-.94 2.06-2.06.94zm10 10l.94 2.06.94-2.06 2.06-.94-2.06-.94-.94-2.06-.94 2.06-2.06.94z\"/><path d=\"M17.41 7.96l-1.37-1.37c-.4-.4-.92-.59-1.43-.59-.52 0-1.04.2-1.43.59L10.3 9.45l-7.72 7.72c-.78.78-.78 2.05 0 2.83L4 21.41c.39.39.9.59 1.41.59.51 0 1.02-.2 1.41-.59l7.78-7.78 2.81-2.81c.8-.78.8-2.07 0-2.86zM5.41 20L4 18.59l7.72-7.72 1.47 1.35L5.41 20z\"/>\n",
              "  </svg>\n",
              "      </button>\n",
              "      \n",
              "  <style>\n",
              "    .colab-df-container {\n",
              "      display:flex;\n",
              "      flex-wrap:wrap;\n",
              "      gap: 12px;\n",
              "    }\n",
              "\n",
              "    .colab-df-convert {\n",
              "      background-color: #E8F0FE;\n",
              "      border: none;\n",
              "      border-radius: 50%;\n",
              "      cursor: pointer;\n",
              "      display: none;\n",
              "      fill: #1967D2;\n",
              "      height: 32px;\n",
              "      padding: 0 0 0 0;\n",
              "      width: 32px;\n",
              "    }\n",
              "\n",
              "    .colab-df-convert:hover {\n",
              "      background-color: #E2EBFA;\n",
              "      box-shadow: 0px 1px 2px rgba(60, 64, 67, 0.3), 0px 1px 3px 1px rgba(60, 64, 67, 0.15);\n",
              "      fill: #174EA6;\n",
              "    }\n",
              "\n",
              "    [theme=dark] .colab-df-convert {\n",
              "      background-color: #3B4455;\n",
              "      fill: #D2E3FC;\n",
              "    }\n",
              "\n",
              "    [theme=dark] .colab-df-convert:hover {\n",
              "      background-color: #434B5C;\n",
              "      box-shadow: 0px 1px 3px 1px rgba(0, 0, 0, 0.15);\n",
              "      filter: drop-shadow(0px 1px 2px rgba(0, 0, 0, 0.3));\n",
              "      fill: #FFFFFF;\n",
              "    }\n",
              "  </style>\n",
              "\n",
              "      <script>\n",
              "        const buttonEl =\n",
              "          document.querySelector('#df-b175f40e-9078-4784-b922-faa7a2f932d6 button.colab-df-convert');\n",
              "        buttonEl.style.display =\n",
              "          google.colab.kernel.accessAllowed ? 'block' : 'none';\n",
              "\n",
              "        async function convertToInteractive(key) {\n",
              "          const element = document.querySelector('#df-b175f40e-9078-4784-b922-faa7a2f932d6');\n",
              "          const dataTable =\n",
              "            await google.colab.kernel.invokeFunction('convertToInteractive',\n",
              "                                                     [key], {});\n",
              "          if (!dataTable) return;\n",
              "\n",
              "          const docLinkHtml = 'Like what you see? Visit the ' +\n",
              "            '<a target=\"_blank\" href=https://colab.research.google.com/notebooks/data_table.ipynb>data table notebook</a>'\n",
              "            + ' to learn more about interactive tables.';\n",
              "          element.innerHTML = '';\n",
              "          dataTable['output_type'] = 'display_data';\n",
              "          await google.colab.output.renderOutput(dataTable, element);\n",
              "          const docLink = document.createElement('div');\n",
              "          docLink.innerHTML = docLinkHtml;\n",
              "          element.appendChild(docLink);\n",
              "        }\n",
              "      </script>\n",
              "    </div>\n",
              "  </div>\n",
              "  "
            ],
            "text/plain": [
              "        Max   Min   Inf   Sup  AIQ    Q1    Q2    Q3\n",
              "tempo  46.5  44.0  43.4  47.4  1.0  44.9  45.0  45.9"
            ]
          },
          "metadata": {},
          "execution_count": 57
        }
      ]
    },
    {
      "cell_type": "markdown",
      "source": [
        "Como o valor `Max`e `Min` estão dentro do intervalor `Inf` e `Sup` não foi possível encontrar outiliers"
      ],
      "metadata": {
        "id": "BnyTt-ovbI02"
      }
    },
    {
      "cell_type": "code",
      "source": [
        "def verifica_outlier_extremo(dados):\n",
        "\n",
        "    #Calcular quartis\n",
        "    q1 = dados.quantile(q=0.25)\n",
        "    q2 = dados.quantile(q=0.50)\n",
        "    q3 = dados.quantile(q=0.75)\n",
        "\n",
        "    #Criando resultados\n",
        "    resultado = pd.DataFrame([])\n",
        "\n",
        "    #Calcular amplitude de quartil\n",
        "    aiq = (q3 - q1)\n",
        "\n",
        "    #Checando limite\n",
        "    limite_inf = q1 - 3*aiq\n",
        "    limite_sup = q3 + 3*aiq\n",
        "\n",
        "    resultado[\"Max\"] = dados.max()\n",
        "    resultado[\"Min\"] = dados.min()\n",
        "    resultado[\"Inf\"] = limite_inf\n",
        "    resultado[\"Sup\"] = limite_sup\n",
        "    resultado[\"AIQ\"] = aiq\n",
        "    resultado[\"Q1\"] = q1\n",
        "    resultado[\"Q2\"] = q2\n",
        "    resultado[\"Q3\"] = q3\n",
        "\n",
        "    return resultado"
      ],
      "metadata": {
        "id": "9X4L2Fsrbh3W"
      },
      "execution_count": null,
      "outputs": []
    },
    {
      "cell_type": "code",
      "source": [
        "verifica_outlier_extremo(tempo)"
      ],
      "metadata": {
        "colab": {
          "base_uri": "https://localhost:8080/",
          "height": 81
        },
        "id": "xbm-f6PCbsq9",
        "outputId": "18b964d5-116f-45c9-ddd1-3c9bfac89c7f"
      },
      "execution_count": null,
      "outputs": [
        {
          "output_type": "execute_result",
          "data": {
            "text/html": [
              "\n",
              "  <div id=\"df-e4cc9205-2e49-4da0-a296-a9e101298a3c\">\n",
              "    <div class=\"colab-df-container\">\n",
              "      <div>\n",
              "<style scoped>\n",
              "    .dataframe tbody tr th:only-of-type {\n",
              "        vertical-align: middle;\n",
              "    }\n",
              "\n",
              "    .dataframe tbody tr th {\n",
              "        vertical-align: top;\n",
              "    }\n",
              "\n",
              "    .dataframe thead th {\n",
              "        text-align: right;\n",
              "    }\n",
              "</style>\n",
              "<table border=\"1\" class=\"dataframe\">\n",
              "  <thead>\n",
              "    <tr style=\"text-align: right;\">\n",
              "      <th></th>\n",
              "      <th>Max</th>\n",
              "      <th>Min</th>\n",
              "      <th>Inf</th>\n",
              "      <th>Sup</th>\n",
              "      <th>AIQ</th>\n",
              "      <th>Q1</th>\n",
              "      <th>Q2</th>\n",
              "      <th>Q3</th>\n",
              "    </tr>\n",
              "  </thead>\n",
              "  <tbody>\n",
              "    <tr>\n",
              "      <th>tempo</th>\n",
              "      <td>46.5</td>\n",
              "      <td>44.0</td>\n",
              "      <td>41.9</td>\n",
              "      <td>48.9</td>\n",
              "      <td>1.0</td>\n",
              "      <td>44.9</td>\n",
              "      <td>45.0</td>\n",
              "      <td>45.9</td>\n",
              "    </tr>\n",
              "  </tbody>\n",
              "</table>\n",
              "</div>\n",
              "      <button class=\"colab-df-convert\" onclick=\"convertToInteractive('df-e4cc9205-2e49-4da0-a296-a9e101298a3c')\"\n",
              "              title=\"Convert this dataframe to an interactive table.\"\n",
              "              style=\"display:none;\">\n",
              "        \n",
              "  <svg xmlns=\"http://www.w3.org/2000/svg\" height=\"24px\"viewBox=\"0 0 24 24\"\n",
              "       width=\"24px\">\n",
              "    <path d=\"M0 0h24v24H0V0z\" fill=\"none\"/>\n",
              "    <path d=\"M18.56 5.44l.94 2.06.94-2.06 2.06-.94-2.06-.94-.94-2.06-.94 2.06-2.06.94zm-11 1L8.5 8.5l.94-2.06 2.06-.94-2.06-.94L8.5 2.5l-.94 2.06-2.06.94zm10 10l.94 2.06.94-2.06 2.06-.94-2.06-.94-.94-2.06-.94 2.06-2.06.94z\"/><path d=\"M17.41 7.96l-1.37-1.37c-.4-.4-.92-.59-1.43-.59-.52 0-1.04.2-1.43.59L10.3 9.45l-7.72 7.72c-.78.78-.78 2.05 0 2.83L4 21.41c.39.39.9.59 1.41.59.51 0 1.02-.2 1.41-.59l7.78-7.78 2.81-2.81c.8-.78.8-2.07 0-2.86zM5.41 20L4 18.59l7.72-7.72 1.47 1.35L5.41 20z\"/>\n",
              "  </svg>\n",
              "      </button>\n",
              "      \n",
              "  <style>\n",
              "    .colab-df-container {\n",
              "      display:flex;\n",
              "      flex-wrap:wrap;\n",
              "      gap: 12px;\n",
              "    }\n",
              "\n",
              "    .colab-df-convert {\n",
              "      background-color: #E8F0FE;\n",
              "      border: none;\n",
              "      border-radius: 50%;\n",
              "      cursor: pointer;\n",
              "      display: none;\n",
              "      fill: #1967D2;\n",
              "      height: 32px;\n",
              "      padding: 0 0 0 0;\n",
              "      width: 32px;\n",
              "    }\n",
              "\n",
              "    .colab-df-convert:hover {\n",
              "      background-color: #E2EBFA;\n",
              "      box-shadow: 0px 1px 2px rgba(60, 64, 67, 0.3), 0px 1px 3px 1px rgba(60, 64, 67, 0.15);\n",
              "      fill: #174EA6;\n",
              "    }\n",
              "\n",
              "    [theme=dark] .colab-df-convert {\n",
              "      background-color: #3B4455;\n",
              "      fill: #D2E3FC;\n",
              "    }\n",
              "\n",
              "    [theme=dark] .colab-df-convert:hover {\n",
              "      background-color: #434B5C;\n",
              "      box-shadow: 0px 1px 3px 1px rgba(0, 0, 0, 0.15);\n",
              "      filter: drop-shadow(0px 1px 2px rgba(0, 0, 0, 0.3));\n",
              "      fill: #FFFFFF;\n",
              "    }\n",
              "  </style>\n",
              "\n",
              "      <script>\n",
              "        const buttonEl =\n",
              "          document.querySelector('#df-e4cc9205-2e49-4da0-a296-a9e101298a3c button.colab-df-convert');\n",
              "        buttonEl.style.display =\n",
              "          google.colab.kernel.accessAllowed ? 'block' : 'none';\n",
              "\n",
              "        async function convertToInteractive(key) {\n",
              "          const element = document.querySelector('#df-e4cc9205-2e49-4da0-a296-a9e101298a3c');\n",
              "          const dataTable =\n",
              "            await google.colab.kernel.invokeFunction('convertToInteractive',\n",
              "                                                     [key], {});\n",
              "          if (!dataTable) return;\n",
              "\n",
              "          const docLinkHtml = 'Like what you see? Visit the ' +\n",
              "            '<a target=\"_blank\" href=https://colab.research.google.com/notebooks/data_table.ipynb>data table notebook</a>'\n",
              "            + ' to learn more about interactive tables.';\n",
              "          element.innerHTML = '';\n",
              "          dataTable['output_type'] = 'display_data';\n",
              "          await google.colab.output.renderOutput(dataTable, element);\n",
              "          const docLink = document.createElement('div');\n",
              "          docLink.innerHTML = docLinkHtml;\n",
              "          element.appendChild(docLink);\n",
              "        }\n",
              "      </script>\n",
              "    </div>\n",
              "  </div>\n",
              "  "
            ],
            "text/plain": [
              "        Max   Min   Inf   Sup  AIQ    Q1    Q2    Q3\n",
              "tempo  46.5  44.0  41.9  48.9  1.0  44.9  45.0  45.9"
            ]
          },
          "metadata": {},
          "execution_count": 60
        }
      ]
    },
    {
      "cell_type": "markdown",
      "source": [
        "Como o valor `Max`e `Min` estão dentro do intervalor `Inf` e `Sup` não foi possível encontrar outiliers já no teste moderado, não precisaria ser calculado."
      ],
      "metadata": {
        "id": "ZiaPXABYbvjd"
      }
    },
    {
      "cell_type": "markdown",
      "source": [
        "#### Medidas de dispersão"
      ],
      "metadata": {
        "id": "9DSxwBKOc0uC"
      }
    },
    {
      "cell_type": "markdown",
      "source": [
        "##### Amplitude\n",
        "\n",
        "Medida mais simples é a amplitude total, que é a diferença entre o máximo e o minimo das observações."
      ],
      "metadata": {
        "id": "Y9mGZf-YdP7h"
      }
    },
    {
      "cell_type": "code",
      "source": [
        "dados = [12.4, 22.6, 19.9, 9.7, 14.5, 22.5, 26.3, 17.7, 31.2, 20.4]"
      ],
      "metadata": {
        "id": "m7hUOGsIdPIL"
      },
      "execution_count": null,
      "outputs": []
    },
    {
      "cell_type": "code",
      "source": [
        "amplitude = max(dados) - min(dados)\n",
        "amplitude"
      ],
      "metadata": {
        "colab": {
          "base_uri": "https://localhost:8080/"
        },
        "id": "TRR_ztXQc_BZ",
        "outputId": "2a050a32-c7cc-4ba4-e3fe-17ec8f768d81"
      },
      "execution_count": null,
      "outputs": [
        {
          "output_type": "execute_result",
          "data": {
            "text/plain": [
              "21.5"
            ]
          },
          "metadata": {},
          "execution_count": 73
        }
      ]
    },
    {
      "cell_type": "markdown",
      "source": [
        "##### Desvio Médio\n",
        "\n",
        "Medida é a difenreça entre cada valor observado e a média.\n",
        "\n",
        "*  Para População: \n",
        "$D_{m} = \\frac{\\sum_{i}^nX_i-\\mu}{N}\n",
        "$\n",
        "\n",
        "\n",
        "*  Para amostra: \n",
        "$D_{m} = \\frac{\\sum_{i}^nX_i-\\overline{X}}{n}\n",
        "$"
      ],
      "metadata": {
        "id": "GrUFI0X4dR-q"
      }
    },
    {
      "cell_type": "code",
      "source": [
        "#Calcular desvio médio\n",
        "tempo.mad() "
      ],
      "metadata": {
        "colab": {
          "base_uri": "https://localhost:8080/"
        },
        "id": "6bplwmkUhNf1",
        "outputId": "961b460a-a0eb-4522-9c9f-0ebb74f60925"
      },
      "execution_count": null,
      "outputs": [
        {
          "output_type": "execute_result",
          "data": {
            "text/plain": [
              "tempo    0.59169\n",
              "dtype: float64"
            ]
          },
          "metadata": {},
          "execution_count": 83
        }
      ]
    },
    {
      "cell_type": "markdown",
      "source": [
        "##### Variância\n",
        "Media da variabilidade dos dados quanto a média aritimétrica, quanto maior a variância maior a dispersão.\n",
        "\n",
        "*  Para População: \n",
        "$\\sigma^2  =  \\frac{\\sum_{i}^n(X_i-\\mu)^2}{N}$\n",
        "\n",
        "\n",
        "*  Para Amostra: \n",
        "$S^2  =  \\frac{\\sum_{i}^n(X_i-\\overline{X})^2}{n - 1}$"
      ],
      "metadata": {
        "id": "U1QrPez9fUjT"
      }
    },
    {
      "cell_type": "code",
      "source": [
        "#Para a população de observações\n",
        "st.pvariance(dados)"
      ],
      "metadata": {
        "colab": {
          "base_uri": "https://localhost:8080/"
        },
        "id": "ghG-6EOtgK7s",
        "outputId": "360e428b-dd28-49cf-9026-b3ce8d822967"
      },
      "execution_count": null,
      "outputs": [
        {
          "output_type": "execute_result",
          "data": {
            "text/plain": [
              "37.6916"
            ]
          },
          "metadata": {},
          "execution_count": 68
        }
      ]
    },
    {
      "cell_type": "code",
      "source": [
        "#Para a população de observações\n",
        "st.variance(dados)"
      ],
      "metadata": {
        "colab": {
          "base_uri": "https://localhost:8080/"
        },
        "id": "A4B9jkpKgOXF",
        "outputId": "3b5dbf6f-f9bc-42d2-ae27-03c64223506a"
      },
      "execution_count": null,
      "outputs": [
        {
          "output_type": "execute_result",
          "data": {
            "text/plain": [
              "41.879555555555555"
            ]
          },
          "metadata": {},
          "execution_count": 69
        }
      ]
    },
    {
      "cell_type": "markdown",
      "source": [
        "##### Desvio Padrão\n",
        "Para resolver a difilculdade de interpretar a variância devido o valor sem muito grande, realiza-se a raíz desse valor, tendendo a ficar mais fácil de interpretar.\n",
        "\n",
        "\n",
        "*  Para População: \n",
        "$\\sigma =  \\sqrt{\\sigma^2}$\n",
        "\n",
        "\n",
        "*  Para Amostra: \n",
        "$S  =  \\sqrt{S^2}$"
      ],
      "metadata": {
        "id": "WYn2WInSfWyl"
      }
    },
    {
      "cell_type": "code",
      "source": [
        "#Para a população de observações\n",
        "st.pstdev(dados)"
      ],
      "metadata": {
        "colab": {
          "base_uri": "https://localhost:8080/"
        },
        "id": "RpgwLVZfe6jf",
        "outputId": "7a66ab47-de10-44e5-da4b-249c6fa666e1"
      },
      "execution_count": null,
      "outputs": [
        {
          "output_type": "execute_result",
          "data": {
            "text/plain": [
              "6.139348499637401"
            ]
          },
          "metadata": {},
          "execution_count": 65
        }
      ]
    },
    {
      "cell_type": "code",
      "source": [
        "#Para a população de observações\n",
        "st.stdev(dados)"
      ],
      "metadata": {
        "colab": {
          "base_uri": "https://localhost:8080/"
        },
        "id": "IEirs3eLfOsu",
        "outputId": "9681bb0d-2021-45eb-d631-9dba4f3907bc"
      },
      "execution_count": null,
      "outputs": [
        {
          "output_type": "execute_result",
          "data": {
            "text/plain": [
              "6.471441536130536"
            ]
          },
          "metadata": {},
          "execution_count": 66
        }
      ]
    },
    {
      "cell_type": "markdown",
      "source": [
        "##### Erro-padrão\n",
        "Basicamente é o desvio-padrão da média.\n",
        "\n",
        "\n",
        "*  Para População: \n",
        "$\\sigma_{\\overline{X}} =  \\frac{\\sigma}{\\sqrt{N}}$\n",
        "\n",
        "\n",
        "*  Para Amostra: \n",
        "$S_{\\overline{X}}  =  \\frac{S}{\\sqrt{n}}$"
      ],
      "metadata": {
        "id": "7_oFuyqfi4Al"
      }
    },
    {
      "cell_type": "code",
      "source": [
        "mistura_concreto = [124, 111, 132, 142, 108, 127, 133, 144, 148, 105]\n",
        "tempo_mistura = [124, 102, 135, 126, 132, 129, 156, 112, 108, 134,\n",
        "                 126, 104, 143, 140, 138, 129, 119, 114, 107, 121,\n",
        "                 124, 112, 148, 145, 130, 125, 120, 127, 106, 148]"
      ],
      "metadata": {
        "id": "R0zpa6k7jUYB"
      },
      "execution_count": 2,
      "outputs": []
    },
    {
      "cell_type": "code",
      "source": [
        "desvio_mistura = np.round(st.stdev(mistura_concreto),2)\n",
        "desvio_mistura"
      ],
      "metadata": {
        "colab": {
          "base_uri": "https://localhost:8080/"
        },
        "id": "hOIL57Xu5WKZ",
        "outputId": "8a1e3fd0-86b5-41c5-b6fb-cac5107ab976"
      },
      "execution_count": 4,
      "outputs": [
        {
          "output_type": "execute_result",
          "data": {
            "text/plain": [
              "15.36"
            ]
          },
          "metadata": {},
          "execution_count": 4
        }
      ]
    },
    {
      "cell_type": "code",
      "source": [
        "desvio_tempo_mistura = np.round(st.stdev(tempo_mistura),2)\n",
        "desvio_tempo_mistura"
      ],
      "metadata": {
        "colab": {
          "base_uri": "https://localhost:8080/"
        },
        "id": "y7fr3eit52sG",
        "outputId": "1fbd2b10-7a68-4d4d-8b03-2d8d123578fa"
      },
      "execution_count": 5,
      "outputs": [
        {
          "output_type": "execute_result",
          "data": {
            "text/plain": [
              "14.23"
            ]
          },
          "metadata": {},
          "execution_count": 5
        }
      ]
    },
    {
      "cell_type": "code",
      "source": [
        "erro_mistura = np.round(desvio_mistura/ np.sqrt(len(mistura_concreto)), 2)\n",
        "erro_mistura"
      ],
      "metadata": {
        "colab": {
          "base_uri": "https://localhost:8080/"
        },
        "id": "cU8qJPx_6DAS",
        "outputId": "5c26107d-16a0-45ff-af65-137fe1be934a"
      },
      "execution_count": 9,
      "outputs": [
        {
          "output_type": "execute_result",
          "data": {
            "text/plain": [
              "4.86"
            ]
          },
          "metadata": {},
          "execution_count": 9
        }
      ]
    },
    {
      "cell_type": "code",
      "source": [
        "erro_tempo_mistura = np.round(desvio_tempo_mistura/ np.sqrt(len(tempo_mistura)), 2)\n",
        "erro_tempo_mistura"
      ],
      "metadata": {
        "colab": {
          "base_uri": "https://localhost:8080/"
        },
        "id": "2DepmI-y6kZc",
        "outputId": "90fe0b2c-7669-4349-a4da-99fcf981627c"
      },
      "execution_count": 10,
      "outputs": [
        {
          "output_type": "execute_result",
          "data": {
            "text/plain": [
              "2.6"
            ]
          },
          "metadata": {},
          "execution_count": 10
        }
      ]
    },
    {
      "cell_type": "markdown",
      "source": [
        "##### Coeficiente de variacção\n",
        "Medida de dispersão relativa que informa a variação dos dados em relação a média\n",
        "\n",
        "\n",
        "*  Para População: \n",
        "$CV=  \\frac{\\sigma}{\\mu}\\cdot100 $\n",
        "\n",
        "\n",
        "*  Para Amostra: \n",
        "$CV  =  \\frac{\\sigma}{\\overline{X}}\\cdot100$"
      ],
      "metadata": {
        "id": "YaDHCc-I6r1F"
      }
    },
    {
      "cell_type": "code",
      "source": [
        "cv_mistura  = np.round(desvio_mistura/np.mean(mistura_concreto)*100, 2)\n",
        "cv_mistura"
      ],
      "metadata": {
        "colab": {
          "base_uri": "https://localhost:8080/"
        },
        "id": "BEAzuG0u7Y8M",
        "outputId": "8ce5c6f9-bc43-4c6a-f04f-07796d7667c3"
      },
      "execution_count": 23,
      "outputs": [
        {
          "output_type": "execute_result",
          "data": {
            "text/plain": [
              "12.06"
            ]
          },
          "metadata": {},
          "execution_count": 23
        }
      ]
    },
    {
      "cell_type": "code",
      "source": [
        "cv_mistura  = np.round(desvio_tempo_mistura/np.mean(tempo_mistura)*100, 2)\n",
        "cv_mistura"
      ],
      "metadata": {
        "colab": {
          "base_uri": "https://localhost:8080/"
        },
        "id": "bqpGaIQK73-A",
        "outputId": "b8b3186c-235c-4bc2-b83c-ba1d6537b408"
      },
      "execution_count": 24,
      "outputs": [
        {
          "output_type": "execute_result",
          "data": {
            "text/plain": [
              "11.28"
            ]
          },
          "metadata": {},
          "execution_count": 24
        }
      ]
    },
    {
      "cell_type": "markdown",
      "source": [
        "#### Medidas de forma\n",
        "As mais comuns medidas de forma são a de assimetria (skewness) e curtose (kurtosis) onde representa a distribuição dos elementos em torno da amostras.\n",
        "\n",
        "* `Medidas de Assimetria:` refere-se a forma da curva de distribuição de frequência, pode ser diferenciados em simétrica, assimétrica à direita (positiva) e assimétrica à esquerda (negativa)\n",
        "\n",
        "* `Curtose:` é a medida que caracteriza a forma de distribuição da variável (achatamento da curva de distribuição de frequência) e pode ser definida como mesocúrtica, platicúrtica e leptocúrtica."
      ],
      "metadata": {
        "id": "iib3DYfF8x9h"
      }
    },
    {
      "cell_type": "markdown",
      "source": [
        "##### Medidas de Assimetria\n"
      ],
      "metadata": {
        "id": "EO8jqrjM-EBp"
      }
    },
    {
      "cell_type": "code",
      "source": [
        "dados_simetricos = skewnorm.rvs(a=1, size=1000)\n",
        "dados_negativo = skewnorm.rvs(a=-4, size=1000)\n",
        "dados_positivo = skewnorm.rvs(a=10, size=1000)"
      ],
      "metadata": {
        "id": "Dd0g6X9vUjRw"
      },
      "execution_count": 267,
      "outputs": []
    },
    {
      "cell_type": "code",
      "source": [
        "fig, ax = plt.subplots(1, 3, figsize = (22, 4))\n",
        "ax[0].set_title(\"Histograma simétrico\")\n",
        "ax[1].set_title(\"Histograma negativo\")\n",
        "ax[2].set_title(\"Histograma positivo\")\n",
        "sns.histplot(dados_simetricos, kde=True, bins=100, legend=False, ax = ax[0])\n",
        "sns.histplot(dados_negativo, kde=True,  bins='auto', legend=False, ax = ax[1])\n",
        "sns.histplot(dados_positivo , kde=True,  bins='auto', legend=False, ax = ax[2]);"
      ],
      "metadata": {
        "colab": {
          "base_uri": "https://localhost:8080/",
          "height": 281
        },
        "id": "UEYiNXW-9RcN",
        "outputId": "5553bc56-d95c-4842-8182-4273b1367ea5"
      },
      "execution_count": 268,
      "outputs": [
        {
          "output_type": "display_data",
          "data": {
            "image/png": "[encoded data removed]",
            "text/plain": [
              "<Figure size 1584x288 with 3 Axes>"
            ]
          },
          "metadata": {
            "needs_background": "light"
          }
        }
      ]
    },
    {
      "cell_type": "markdown",
      "source": [
        "###### Coediciente de assimetria de Pearson\n",
        "Medida que leva em consideração a diferença entre a média e moda comparada ao desvio padrão\n",
        "\n",
        "* Para população:\n",
        "$ A_{S_1} = \\frac{\\mu - M_{0}}{\\sigma}$\n",
        "\n",
        "\n",
        "* Para amostra:\n",
        "$ A_{S_1} = \\frac{\\overline{X} - M_{0}}{S}$\n",
        "\n",
        "$A_{S_1} = 0$ simétrica <p>\n",
        "$A_{S_1} > 0$ assimétrica positiva<p>\n",
        "$A_{S_1} < 0$ assimétrica negativa<p>"
      ],
      "metadata": {
        "id": "xQBNerCwGz1V"
      }
    },
    {
      "cell_type": "code",
      "source": [
        "skew(dados_simetricos)"
      ],
      "metadata": {
        "colab": {
          "base_uri": "https://localhost:8080/"
        },
        "id": "4awhQXe_GyW5",
        "outputId": "6f9dc740-f24f-4589-ad0c-6d02f5ef0b51"
      },
      "execution_count": 269,
      "outputs": [
        {
          "output_type": "execute_result",
          "data": {
            "text/plain": [
              "0.15847570596070695"
            ]
          },
          "metadata": {},
          "execution_count": 269
        }
      ]
    },
    {
      "cell_type": "code",
      "source": [
        "skew(dados_negativo)"
      ],
      "metadata": {
        "colab": {
          "base_uri": "https://localhost:8080/"
        },
        "id": "q10g3QHOHuQ5",
        "outputId": "a47956fa-0a71-4910-ece9-8b2dc6c1dc64"
      },
      "execution_count": 270,
      "outputs": [
        {
          "output_type": "execute_result",
          "data": {
            "text/plain": [
              "-0.855554062479618"
            ]
          },
          "metadata": {},
          "execution_count": 270
        }
      ]
    },
    {
      "cell_type": "code",
      "source": [
        "skew(dados_positivo)"
      ],
      "metadata": {
        "colab": {
          "base_uri": "https://localhost:8080/"
        },
        "id": "MSMe7LPXHuTf",
        "outputId": "c9f12a03-8d3d-44b6-af40-b157ed18825f"
      },
      "execution_count": 271,
      "outputs": [
        {
          "output_type": "execute_result",
          "data": {
            "text/plain": [
              "1.0526724670041616"
            ]
          },
          "metadata": {},
          "execution_count": 271
        }
      ]
    },
    {
      "cell_type": "markdown",
      "source": [
        "###### Coediciente de assimetria de Bowley\n",
        "Conhecido como coediciente quartílico de assimetrica\n",
        "\n",
        "* Para população:\n",
        "$ A_{S_b} = \\frac{Q_3 + Q_1 - M_d}{Q_3 - Q_1}$\n",
        "\n",
        "\n",
        "$A_{S_1} = 0$ simétrica <p>\n",
        "$A_{S_1} > 0$ assimétrica positiva<p>\n",
        "$A_{S_1} < 0$ assimétrica negativa<p>"
      ],
      "metadata": {
        "id": "QbK2YgbXJniZ"
      }
    },
    {
      "cell_type": "code",
      "source": [
        "def bowley(dados):\n",
        "    q1 = np.quantile(dados, q = 0.25)\n",
        "    q3 = np.quantile(dados, q = 0.75)\n",
        "    md = np.mean(dados)\n",
        "\n",
        "    return (q3 + q1 - 2*md)/(q3 - q1)"
      ],
      "metadata": {
        "id": "thFzx7Y0KEmR"
      },
      "execution_count": 277,
      "outputs": []
    },
    {
      "cell_type": "code",
      "source": [
        "bowley(dados_simetricos)"
      ],
      "metadata": {
        "colab": {
          "base_uri": "https://localhost:8080/"
        },
        "id": "JLnpmR8ON0_1",
        "outputId": "c4f8cb2e-7446-489c-dfd9-37f01c45c2d6"
      },
      "execution_count": 278,
      "outputs": [
        {
          "output_type": "execute_result",
          "data": {
            "text/plain": [
              "-0.012410419687638896"
            ]
          },
          "metadata": {},
          "execution_count": 278
        }
      ]
    },
    {
      "cell_type": "code",
      "source": [
        "bowley(dados_negativo)"
      ],
      "metadata": {
        "colab": {
          "base_uri": "https://localhost:8080/"
        },
        "id": "LG3nQCj-OPBT",
        "outputId": "1c0ff6c8-a178-46fe-b131-d65f2517585b"
      },
      "execution_count": 279,
      "outputs": [
        {
          "output_type": "execute_result",
          "data": {
            "text/plain": [
              "0.13187140058023272"
            ]
          },
          "metadata": {},
          "execution_count": 279
        }
      ]
    },
    {
      "cell_type": "code",
      "source": [
        "bowley(dados_positivo)"
      ],
      "metadata": {
        "colab": {
          "base_uri": "https://localhost:8080/"
        },
        "id": "DjQBX5hbOPDr",
        "outputId": "54e63921-39ec-4e7a-9f59-3fa14ee101d8"
      },
      "execution_count": 280,
      "outputs": [
        {
          "output_type": "execute_result",
          "data": {
            "text/plain": [
              "-0.16076574428066515"
            ]
          },
          "metadata": {},
          "execution_count": 280
        }
      ]
    },
    {
      "cell_type": "markdown",
      "source": [
        "##### Medidas de Curtose\n",
        "Medida do grau de achatamento da curva\n",
        "\n",
        "$k = \\frac{Q_3- Q_1}{2(P_20 - P_100)}$ <p>\n",
        "$k = 0.263$ mesocúrtica<p> \n",
        "$k > 0.263$ laticúrtica <p> \n",
        "$k < 0.263$ leptocúrtuca <p> \n"
      ],
      "metadata": {
        "id": "mCv7gRMHOysd"
      }
    },
    {
      "cell_type": "code",
      "source": [
        "dados_meso = np.random.rand(100)\n",
        "while not kurtosis(dados_meso) > 0.26 and kurtosis(dados_meso) < 0.263:\n",
        "    dados_meso = skewnorm.rvs(a=1, size=100)"
      ],
      "metadata": {
        "id": "QI-ar9jYcfX_"
      },
      "execution_count": 475,
      "outputs": []
    },
    {
      "cell_type": "code",
      "source": [
        "dados_palti = np.random.rand(1000)\n",
        "while not kurtosis(dados_plati) > 0.9:\n",
        "    dados_plati = skewnorm.rvs(a=1, size=1000)"
      ],
      "metadata": {
        "id": "kmTpTk7FdKdN"
      },
      "execution_count": 463,
      "outputs": []
    },
    {
      "cell_type": "code",
      "source": [
        "dados_lepto = np.random.rand(1000)\n",
        "while not kurtosis(dados_lepto ) < 0:\n",
        "    dados_lepto = skewnorm.rvs(a=1, size=1000)"
      ],
      "metadata": {
        "id": "wRN5E6WQdeTx"
      },
      "execution_count": 458,
      "outputs": []
    },
    {
      "cell_type": "code",
      "source": [
        "fig, ax = plt.subplots(1, 3, figsize = (22, 4))\n",
        "ax[0].set_title(\"Mesocúrtico\")\n",
        "ax[1].set_title(\"Laticútico\")\n",
        "ax[2].set_title(\"Leptocúrtico\")\n",
        "sns.histplot(dados_meso, kde=True, bins='auto', legend=False, ax = ax[0])\n",
        "sns.histplot(dados_plati, kde=True,  bins='auto', legend=False, ax = ax[1])\n",
        "sns.histplot(dados_lepto, kde=True,  bins='auto', legend=False, ax = ax[2]);"
      ],
      "metadata": {
        "colab": {
          "base_uri": "https://localhost:8080/",
          "height": 281
        },
        "id": "MC5AgMhSYXOp",
        "outputId": "d22ffc65-eab2-4ba0-ca62-dbc4893fa36a"
      },
      "execution_count": 476,
      "outputs": [
        {
          "output_type": "display_data",
          "data": {
            "image/png": "[encoded data removed]",
            "text/plain": [
              "<Figure size 1584x288 with 3 Axes>"
            ]
          },
          "metadata": {
            "needs_background": "light"
          }
        }
      ]
    },
    {
      "cell_type": "code",
      "source": [
        "kurtosis(dados_meso)"
      ],
      "metadata": {
        "colab": {
          "base_uri": "https://localhost:8080/"
        },
        "id": "CoMhHzHrPKyE",
        "outputId": "29836068-fb03-4a03-88fb-029333d4920f"
      },
      "execution_count": 477,
      "outputs": [
        {
          "output_type": "execute_result",
          "data": {
            "text/plain": [
              "0.26155079029336026"
            ]
          },
          "metadata": {},
          "execution_count": 477
        }
      ]
    },
    {
      "cell_type": "code",
      "source": [
        "kurtosis(dados_plati)"
      ],
      "metadata": {
        "colab": {
          "base_uri": "https://localhost:8080/"
        },
        "id": "5K9WLneyPPfD",
        "outputId": "fb6a320a-ad45-49de-8619-0b3708d54310"
      },
      "execution_count": 478,
      "outputs": [
        {
          "output_type": "execute_result",
          "data": {
            "text/plain": [
              "1.020915048353225"
            ]
          },
          "metadata": {},
          "execution_count": 478
        }
      ]
    },
    {
      "cell_type": "code",
      "source": [
        "kurtosis(dados_lepto)"
      ],
      "metadata": {
        "colab": {
          "base_uri": "https://localhost:8080/"
        },
        "id": "n0xkfKwvPR0_",
        "outputId": "5e8f8485-e80a-4dce-d8d7-cb174e06a361"
      },
      "execution_count": 479,
      "outputs": [
        {
          "output_type": "execute_result",
          "data": {
            "text/plain": [
              "-1.2373410050921327"
            ]
          },
          "metadata": {},
          "execution_count": 479
        }
      ]
    }
  ]
}