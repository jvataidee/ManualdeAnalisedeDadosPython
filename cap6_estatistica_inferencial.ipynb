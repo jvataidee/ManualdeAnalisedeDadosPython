{
  "nbformat": 4,
  "nbformat_minor": 0,
  "metadata": {
    "colab": {
      "provenance": [],
      "toc_visible": true,
      "include_colab_link": true
    },
    "kernelspec": {
      "name": "python3",
      "display_name": "Python 3"
    },
    "accelerator": "GPU"
  },
  "cells": [
    {
      "cell_type": "markdown",
      "metadata": {
        "id": "view-in-github",
        "colab_type": "text"
      },
      "source": [
        "<a href=\"https://colab.research.google.com/github/jvataidee/ManualdeAnalisedeDadosPython/blob/master/cap6_estatistica_inferencial.ipynb\" target=\"_parent\"><img src=\"https://colab.research.google.com/assets/colab-badge.svg\" alt=\"Open In Colab\"/></a>"
      ]
    },
    {
      "cell_type": "markdown",
      "metadata": {
        "id": "kLI0gJtzDGuQ"
      },
      "source": [
        "**by: [João Ataíde](https://www.joaoataide.com)**\n",
        "# **CAP 06: Estatítica Inferencial**\n",
        "\n",
        "---\n",
        "\n"
      ]
    },
    {
      "cell_type": "code",
      "source": [
        "#importar bibliotecas\n",
        "import pandas as pd\n",
        "import numpy as np\n",
        "import math\n",
        "import matplotlib.pyplot as plt\n",
        "import seaborn as sns\n",
        "import statistics as st\n",
        "import scipy.stats as stats\n",
        "from scipy.stats import chi2_contingency, spearmanr"
      ],
      "metadata": {
        "id": "dTSRYPl7ORJW"
      },
      "execution_count": null,
      "outputs": []
    },
    {
      "cell_type": "markdown",
      "source": [
        "### **Amostragem**"
      ],
      "metadata": {
        "id": "QAlf6ZgAc1UA"
      }
    },
    {
      "cell_type": "code",
      "source": [],
      "metadata": {
        "id": "SgPmhLM1czza"
      },
      "execution_count": null,
      "outputs": []
    }
  ]
}