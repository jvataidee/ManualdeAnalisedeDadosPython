{
  "nbformat": 4,
  "nbformat_minor": 0,
  "metadata": {
    "colab": {
      "provenance": [],
      "toc_visible": true,
      "include_colab_link": true
    },
    "kernelspec": {
      "name": "python3",
      "display_name": "Python 3"
    },
    "accelerator": "GPU"
  },
  "cells": [
    {
      "cell_type": "markdown",
      "metadata": {
        "id": "view-in-github",
        "colab_type": "text"
      },
      "source": [
        "<a href=\"https://colab.research.google.com/github/jvataidee/ManualdeAnalisedeDadosPython/blob/master/cap6_estatistica_inferencial.ipynb\" target=\"_parent\"><img src=\"https://colab.research.google.com/assets/colab-badge.svg\" alt=\"Open In Colab\"/></a>"
      ]
    },
    {
      "cell_type": "markdown",
      "metadata": {
        "id": "kLI0gJtzDGuQ"
      },
      "source": [
        "**by: [João Ataíde](https://www.joaoataide.com)**\n",
        "# **CAP 06: Estatítica Inferencial**\n",
        "\n",
        "---\n",
        "\n"
      ]
    },
    {
      "cell_type": "code",
      "source": [
        "#importar bibliotecas\n",
        "import pandas as pd\n",
        "import numpy as np\n",
        "import math\n",
        "import matplotlib.pyplot as plt\n",
        "import seaborn as sns\n",
        "import statistics as st\n",
        "import scipy.stats as stats\n",
        "from scipy.stats import chi2_contingency, spearmanr"
      ],
      "metadata": {
        "id": "dTSRYPl7ORJW"
      },
      "execution_count": null,
      "outputs": []
    },
    {
      "cell_type": "markdown",
      "source": [
        "### **Amostragem**\n",
        "\n",
        "- `Poulação:` Conjunto de dados de todos o indivíduos, objetos ou elementos a serem estudados. `Censo` é o estudo de todos elementos de população, uma população pode ser `finita` permite contagem (ex. quantidade de empregados de uma empresa) ou `infinita` não permite contagem (ex. numero de produtos de uma fabrica em determinado período) .\n",
        "\n",
        "- `Amostra` extração de um subconjunto colhidas na amostra e utilizado procedimentos esatísticos apropriados para generalizar, inferir ou tirar conclusões sobre a população.\n",
        "\n"
      ],
      "metadata": {
        "id": "QAlf6ZgAc1UA"
      }
    },
    {
      "cell_type": "markdown",
      "source": [
        "### **Tipos de amostragem:**\n",
        "- `Aleatória ou Probabilítica` probabilidade de cada elemento da população é igual.\n",
        "    * `Simples` \n",
        "    * `Sistemática` \n",
        "    * `Estratificada`\n",
        "    * `Pro Conglomerados`\n",
        "\n",
        "    * Vantagens: Seleção rogorosa e não permite subjetividade, Possibilidade de determinar matematicamente a dimensção da amostra e grau de confiança\n",
        "\n",
        "    * Destanvagens: Dificuldade em obter lista completa da região, seleção aleatória pode gerar amostra dispersa.\n",
        "\n",
        "\n",
        "\n",
        "- `Não Aleatória` probabilidade de alguns ou de todos elementos da população são desconhecidos.\n",
        "    * `Pro conveniência`\n",
        "    * `Por julgamento`\n",
        "    * `Por Quotas`\n",
        "    * `Bola de Neve`\n",
        "\n",
        "    * Vantagens: Menor custo, menor tempo de estudo e mão de obra.\n",
        "\n",
        "    * Destanvagens: há unidades do universo que não tem possibilidade a ser escolhida, pode ocorrer viés e nãos aber qual grau de confiança.\n"
      ],
      "metadata": {
        "id": "WXqH71G9tzdQ"
      }
    },
    {
      "cell_type": "code",
      "source": [],
      "metadata": {
        "id": "SgPmhLM1czza"
      },
      "execution_count": null,
      "outputs": []
    }
  ]
}