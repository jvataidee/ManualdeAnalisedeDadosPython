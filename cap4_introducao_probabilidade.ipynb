{
  "nbformat": 4,
  "nbformat_minor": 0,
  "metadata": {
    "colab": {
      "name": "cap4_introducao_probabilidade.ipynb",
      "provenance": [],
      "collapsed_sections": [],
      "toc_visible": true,
      "include_colab_link": true
    },
    "kernelspec": {
      "name": "python3",
      "display_name": "Python 3"
    },
    "accelerator": "GPU"
  },
  "cells": [
    {
      "cell_type": "markdown",
      "metadata": {
        "id": "view-in-github",
        "colab_type": "text"
      },
      "source": [
        "<a href=\"https://colab.research.google.com/github/jvataidee/ManualdeAnalisedeDados_Python/blob/master/cap4_introducao_probabilidade.ipynb\" target=\"_parent\"><img src=\"https://colab.research.google.com/assets/colab-badge.svg\" alt=\"Open In Colab\"/></a>"
      ]
    },
    {
      "cell_type": "markdown",
      "metadata": {
        "id": "kLI0gJtzDGuQ"
      },
      "source": [
        "**by: [João Ataíde](https://www.joaoataide.com)**\n",
        "# **CAP 04: Introdução a Probabilidade**\n",
        "\n",
        "---\n",
        "\n"
      ]
    },
    {
      "cell_type": "code",
      "source": [
        "#importar bibliotecas\n",
        "import pandas as pd\n",
        "import numpy as np\n",
        "import math\n",
        "import matplotlib.pyplot as plt\n",
        "import seaborn as sns\n",
        "import statistics as st\n",
        "import scipy.stats as stats\n",
        "from scipy.stats import chi2_contingency, spearmanr"
      ],
      "metadata": {
        "id": "dTSRYPl7ORJW"
      },
      "execution_count": 34,
      "outputs": []
    },
    {
      "cell_type": "markdown",
      "source": [
        "## **Conceitos**\n",
        "\n",
        "### **Experimento aleatório**\n",
        "Fenômeno imprevisível, se repetido o experimento não é possível aparecer o mesmo resultado\n",
        "\n",
        "### **Espaço amostral**\n",
        "Consiste $S$ em todos o resultados possíveis do experimento\n",
        "\n"
      ],
      "metadata": {
        "id": "zTllLwnt6IGI"
      }
    },
    {
      "cell_type": "code",
      "source": [
        "S = list(range(60))\n",
        "len(S)"
      ],
      "metadata": {
        "colab": {
          "base_uri": "https://localhost:8080/"
        },
        "id": "4fATXMdFe8KZ",
        "outputId": "26cfb96d-0160-4100-b9db-f026be5ac75d"
      },
      "execution_count": 40,
      "outputs": [
        {
          "output_type": "execute_result",
          "data": {
            "text/plain": [
              "60"
            ]
          },
          "metadata": {},
          "execution_count": 40
        }
      ]
    },
    {
      "cell_type": "markdown",
      "source": [
        "\n",
        "### **Eventos**\n",
        "Subconjunto de um espaço amostral, uma fenômeno que ocorre dentro de um conjunto de resultados possíveis\n"
      ],
      "metadata": {
        "id": "_fUNB87pe3y8"
      }
    },
    {
      "cell_type": "markdown",
      "source": [
        "\n",
        "### **Conjuntos**\n",
        "\n",
        "* `União`\n",
        "Eventos $A$ ∪ $B$, gera no um novo evento resultante de todas os resultados dos dois eventos.\n",
        "\n",
        "* `Intersecção`\n",
        "Eventos $A$ ∩ $B$, gera um novo evento resultante da diferença entre os dois evento, sendo que esse tem que percencer aos dois.\n",
        "\n",
        "* `Complementares`\n",
        "Evento $C$ é um evento que contês todos os elementos do espaço amostral.\n",
        "\n"
      ],
      "metadata": {
        "id": "QwN2vP1_e5Ko"
      }
    },
    {
      "cell_type": "markdown",
      "source": [
        "### **Eventos independentes**\n",
        "Evento $B$ não impacta na condição da ocrrência do evento $A$\n",
        "\n"
      ],
      "metadata": {
        "id": "hGFYmXBKe6DI"
      }
    },
    {
      "cell_type": "markdown",
      "source": [
        "### **Evento mutualmente excludente**\n",
        "O evento $A$ e o evento $B$ não possuem nenhum elemento em comum, não podendo ocorrer simutanemamento."
      ],
      "metadata": {
        "id": "MX1mj-0ze68H"
      }
    },
    {
      "cell_type": "markdown",
      "source": [
        "## **Definição de probabilidade**\n",
        "É conceito matemático que determina a ocorrência de uma determinado evento $A$ dentro de um espaço amostral\n",
        "\n",
        "$P(A) = \\frac{n_{A}}{n}$"
      ],
      "metadata": {
        "id": "Yyj2ZkF_cA0x"
      }
    },
    {
      "cell_type": "code",
      "source": [
        "dados = [1, 2, 3, 4, 5, 6]\n",
        "A = [2, 4, 6]\n",
        "\n",
        "probabilidade = len(A)/len(dados) * 100\n",
        "probabilidade"
      ],
      "metadata": {
        "colab": {
          "base_uri": "https://localhost:8080/"
        },
        "id": "_x9mfpuvcdcL",
        "outputId": "1a61a999-e675-464e-e316-28d923ef574a"
      },
      "execution_count": null,
      "outputs": [
        {
          "output_type": "execute_result",
          "data": {
            "text/plain": [
              "50.0"
            ]
          },
          "metadata": {},
          "execution_count": 3
        }
      ]
    },
    {
      "cell_type": "markdown",
      "source": [
        "## **Regras básicas**\n",
        " \n",
        "\n",
        "1.   `Variação probabilidade:` probabilidade sempre entre 0% a 100% ou $0-1$\n",
        "2.   `Probabilidade espaço amostral:` probabilidade $S$ sempre é igual 1\n",
        "3.   `Conjunto vazio:` se não tem dado não tem probabilidade\n",
        "4.   `Adição de probabilidade: ` $P(A ∪ B) = P(A) + P(B) - P(A ∩ B)$\n",
        "5.   `Probabilidade eventos complementares:` $P(A^c) = 1 - P(A)$\n",
        "6.   `Multiplicação de probabilidade: ` $P(A ∩ B) = P(A)P(B)$\n",
        "\n"
      ],
      "metadata": {
        "id": "jPhKTlfEc5OV"
      }
    },
    {
      "cell_type": "markdown",
      "source": [
        "## **Probabilidade Condicional**\n",
        "Quando os eventos não forem independente deve usar conceito de probabilidade condicional, basicamente se tive um evento qual a probabilidade de acontecer o outro.\n",
        "\n",
        "$P(A|B) = \\frac{P(A ∩ B)}{P(B)}$\n",
        "\n",
        "* `multiplicacao probabilidade: ` $P(A ∩ B) = P(A)P(B|A)$ pode ser extendido para o terceiro evento multiplicando por $P(C|A ∩ B)$"
      ],
      "metadata": {
        "id": "lapWJ-DVGdJ1"
      }
    },
    {
      "cell_type": "markdown",
      "source": [
        "## **Teorema de Bayes**\n",
        "Uma probabilidade calculada de um evento e irá ser colocado mais informações, esse teorema possibilita recalcular.\n",
        "\n",
        "$P(B_{i} | A) = \\frac{P(B_{i} ∩ A)}{P(A)} $"
      ],
      "metadata": {
        "id": "i0qklLosN6Dv"
      }
    },
    {
      "cell_type": "markdown",
      "source": [
        "## **Análise Combinatória**"
      ],
      "metadata": {
        "id": "FlvddR48XNcN"
      }
    },
    {
      "cell_type": "markdown",
      "source": [
        "## **Probpy v.0.0**\n",
        "by: João Ataíde"
      ],
      "metadata": {
        "id": "5ryrKKeLGALP"
      }
    },
    {
      "cell_type": "code",
      "source": [
        "class universo:\n",
        "    def __init__(self, eventoA, espaco_amostral, eventoB = None,\n",
        "                 eventoC = None, novoseventos = None):\n",
        "        self.eventoA = eventoA\n",
        "        self.eventoB = eventoB\n",
        "        self.eventoC = eventoC\n",
        "        self.espaco_amostral= espaco_amostral\n",
        "\n",
        "    def prob(self):\n",
        "        return len(self.eventoA) / len(self.espaco_amostral)\n",
        "\n",
        "    def intercet(self):\n",
        "        return list(set(self.eventoA).intersection(self.eventoB))\n",
        "    \n",
        "    def union(self):\n",
        "        return list(set(self.eventoA).union(self.eventoB))\n",
        "\n",
        "    def adicao_multual(self):\n",
        "        prob_a = universo(self.eventoA, self.espaco_amostral).prob() \n",
        "        prob_b = universo(self.eventoB, self.espaco_amostral).prob()\n",
        "        intecect =  universo(universo(self.eventoA,self.espaco_amostral, self.eventoB).intercet(), S).prob()\n",
        "\n",
        "        return prob_a + prob_b - intecect\n",
        "\n",
        "    def adicao_excludantes(self):\n",
        "        prob_a = universo(self.eventoA, self.espaco_amostral).prob() \n",
        "        prob_b = universo(self.eventoB, self.espaco_amostral).prob()\n",
        "\n",
        "        return prob_a + prob_b\n",
        "    \n",
        "    def complement(self):\n",
        "        return (1 - universo(self.eventoA, self.espaco_amostral).prob())\n",
        "\n",
        "    def indepedent(self):\n",
        "        return universo(self.eventoA, self.espaco_amostral).prob() * universo(self.eventoB, self.espaco_amostral).prob()\n",
        "\n",
        "    def conditional(self):\n",
        "        intecect =  universo(universo(self.eventoA, self.espaco_amostral,\n",
        "                                      self.eventoB).intercet(), self.espaco_amostral).prob()\n",
        "\n",
        "        prob_B = universo(self.eventoB, self.espaco_amostral).prob()\n",
        "        return intecect / prob_B\n",
        "\n",
        "    def conditional_mult(self):\n",
        "        intecect =  universo(universo(self.eventoA, self.espaco_amostral, self.eventoB).intercet(),\n",
        "                             self.espaco_amostral).prob()\n",
        "\n",
        "        prob_B = universo(self.eventoB, self.espaco_amostral).prob()\n",
        "        prob_A = universo(self.eventoA, self.espaco_amostral).prob()\n",
        "        prob_C = universo(self.eventoC, self.espaco_amostral).prob()\n",
        "\n",
        "        return prob_A * (intecect / prob_B) * (intecect / prob_C)\n"
      ],
      "metadata": {
        "id": "qqxXfZfjoE6u"
      },
      "execution_count": 106,
      "outputs": []
    },
    {
      "cell_type": "markdown",
      "source": [
        "## **Exercícios Probabilidade Básica**\n",
        "\n",
        "\n"
      ],
      "metadata": {
        "id": "1yQgxiFXfmWA"
      }
    },
    {
      "cell_type": "markdown",
      "source": [
        "### Exemplo 1"
      ],
      "metadata": {
        "id": "yRagkP10I3Yg"
      }
    },
    {
      "cell_type": "code",
      "source": [
        "#impar\n",
        "def impar(lista):\n",
        "   return list(filter(lambda x: (x%2 != 0) , lista))\n",
        "\n",
        "\n",
        "#numeros par\n",
        "def par(lista):\n",
        "   return list(filter(lambda x: (x%2 == 0) , lista))\n",
        "\n",
        "\n",
        "#multiplo de 5\n",
        "def mult_cinco(lista):\n",
        "   return list(filter(lambda x: (x%5 == 0) , lista))\n",
        "\n",
        "\n",
        "#multiplo de 5\n",
        "def nao_mult_cinco(lista):\n",
        "   return list(filter(lambda x: (x%5 != 0) , lista))"
      ],
      "metadata": {
        "id": "SuzMz0YSe0wC"
      },
      "execution_count": 36,
      "outputs": []
    },
    {
      "cell_type": "markdown",
      "source": [
        "### Exemplo 2"
      ],
      "metadata": {
        "id": "HSr68WUhI51G"
      }
    },
    {
      "cell_type": "code",
      "source": [
        "A = impar(S)\n",
        "B = mult_cinco(S)"
      ],
      "metadata": {
        "id": "yqlAfVXcuZAP"
      },
      "execution_count": 41,
      "outputs": []
    },
    {
      "cell_type": "code",
      "source": [
        "#B) Probabildiade evento inpar em S\n",
        "prob_A = universo(A, S)\n",
        "prob_A.prob()"
      ],
      "metadata": {
        "colab": {
          "base_uri": "https://localhost:8080/"
        },
        "id": "rOkOlvLpfrSF",
        "outputId": "2ad7d55f-0666-4af5-9303-81b1c7b3daf1"
      },
      "execution_count": 42,
      "outputs": [
        {
          "output_type": "execute_result",
          "data": {
            "text/plain": [
              "0.5"
            ]
          },
          "metadata": {},
          "execution_count": 42
        }
      ]
    },
    {
      "cell_type": "markdown",
      "source": [
        "### Exemplo 3"
      ],
      "metadata": {
        "id": "kKLYrWfJI71v"
      }
    },
    {
      "cell_type": "code",
      "source": [
        "#C) Probabilidade evento multiplo de 5 em S\n",
        "prob_B = universo(B, S)\n",
        "prob_B.prob()"
      ],
      "metadata": {
        "colab": {
          "base_uri": "https://localhost:8080/"
        },
        "id": "yy3op-oJiEvs",
        "outputId": "72ac4243-0daa-456f-8e8a-eebde00bf6ed"
      },
      "execution_count": 44,
      "outputs": [
        {
          "output_type": "execute_result",
          "data": {
            "text/plain": [
              "0.2"
            ]
          },
          "metadata": {},
          "execution_count": 44
        }
      ]
    },
    {
      "cell_type": "markdown",
      "source": [
        "### Exemplo 4"
      ],
      "metadata": {
        "id": "OYVvIXvFI9tD"
      }
    },
    {
      "cell_type": "code",
      "source": [
        "#Universo de estudo\n",
        "univers = universo(A, S, B)"
      ],
      "metadata": {
        "id": "qw-b5M1vgvSl"
      },
      "execution_count": 49,
      "outputs": []
    },
    {
      "cell_type": "code",
      "source": [
        "#Probabilidade de ocorrer A e B Multualmente\n",
        "univers.adicao_multual()"
      ],
      "metadata": {
        "colab": {
          "base_uri": "https://localhost:8080/"
        },
        "id": "VsE_z-mtu095",
        "outputId": "4bcd21f8-79ba-481a-ff6b-aa88dfb0c0d4"
      },
      "execution_count": 46,
      "outputs": [
        {
          "output_type": "execute_result",
          "data": {
            "text/plain": [
              "0.6"
            ]
          },
          "metadata": {},
          "execution_count": 46
        }
      ]
    },
    {
      "cell_type": "markdown",
      "source": [
        "### Exemplo 5"
      ],
      "metadata": {
        "id": "khllTAi8I_8z"
      }
    },
    {
      "cell_type": "code",
      "source": [
        "#E) probobalidade de ocorrer mas A e B são mutuamente excludentes\n",
        "univers.adicao_excludantes()"
      ],
      "metadata": {
        "colab": {
          "base_uri": "https://localhost:8080/"
        },
        "id": "NYoeUCVbi2Ls",
        "outputId": "82b7be61-ad67-47e1-aea1-87cbf8aa5836"
      },
      "execution_count": 48,
      "outputs": [
        {
          "output_type": "execute_result",
          "data": {
            "text/plain": [
              "0.7"
            ]
          },
          "metadata": {},
          "execution_count": 48
        }
      ]
    },
    {
      "cell_type": "markdown",
      "source": [
        "### Exemplo 6"
      ],
      "metadata": {
        "id": "QAncuLPNJBM2"
      }
    },
    {
      "cell_type": "code",
      "source": [
        "#F) Probabilidade de eventos complementares\n",
        "univers.complement()"
      ],
      "metadata": {
        "colab": {
          "base_uri": "https://localhost:8080/"
        },
        "id": "RPeFdsDOnE1k",
        "outputId": "83a7aeb8-c244-4846-e824-5910f2357d28"
      },
      "execution_count": 50,
      "outputs": [
        {
          "output_type": "execute_result",
          "data": {
            "text/plain": [
              "0.5"
            ]
          },
          "metadata": {},
          "execution_count": 50
        }
      ]
    },
    {
      "cell_type": "markdown",
      "source": [
        "### Exemplo 7"
      ],
      "metadata": {
        "id": "_MGzbx9cJCYP"
      }
    },
    {
      "cell_type": "code",
      "source": [
        "#G) Probabilidade de eventos independentes\n",
        "univers.indepedent()"
      ],
      "metadata": {
        "colab": {
          "base_uri": "https://localhost:8080/"
        },
        "id": "9qcrKRqhnUgG",
        "outputId": "c7426210-fa57-44b7-a5e7-e438cf7ad8aa"
      },
      "execution_count": 51,
      "outputs": [
        {
          "output_type": "execute_result",
          "data": {
            "text/plain": [
              "0.1"
            ]
          },
          "metadata": {},
          "execution_count": 51
        }
      ]
    },
    {
      "cell_type": "markdown",
      "source": [
        "## **Exercícios Probabilidade Condicional**"
      ],
      "metadata": {
        "id": "3xUhN4oJJNYM"
      }
    },
    {
      "cell_type": "markdown",
      "source": [
        "### Exemplo 1"
      ],
      "metadata": {
        "id": "xo-0TTs5KSGW"
      }
    },
    {
      "cell_type": "code",
      "source": [
        "# Probabilidade da condição A ocorrer B\n",
        "univers.conditional()"
      ],
      "metadata": {
        "colab": {
          "base_uri": "https://localhost:8080/"
        },
        "id": "BoQw_EsOJzlU",
        "outputId": "8039482d-cd7f-4873-8063-36ce4201dfa1"
      },
      "execution_count": 52,
      "outputs": [
        {
          "output_type": "execute_result",
          "data": {
            "text/plain": [
              "0.5"
            ]
          },
          "metadata": {},
          "execution_count": 52
        }
      ]
    },
    {
      "cell_type": "markdown",
      "source": [
        "### Exemplo 2"
      ],
      "metadata": {
        "id": "YHlRGUUEKU7g"
      }
    },
    {
      "cell_type": "code",
      "source": [
        "# Probabilidade da condição de A B e C ocorrer\n",
        "C = [2, 2]\n",
        "univers2 = universo(A, S, B, C)\n",
        "univers2.conditional_mult()"
      ],
      "metadata": {
        "colab": {
          "base_uri": "https://localhost:8080/"
        },
        "id": "BWprxn_xKVpQ",
        "outputId": "be2d1f30-9f91-4f1c-e326-93bce6200535"
      },
      "execution_count": 56,
      "outputs": [
        {
          "output_type": "execute_result",
          "data": {
            "text/plain": [
              "0.75"
            ]
          },
          "metadata": {},
          "execution_count": 56
        }
      ]
    },
    {
      "cell_type": "markdown",
      "source": [
        "## **Exercícios Teorema de Bayes**"
      ],
      "metadata": {
        "id": "iIfCYXrgRUPZ"
      }
    },
    {
      "cell_type": "code",
      "source": [
        "def espaco(lista, A):\n",
        "    lista = list(range(len(lista)))\n",
        "    for i in range(len(lista)):\n",
        "        lista[i] = A[0]\n",
        "    return lista"
      ],
      "metadata": {
        "id": "JP0ndqWSbSBR"
      },
      "execution_count": 97,
      "outputs": []
    },
    {
      "cell_type": "code",
      "source": [
        "#Caixas de sorteio\n",
        "U1 = [\"Amarela\", \"Vermelha\"]\n",
        "U2 = [\"Azul\",\"Azul\",\"Azul\"]\n",
        "U3 = [\"Vermelha\", \"Vermelha\", \"Amarela\"]\n",
        "\n",
        "#objetivo a sortear\n",
        "A  = [\"Amarela\"]"
      ],
      "metadata": {
        "id": "EkWKVQdVYyez"
      },
      "execution_count": 98,
      "outputs": []
    },
    {
      "cell_type": "code",
      "source": [
        "lista = (U1, U2, U3)\n",
        "S = espaco(lista, A)\n",
        "print(S)"
      ],
      "metadata": {
        "colab": {
          "base_uri": "https://localhost:8080/"
        },
        "id": "Y6VWTDxfxDYJ",
        "outputId": "2ce250ac-f242-4422-ac33-4b8ffc20054e"
      },
      "execution_count": 99,
      "outputs": [
        {
          "output_type": "stream",
          "name": "stdout",
          "text": [
            "['Amarela', 'Amarela', 'Amarela']\n"
          ]
        }
      ]
    },
    {
      "cell_type": "code",
      "source": [
        "universe_U1 = universo(U1, S, A)\n",
        "universe_U2 = universo(U2, S, A)\n",
        "universe_U3 = universo(U3, S, A) "
      ],
      "metadata": {
        "id": "7gJ13SyUyvQV"
      },
      "execution_count": 111,
      "outputs": []
    },
    {
      "cell_type": "code",
      "source": [
        "print(universe_U1.intercet())\n",
        "print(universe_U2.intercet())\n",
        "print(universe_U3.intercet())"
      ],
      "metadata": {
        "colab": {
          "base_uri": "https://localhost:8080/"
        },
        "id": "6BZ_0zLovqBd",
        "outputId": "a3fb6bd5-f335-4d4d-840a-31c1159cf11e"
      },
      "execution_count": 112,
      "outputs": [
        {
          "output_type": "stream",
          "name": "stdout",
          "text": [
            "['Amarela']\n",
            "[]\n",
            "['Amarela']\n"
          ]
        }
      ]
    },
    {
      "cell_type": "code",
      "source": [
        "universe_U1 = universo(universe_U1.intercet(), S, A)\n",
        "universe_U2 = universo(universe_U2.intercet(), S, A)\n",
        "universe_U3 = universo(universe_U3.intercet(), S, A) "
      ],
      "metadata": {
        "id": "zAPlPOUOxG_n"
      },
      "execution_count": 113,
      "outputs": []
    },
    {
      "cell_type": "code",
      "source": [
        "print(universe_U1.prob())\n",
        "print(universe_U2.prob())\n",
        "print(universe_U3.prob())"
      ],
      "metadata": {
        "colab": {
          "base_uri": "https://localhost:8080/"
        },
        "id": "PHlc3fgBygMt",
        "outputId": "174c9b99-47e1-4d7a-bab0-dbbcbaaa6dc2"
      },
      "execution_count": 119,
      "outputs": [
        {
          "output_type": "stream",
          "name": "stdout",
          "text": [
            "0.3333333333333333\n",
            "0.0\n",
            "0.3333333333333333\n"
          ]
        }
      ]
    },
    {
      "cell_type": "code",
      "source": [
        "print(universe_U1.complement())\n",
        "print(universe_U2.complement())\n",
        "print(universe_U3.complement())"
      ],
      "metadata": {
        "colab": {
          "base_uri": "https://localhost:8080/"
        },
        "id": "PqIKCkF0ZMQ4",
        "outputId": "1db89067-894a-40e5-8536-082008570fd1"
      },
      "execution_count": 121,
      "outputs": [
        {
          "output_type": "stream",
          "name": "stdout",
          "text": [
            "0.6666666666666667\n",
            "1.0\n",
            "0.6666666666666667\n"
          ]
        }
      ]
    },
    {
      "cell_type": "code",
      "source": [
        "print(universe_U1.conditional())\n",
        "print(universe_U2.conditional())\n",
        "print(universe_U3.conditional())"
      ],
      "metadata": {
        "colab": {
          "base_uri": "https://localhost:8080/"
        },
        "id": "C6GLl_cRe-po",
        "outputId": "54635b87-bc3d-451f-9ad4-99be269e9912"
      },
      "execution_count": 120,
      "outputs": [
        {
          "output_type": "stream",
          "name": "stdout",
          "text": [
            "1.0\n",
            "0.0\n",
            "1.0\n"
          ]
        }
      ]
    }
  ]
}