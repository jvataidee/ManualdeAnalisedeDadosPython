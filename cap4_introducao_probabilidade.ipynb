{
  "nbformat": 4,
  "nbformat_minor": 0,
  "metadata": {
    "colab": {
      "name": "cap4_introducao_probabilidade.ipynb",
      "provenance": [],
      "collapsed_sections": [],
      "toc_visible": true,
      "include_colab_link": true
    },
    "kernelspec": {
      "name": "python3",
      "display_name": "Python 3"
    },
    "accelerator": "GPU"
  },
  "cells": [
    {
      "cell_type": "markdown",
      "metadata": {
        "id": "view-in-github",
        "colab_type": "text"
      },
      "source": [
        "<a href=\"https://colab.research.google.com/github/jvataidee/ManualdeAnalisedeDados_Python/blob/master/cap4_introducao_probabilidade.ipynb\" target=\"_parent\"><img src=\"https://colab.research.google.com/assets/colab-badge.svg\" alt=\"Open In Colab\"/></a>"
      ]
    },
    {
      "cell_type": "markdown",
      "metadata": {
        "id": "kLI0gJtzDGuQ"
      },
      "source": [
        "**by: [João Ataíde](https://www.joaoataide.com)**\n",
        "# **CAP 04: Introdução a Probabilidade**\n",
        "\n",
        "---\n",
        "\n"
      ]
    },
    {
      "cell_type": "code",
      "source": [
        "#importar bibliotecas\n",
        "import pandas as pd\n",
        "import numpy as np\n",
        "import math\n",
        "import matplotlib.pyplot as plt\n",
        "import seaborn as sns\n",
        "import statistics as st\n",
        "import scipy.stats as stats\n",
        "from scipy.stats import chi2_contingency, spearmanr"
      ],
      "metadata": {
        "id": "dTSRYPl7ORJW"
      },
      "execution_count": 5,
      "outputs": []
    },
    {
      "cell_type": "markdown",
      "source": [
        "## **Conceitos**\n",
        "\n",
        "### **Experimento aleatório**\n",
        "Fenômeno imprevisível, se repetido o experimento não é possível precer o resuldado\n",
        "\n",
        "### **Espaço amostral**\n",
        "Consiste $S$ em todos o resultados possíveis do experimento\n",
        "\n"
      ],
      "metadata": {
        "id": "zTllLwnt6IGI"
      }
    },
    {
      "cell_type": "code",
      "source": [
        "S = list(range(60))\n",
        "len(S)"
      ],
      "metadata": {
        "colab": {
          "base_uri": "https://localhost:8080/"
        },
        "id": "4fATXMdFe8KZ",
        "outputId": "5d12c412-4c84-4bc7-f039-ce7abbe9044c"
      },
      "execution_count": 1,
      "outputs": [
        {
          "output_type": "execute_result",
          "data": {
            "text/plain": [
              "60"
            ]
          },
          "metadata": {},
          "execution_count": 1
        }
      ]
    },
    {
      "cell_type": "markdown",
      "source": [
        "\n",
        "### **Eventos**\n",
        "Subconjunto de um espaço amostral, uma fenômeno que ocorre dentro de um conjunto de resultados possíveis\n"
      ],
      "metadata": {
        "id": "_fUNB87pe3y8"
      }
    },
    {
      "cell_type": "markdown",
      "source": [
        "\n",
        "### **Conjuntos**\n",
        "\n",
        "* #### **União**\n",
        "Eventos $A$ ∪ $B$, gera no um novo evento resultante de todas os resultados dos dois eventos.\n",
        "\n",
        "* #### **Intersecção**\n",
        "Eventos $A$ ∩ $B$, gera um novo evento resultante da diferença entre os dois evento, sendo que esse tem que percencer aos dois.\n",
        "\n",
        "* #### **Complementares**\n",
        "Evento $C$ é um evento que contês todos os elementos do espaço amostral.\n",
        "\n"
      ],
      "metadata": {
        "id": "QwN2vP1_e5Ko"
      }
    },
    {
      "cell_type": "markdown",
      "source": [
        "### **Eventos independentes**\n",
        "Evento $B$ não impacta na condição da ocrrência do evento $A$\n",
        "\n"
      ],
      "metadata": {
        "id": "hGFYmXBKe6DI"
      }
    },
    {
      "cell_type": "markdown",
      "source": [
        "### **Evento mutualmente excludente**\n",
        "O evento $A$ e o evento $B$ não possuem nenhum elemento em comum, não podendo ocorrer simutanemamento."
      ],
      "metadata": {
        "id": "MX1mj-0ze68H"
      }
    },
    {
      "cell_type": "markdown",
      "source": [
        "## **Definição de probabilidade**\n",
        "É conceito matemático que determina a ocorrência de uma determinado evento $A$ dentro de um espaço amostral\n",
        "\n",
        "$P(A) = \\frac{n_{A}}{n}$"
      ],
      "metadata": {
        "id": "Yyj2ZkF_cA0x"
      }
    },
    {
      "cell_type": "code",
      "source": [
        "dados = [1, 2, 3, 4, 5, 6]\n",
        "A = [2, 4, 6]\n",
        "\n",
        "probabilidade = len(A)/len(dados) * 100\n",
        "probabilidade"
      ],
      "metadata": {
        "colab": {
          "base_uri": "https://localhost:8080/"
        },
        "id": "_x9mfpuvcdcL",
        "outputId": "ddfdb2aa-1424-4a1e-b214-94ed2c586be2"
      },
      "execution_count": 2,
      "outputs": [
        {
          "output_type": "execute_result",
          "data": {
            "text/plain": [
              "50.0"
            ]
          },
          "metadata": {},
          "execution_count": 2
        }
      ]
    },
    {
      "cell_type": "markdown",
      "source": [
        "## **Regras básicas**\n",
        " \n",
        "\n",
        "1.   `Variação probabilidade:` probabilidade sempre entre 0% a 100% ou $0-1$\n",
        "2.   `Probabilidade espaço amostral:` probabilidade $S$ sempre é igual 1\n",
        "3.   `Conjunto vazio:` se não tem dado não tem probabilidade\n",
        "4.   `Adição de probabilidade: ` $P(A ∪ B) = P(A) + P(B) - P(A ∩ B)$\n",
        "5.   `Probabilidade eventos complementares:` $P(A^c) = 1 - P(A)$\n",
        "6.   `Multiplicação de probabilidade: ` $P(A ∩ B) = P(A)P(B)$\n",
        "\n"
      ],
      "metadata": {
        "id": "jPhKTlfEc5OV"
      }
    },
    {
      "cell_type": "markdown",
      "source": [
        "#### **Exercícios**"
      ],
      "metadata": {
        "id": "1yQgxiFXfmWA"
      }
    },
    {
      "cell_type": "code",
      "source": [
        "#impar\n",
        "def impar(lista):\n",
        "   return list(filter(lambda x: (x%2 != 0) , lista))\n",
        "\n",
        "\n",
        "#numeros par\n",
        "def par(lista):\n",
        "   return list(filter(lambda x: (x%2 == 0) , lista))\n",
        "\n",
        "\n",
        "#multiplo de 5\n",
        "def mult_cinco(lista):\n",
        "   return list(filter(lambda x: (x%5 == 0) , lista))\n",
        "\n",
        "\n",
        "#multiplo de 5\n",
        "def nao_mult_cinco(lista):\n",
        "   return list(filter(lambda x: (x%5 != 0) , lista))"
      ],
      "metadata": {
        "id": "SuzMz0YSe0wC"
      },
      "execution_count": 3,
      "outputs": []
    },
    {
      "cell_type": "code",
      "source": [
        "class universo:\n",
        "    def __init__(self, eventoA, eventoB):\n",
        "        self.eventoA = eventoA\n",
        "        self.eventoB = eventoB\n",
        "    \n",
        "    def prob(self):\n",
        "        return len(self.eventoA) / len(self.eventoB)\n",
        "\n",
        "    def intercet(self):\n",
        "        return list(set(self.eventoA).intersection(self.eventoB))\n"
      ],
      "metadata": {
        "id": "qqxXfZfjoE6u"
      },
      "execution_count": 116,
      "outputs": []
    },
    {
      "cell_type": "markdown",
      "source": [
        ""
      ],
      "metadata": {
        "id": "etjRwOeT4-dB"
      }
    },
    {
      "cell_type": "code",
      "source": [
        "#B) Probabildiade evento inpar em S\n",
        "prob_A = universo(impar(S),S).prob()\n",
        "prob_A"
      ],
      "metadata": {
        "colab": {
          "base_uri": "https://localhost:8080/"
        },
        "id": "rOkOlvLpfrSF",
        "outputId": "75375b64-13ae-48f5-e99e-8ebadc5056cd"
      },
      "execution_count": 118,
      "outputs": [
        {
          "output_type": "execute_result",
          "data": {
            "text/plain": [
              "0.5"
            ]
          },
          "metadata": {},
          "execution_count": 118
        }
      ]
    },
    {
      "cell_type": "code",
      "source": [
        "#C) Probabilidade evento multiplo de 5 em S\n",
        "prob_B = universo(mult_cinco(S),S).prob()\n",
        "prob_B"
      ],
      "metadata": {
        "colab": {
          "base_uri": "https://localhost:8080/"
        },
        "id": "yy3op-oJiEvs",
        "outputId": "7dcab334-4d1a-4eb3-e2f5-5c310029f40a"
      },
      "execution_count": 119,
      "outputs": [
        {
          "output_type": "execute_result",
          "data": {
            "text/plain": [
              "0.2"
            ]
          },
          "metadata": {},
          "execution_count": 119
        }
      ]
    },
    {
      "cell_type": "code",
      "source": [
        "#D) Estabelecendo eventos\n",
        "A = impar(S)\n",
        "B = mult_cinco(S)"
      ],
      "metadata": {
        "id": "MUFhAuHKgmr3"
      },
      "execution_count": 120,
      "outputs": []
    },
    {
      "cell_type": "code",
      "source": [
        "#Probabilidade de ocorrer A e B Multualmente\n",
        "adicao_AB = universo(A, S).prob() + universo(B, S).prob() - universo(universo(A, B).intercet(), S).prob()\n",
        "adicao_AB"
      ],
      "metadata": {
        "colab": {
          "base_uri": "https://localhost:8080/"
        },
        "id": "qw-b5M1vgvSl",
        "outputId": "b435ef24-f738-44aa-8739-1922d9f6f6ec"
      },
      "execution_count": 124,
      "outputs": [
        {
          "output_type": "execute_result",
          "data": {
            "text/plain": [
              "0.6"
            ]
          },
          "metadata": {},
          "execution_count": 124
        }
      ]
    },
    {
      "cell_type": "code",
      "source": [
        "A = [7, 14, 21, 18, 35, 42, 49, 56]\n",
        "B = [10, 20, 30, 40, 50, 60]"
      ],
      "metadata": {
        "id": "Aawy9CnFlqP0"
      },
      "execution_count": 128,
      "outputs": []
    },
    {
      "cell_type": "code",
      "source": [
        "#Probabilidade dos novos A e B\n",
        "prob_A = universo(A, S).prob()\n",
        "prob_B = universo(B, S).prob()"
      ],
      "metadata": {
        "id": "jBlLvE_cl0gU"
      },
      "execution_count": 133,
      "outputs": []
    },
    {
      "cell_type": "code",
      "source": [
        "#E) probobalidade de ocorrer mas A e B são mutuamente excludentes\n",
        "prob_A_inter_B = prob_A + prob_B\n",
        "prob_A_inter_B"
      ],
      "metadata": {
        "colab": {
          "base_uri": "https://localhost:8080/"
        },
        "id": "NYoeUCVbi2Ls",
        "outputId": "369c27c5-072c-45fc-b152-a66a6bd88c7f"
      },
      "execution_count": 134,
      "outputs": [
        {
          "output_type": "execute_result",
          "data": {
            "text/plain": [
              "1.0"
            ]
          },
          "metadata": {},
          "execution_count": 134
        }
      ]
    },
    {
      "cell_type": "code",
      "source": [
        "#Novos eventos\n",
        "A = mult_cinco(S)\n",
        "B = nao_mult_cinco(S)"
      ],
      "metadata": {
        "id": "5xQL_c2Rmkuy"
      },
      "execution_count": 135,
      "outputs": []
    },
    {
      "cell_type": "code",
      "source": [
        "# Probabilidade dos novos A e B\n",
        "prob_A = universo(mult_cinco(S), S).prob()\n",
        "prob_B = universo(nao_mult_cinco(S), S).prob()"
      ],
      "metadata": {
        "id": "ZSbRaGgQnJmO"
      },
      "execution_count": 136,
      "outputs": []
    },
    {
      "cell_type": "code",
      "source": [
        "#F) Probabilidade de eventos complementares\n",
        "prob_Ac = 1 - prob_A\n",
        "prob_Ac"
      ],
      "metadata": {
        "colab": {
          "base_uri": "https://localhost:8080/"
        },
        "id": "RPeFdsDOnE1k",
        "outputId": "3c5c9ad5-9ce3-4629-d4be-866f753ede09"
      },
      "execution_count": 137,
      "outputs": [
        {
          "output_type": "execute_result",
          "data": {
            "text/plain": [
              "0.8"
            ]
          },
          "metadata": {},
          "execution_count": 137
        }
      ]
    },
    {
      "cell_type": "code",
      "source": [
        "#G) Probabilidade de eventos independentes\n",
        "prob_A_int_B = prob_A * prob_B\n",
        "prob_A_int_B"
      ],
      "metadata": {
        "colab": {
          "base_uri": "https://localhost:8080/"
        },
        "id": "9qcrKRqhnUgG",
        "outputId": "f39e45cf-e0be-47c8-d38c-f81bd6cc12f9"
      },
      "execution_count": 190,
      "outputs": [
        {
          "output_type": "execute_result",
          "data": {
            "text/plain": [
              "0.16000000000000003"
            ]
          },
          "metadata": {},
          "execution_count": 190
        }
      ]
    }
  ]
}