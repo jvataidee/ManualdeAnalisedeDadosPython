{
  "nbformat": 4,
  "nbformat_minor": 0,
  "metadata": {
    "colab": {
      "name": "cap4_introducao_probabilidade.ipynb",
      "provenance": [],
      "collapsed_sections": [],
      "toc_visible": true,
      "include_colab_link": true
    },
    "kernelspec": {
      "name": "python3",
      "display_name": "Python 3"
    },
    "accelerator": "GPU"
  },
  "cells": [
    {
      "cell_type": "markdown",
      "metadata": {
        "id": "view-in-github",
        "colab_type": "text"
      },
      "source": [
        "<a href=\"https://colab.research.google.com/github/jvataidee/ManualdeAnalisedeDados_Python/blob/master/cap4_introducao_probabilidade.ipynb\" target=\"_parent\"><img src=\"https://colab.research.google.com/assets/colab-badge.svg\" alt=\"Open In Colab\"/></a>"
      ]
    },
    {
      "cell_type": "markdown",
      "metadata": {
        "id": "kLI0gJtzDGuQ"
      },
      "source": [
        "**by: [João Ataíde](https://www.joaoataide.com)**\n",
        "# **CAP 04: Introdução a Probabilidade**\n",
        "\n",
        "---\n",
        "\n"
      ]
    },
    {
      "cell_type": "code",
      "source": [
        "#importar bibliotecas\n",
        "import pandas as pd\n",
        "import numpy as np\n",
        "import math\n",
        "import matplotlib.pyplot as plt\n",
        "import seaborn as sns\n",
        "import statistics as st\n",
        "import scipy.stats as stats\n",
        "from scipy.stats import chi2_contingency, spearmanr"
      ],
      "metadata": {
        "id": "dTSRYPl7ORJW"
      },
      "execution_count": 1,
      "outputs": []
    },
    {
      "cell_type": "markdown",
      "source": [
        "## **Conceitos**\n",
        "\n",
        "### **Experimento aleatório**\n",
        "Fenômeno imprevisível, se repetido o experimento não é possível aparecer o mesmo resultado\n",
        "\n",
        "### **Espaço amostral**\n",
        "Consiste $S$ em todos o resultados possíveis do experimento\n",
        "\n"
      ],
      "metadata": {
        "id": "zTllLwnt6IGI"
      }
    },
    {
      "cell_type": "code",
      "source": [
        "S = list(range(60))\n",
        "len(S)"
      ],
      "metadata": {
        "colab": {
          "base_uri": "https://localhost:8080/"
        },
        "id": "4fATXMdFe8KZ",
        "outputId": "8dc4b6e1-88d7-41c0-c7e2-1861ff1e1de3"
      },
      "execution_count": 2,
      "outputs": [
        {
          "output_type": "execute_result",
          "data": {
            "text/plain": [
              "60"
            ]
          },
          "metadata": {},
          "execution_count": 2
        }
      ]
    },
    {
      "cell_type": "markdown",
      "source": [
        "\n",
        "### **Eventos**\n",
        "Subconjunto de um espaço amostral, uma fenômeno que ocorre dentro de um conjunto de resultados possíveis\n"
      ],
      "metadata": {
        "id": "_fUNB87pe3y8"
      }
    },
    {
      "cell_type": "markdown",
      "source": [
        "\n",
        "### **Conjuntos**\n",
        "\n",
        "* `União`\n",
        "Eventos $A$ ∪ $B$, gera no um novo evento resultante de todas os resultados dos dois eventos.\n",
        "\n",
        "* `Intersecção`\n",
        "Eventos $A$ ∩ $B$, gera um novo evento resultante da diferença entre os dois evento, sendo que esse tem que percencer aos dois.\n",
        "\n",
        "* `Complementares`\n",
        "Evento $C$ é um evento que contês todos os elementos do espaço amostral.\n",
        "\n"
      ],
      "metadata": {
        "id": "QwN2vP1_e5Ko"
      }
    },
    {
      "cell_type": "markdown",
      "source": [
        "### **Eventos independentes**\n",
        "Evento $B$ não impacta na condição da ocrrência do evento $A$\n",
        "\n"
      ],
      "metadata": {
        "id": "hGFYmXBKe6DI"
      }
    },
    {
      "cell_type": "markdown",
      "source": [
        "### **Evento mutualmente excludente**\n",
        "O evento $A$ e o evento $B$ não possuem nenhum elemento em comum, não podendo ocorrer simutanemamento."
      ],
      "metadata": {
        "id": "MX1mj-0ze68H"
      }
    },
    {
      "cell_type": "markdown",
      "source": [
        "## **Definição de probabilidade**\n",
        "É conceito matemático que determina a ocorrência de uma determinado evento $A$ dentro de um espaço amostral\n",
        "\n",
        "$P(A) = \\frac{n_{A}}{n}$"
      ],
      "metadata": {
        "id": "Yyj2ZkF_cA0x"
      }
    },
    {
      "cell_type": "code",
      "source": [
        "dados = [1, 2, 3, 4, 5, 6]\n",
        "A = [2, 4, 6]\n",
        "\n",
        "probabilidade = len(A)/len(dados) * 100\n",
        "probabilidade"
      ],
      "metadata": {
        "colab": {
          "base_uri": "https://localhost:8080/"
        },
        "id": "_x9mfpuvcdcL",
        "outputId": "1a61a999-e675-464e-e316-28d923ef574a"
      },
      "execution_count": 3,
      "outputs": [
        {
          "output_type": "execute_result",
          "data": {
            "text/plain": [
              "50.0"
            ]
          },
          "metadata": {},
          "execution_count": 3
        }
      ]
    },
    {
      "cell_type": "markdown",
      "source": [
        "## **Regras básicas**\n",
        " \n",
        "\n",
        "1.   `Variação probabilidade:` probabilidade sempre entre 0% a 100% ou $0-1$\n",
        "2.   `Probabilidade espaço amostral:` probabilidade $S$ sempre é igual 1\n",
        "3.   `Conjunto vazio:` se não tem dado não tem probabilidade\n",
        "4.   `Adição de probabilidade: ` $P(A ∪ B) = P(A) + P(B) - P(A ∩ B)$\n",
        "5.   `Probabilidade eventos complementares:` $P(A^c) = 1 - P(A)$\n",
        "6.   `Multiplicação de probabilidade: ` $P(A ∩ B) = P(A)P(B)$\n",
        "\n"
      ],
      "metadata": {
        "id": "jPhKTlfEc5OV"
      }
    },
    {
      "cell_type": "markdown",
      "source": [
        "## **Probabilidade Condicional**\n",
        "Quando os eventos não forem independente deve usar conceito de probabilidade condicional, basicamente se tive um evento qual a probabilidade de acontecer o outro.\n",
        "\n",
        "$P(A|B) = \\frac{P(A ∩ B)}{P(B)}$\n",
        "\n",
        "* `multiplicacao probabilidade: ` $P(A ∩ B) = P(A)P(B|A)$ pode ser extendido para o terceiro evento multiplicando por $P(C|A ∩ B)$"
      ],
      "metadata": {
        "id": "lapWJ-DVGdJ1"
      }
    },
    {
      "cell_type": "markdown",
      "source": [
        "## **Teorema de Bayes**\n",
        "Uma probabilidade calculada de um evento e irá ser colocado mais informações, esse teorema possibilita recalcular.\n",
        "\n",
        "$P(B_{i} | A) = \\frac{P(B_{i} ∩ A)}{P(A)} $"
      ],
      "metadata": {
        "id": "i0qklLosN6Dv"
      }
    },
    {
      "cell_type": "markdown",
      "source": [
        "## **Análise Combinatória**"
      ],
      "metadata": {
        "id": "FlvddR48XNcN"
      }
    },
    {
      "cell_type": "markdown",
      "source": [
        "## **Probpy v.0.0**\n",
        "by: João Ataíde"
      ],
      "metadata": {
        "id": "5ryrKKeLGALP"
      }
    },
    {
      "cell_type": "code",
      "source": [
        "class universo:\n",
        "    def __init__(self, eventoA, espaco_amostral, eventoB = None,\n",
        "                 eventoC = None, novoseventos = None):\n",
        "        self.eventoA = eventoA\n",
        "        self.eventoB = eventoB\n",
        "        self.eventoC = eventoC\n",
        "        self.espaco_amostral= espaco_amostral\n",
        "\n",
        "    def prob(self):\n",
        "        return len(self.eventoA) / len(self.espaco_amostral)\n",
        "\n",
        "    def intercet(self):\n",
        "        return list(set(self.eventoA).intersection(self.eventoB))\n",
        "    \n",
        "    def union(self):\n",
        "        return list(set(self.eventoA).union(self.eventoB))\n",
        "\n",
        "    def adicao_multual(self):\n",
        "        prob_a = universo(self.eventoA, self.espaco_amostral).prob() \n",
        "        prob_b = universo(self.eventoB, self.espaco_amostral).prob()\n",
        "        intecect =  universo(universo(self.eventoA,self.espaco_amostral, self.eventoB).intercet(), S).prob()\n",
        "\n",
        "        return prob_a + prob_b - intecect\n",
        "\n",
        "    def adicao_excludantes(self):\n",
        "        prob_a = universo(self.eventoA, self.espaco_amostral).prob() \n",
        "        prob_b = universo(self.eventoB, self.espaco_amostral).prob()\n",
        "\n",
        "        return prob_a + prob_b\n",
        "    \n",
        "    def complement(self):\n",
        "        return 1 - universo(self.eventoA, self.espaco_amostral).prob()\n",
        "\n",
        "    def indepedent(self):\n",
        "        return universo(self.eventoA, self.espaco_amostral).prob() * universo(self.eventoB, self.espaco_amostral).prob()\n",
        "\n",
        "    def conditional(self):\n",
        "        intecect =  universo(universo(self.eventoA, self.espaco_amostral,\n",
        "                                      self.eventoB).intercet(), self.espaco_amostral).prob()\n",
        "\n",
        "        prob_B = universo(self.eventoB, self.espaco_amostral).prob()\n",
        "        return intecect / prob_B\n",
        "\n",
        "    def conditional_mult(self):\n",
        "        intecect =  universo(universo(self.eventoA, self.espaco_amostral, self.eventoB).intercet(),\n",
        "                             self.espaco_amostral).prob()\n",
        "\n",
        "        prob_B = universo(self.eventoB, self.espaco_amostral).prob()\n",
        "        prob_A = universo(self.eventoA, self.espaco_amostral).prob()\n",
        "        prob_C = universo(self.eventoC, self.espaco_amostral).prob()\n",
        "\n",
        "        return prob_A * (intecect / prob_B) * (intecect / prob_C)\n",
        "\n",
        "    def bayes_theorem(self):\n",
        "        return  universo(self.eventoB, self.espaco_amostral, self.novoseventos).conditional()\n",
        "\n"
      ],
      "metadata": {
        "id": "qqxXfZfjoE6u"
      },
      "execution_count": 20,
      "outputs": []
    },
    {
      "cell_type": "markdown",
      "source": [
        "## **Exercícios Probabilidade Básica**\n",
        "\n",
        "\n"
      ],
      "metadata": {
        "id": "1yQgxiFXfmWA"
      }
    },
    {
      "cell_type": "markdown",
      "source": [
        "### Exemplo 1"
      ],
      "metadata": {
        "id": "yRagkP10I3Yg"
      }
    },
    {
      "cell_type": "code",
      "source": [
        "#impar\n",
        "def impar(lista):\n",
        "   return list(filter(lambda x: (x%2 != 0) , lista))\n",
        "\n",
        "\n",
        "#numeros par\n",
        "def par(lista):\n",
        "   return list(filter(lambda x: (x%2 == 0) , lista))\n",
        "\n",
        "\n",
        "#multiplo de 5\n",
        "def mult_cinco(lista):\n",
        "   return list(filter(lambda x: (x%5 == 0) , lista))\n",
        "\n",
        "\n",
        "#multiplo de 5\n",
        "def nao_mult_cinco(lista):\n",
        "   return list(filter(lambda x: (x%5 != 0) , lista))"
      ],
      "metadata": {
        "id": "SuzMz0YSe0wC"
      },
      "execution_count": 5,
      "outputs": []
    },
    {
      "cell_type": "markdown",
      "source": [
        "### Exemplo 2"
      ],
      "metadata": {
        "id": "HSr68WUhI51G"
      }
    },
    {
      "cell_type": "code",
      "source": [
        "#B) Probabildiade evento inpar em S\n",
        "prob_A = universo(impar(S),S).prob()\n",
        "prob_A"
      ],
      "metadata": {
        "colab": {
          "base_uri": "https://localhost:8080/"
        },
        "id": "rOkOlvLpfrSF",
        "outputId": "feec67f4-46ac-4614-d8a8-f2d65ff748ce"
      },
      "execution_count": 6,
      "outputs": [
        {
          "output_type": "execute_result",
          "data": {
            "text/plain": [
              "0.5"
            ]
          },
          "metadata": {},
          "execution_count": 6
        }
      ]
    },
    {
      "cell_type": "markdown",
      "source": [
        "### Exemplo 3"
      ],
      "metadata": {
        "id": "kKLYrWfJI71v"
      }
    },
    {
      "cell_type": "code",
      "source": [
        "#C) Probabilidade evento multiplo de 5 em S\n",
        "prob_B = universo(mult_cinco(S),S).prob()\n",
        "prob_B"
      ],
      "metadata": {
        "colab": {
          "base_uri": "https://localhost:8080/"
        },
        "id": "yy3op-oJiEvs",
        "outputId": "a30588a6-fac1-4ca3-aefe-fc817cc80159"
      },
      "execution_count": 7,
      "outputs": [
        {
          "output_type": "execute_result",
          "data": {
            "text/plain": [
              "0.2"
            ]
          },
          "metadata": {},
          "execution_count": 7
        }
      ]
    },
    {
      "cell_type": "markdown",
      "source": [
        "### Exemplo 4"
      ],
      "metadata": {
        "id": "OYVvIXvFI9tD"
      }
    },
    {
      "cell_type": "code",
      "source": [
        "#D) Estabelecendo eventos\n",
        "A = impar(S)\n",
        "B = mult_cinco(S)"
      ],
      "metadata": {
        "id": "MUFhAuHKgmr3"
      },
      "execution_count": 8,
      "outputs": []
    },
    {
      "cell_type": "code",
      "source": [
        "#Probabilidade de ocorrer A e B Multualmente\n",
        "universo(A, S, B).adicao_multual()"
      ],
      "metadata": {
        "colab": {
          "base_uri": "https://localhost:8080/"
        },
        "id": "qw-b5M1vgvSl",
        "outputId": "3927e7e6-02cd-48d8-cd69-a3bd52d24940"
      },
      "execution_count": 21,
      "outputs": [
        {
          "output_type": "execute_result",
          "data": {
            "text/plain": [
              "0.5"
            ]
          },
          "metadata": {},
          "execution_count": 21
        }
      ]
    },
    {
      "cell_type": "code",
      "source": [
        "A = [7, 14, 21, 18, 35, 42, 49, 56]\n",
        "B = [10, 20, 30, 40, 50, 60]"
      ],
      "metadata": {
        "id": "Aawy9CnFlqP0"
      },
      "execution_count": 11,
      "outputs": []
    },
    {
      "cell_type": "code",
      "source": [
        "#Probabilidade dos novos A e B\n",
        "prob_A = universo(A, S).prob()\n",
        "prob_B = universo(B, S).prob()"
      ],
      "metadata": {
        "id": "jBlLvE_cl0gU"
      },
      "execution_count": 12,
      "outputs": []
    },
    {
      "cell_type": "markdown",
      "source": [
        "### Exemplo 5"
      ],
      "metadata": {
        "id": "khllTAi8I_8z"
      }
    },
    {
      "cell_type": "code",
      "source": [
        "#E) probobalidade de ocorrer mas A e B são mutuamente excludentes\n",
        "universo(A, S, B).adicao_excludantes()\n"
      ],
      "metadata": {
        "colab": {
          "base_uri": "https://localhost:8080/"
        },
        "id": "NYoeUCVbi2Ls",
        "outputId": "89759c12-c320-434a-cce6-77e94c1954eb"
      },
      "execution_count": 13,
      "outputs": [
        {
          "output_type": "execute_result",
          "data": {
            "text/plain": [
              "0.23333333333333334"
            ]
          },
          "metadata": {},
          "execution_count": 13
        }
      ]
    },
    {
      "cell_type": "code",
      "source": [
        "#Novos eventos\n",
        "A = mult_cinco(S)\n",
        "B = nao_mult_cinco(S)"
      ],
      "metadata": {
        "id": "5xQL_c2Rmkuy"
      },
      "execution_count": 14,
      "outputs": []
    },
    {
      "cell_type": "markdown",
      "source": [
        "### Exemplo 6"
      ],
      "metadata": {
        "id": "QAncuLPNJBM2"
      }
    },
    {
      "cell_type": "code",
      "source": [
        "#F) Probabilidade de eventos complementares\n",
        "universo(A, S, B).complement()"
      ],
      "metadata": {
        "colab": {
          "base_uri": "https://localhost:8080/"
        },
        "id": "RPeFdsDOnE1k",
        "outputId": "40dec9ca-b3e0-467c-b96c-c4ef36755746"
      },
      "execution_count": 15,
      "outputs": [
        {
          "output_type": "execute_result",
          "data": {
            "text/plain": [
              "0.8"
            ]
          },
          "metadata": {},
          "execution_count": 15
        }
      ]
    },
    {
      "cell_type": "markdown",
      "source": [
        "### Exemplo 7"
      ],
      "metadata": {
        "id": "_MGzbx9cJCYP"
      }
    },
    {
      "cell_type": "code",
      "source": [
        "#G) Probabilidade de eventos independentes\n",
        "universo(A, S, B).indepedent()\n"
      ],
      "metadata": {
        "colab": {
          "base_uri": "https://localhost:8080/"
        },
        "id": "9qcrKRqhnUgG",
        "outputId": "7f02b899-ea93-4e82-a666-d1ebacd4fb1d"
      },
      "execution_count": 16,
      "outputs": [
        {
          "output_type": "execute_result",
          "data": {
            "text/plain": [
              "0.16000000000000003"
            ]
          },
          "metadata": {},
          "execution_count": 16
        }
      ]
    },
    {
      "cell_type": "markdown",
      "source": [
        "## **Exercícios Probabilidade Condicional**"
      ],
      "metadata": {
        "id": "3xUhN4oJJNYM"
      }
    },
    {
      "cell_type": "markdown",
      "source": [
        "### Exemplo 1"
      ],
      "metadata": {
        "id": "xo-0TTs5KSGW"
      }
    },
    {
      "cell_type": "code",
      "source": [
        "S = [1 ,2, 3, 4, 5, 6] #possibilidade dos dados\n",
        "A = [4]\n",
        "B = par(S)\n",
        "C = impar(S)"
      ],
      "metadata": {
        "id": "io6Puz0ZJTh-"
      },
      "execution_count": 22,
      "outputs": []
    },
    {
      "cell_type": "code",
      "source": [
        "# Probabilidade da condição A ocorrer B\n",
        "universo(A, S, B).conditional()"
      ],
      "metadata": {
        "colab": {
          "base_uri": "https://localhost:8080/"
        },
        "id": "BoQw_EsOJzlU",
        "outputId": "f789ad18-78be-4f46-9012-04052b1e5c47"
      },
      "execution_count": 18,
      "outputs": [
        {
          "output_type": "execute_result",
          "data": {
            "text/plain": [
              "0.3333333333333333"
            ]
          },
          "metadata": {},
          "execution_count": 18
        }
      ]
    },
    {
      "cell_type": "markdown",
      "source": [
        "### Exemplo 2"
      ],
      "metadata": {
        "id": "YHlRGUUEKU7g"
      }
    },
    {
      "cell_type": "code",
      "source": [
        "# Probabilidade da condição de A B e C ocorrer\n",
        "universo(A, S, B, C).conditional_mult()"
      ],
      "metadata": {
        "colab": {
          "base_uri": "https://localhost:8080/"
        },
        "id": "BWprxn_xKVpQ",
        "outputId": "a6dd5f14-93e5-4fe9-d195-4f551ea1cc0c"
      },
      "execution_count": 19,
      "outputs": [
        {
          "output_type": "execute_result",
          "data": {
            "text/plain": [
              "0.018518518518518517"
            ]
          },
          "metadata": {},
          "execution_count": 19
        }
      ]
    },
    {
      "cell_type": "markdown",
      "source": [
        "## **Exercícios Teorema de Bayes**"
      ],
      "metadata": {
        "id": "iIfCYXrgRUPZ"
      }
    },
    {
      "cell_type": "code",
      "source": [
        "def filtro(caixa, objetivo):\n",
        "    caixa2 = []\n",
        "    for i in range(len(caixa)):\n",
        "        if caixa[i] == objetivo:\n",
        "            caixa2.append(objetivo)\n",
        "    return caixa2\n",
        "\n",
        "def espaco(lista, A):\n",
        "    lista = list(range(len(lista)))\n",
        "    for i in range(len(lista)):\n",
        "        lista[i] = A\n",
        "    return lista"
      ],
      "metadata": {
        "id": "JP0ndqWSbSBR"
      },
      "execution_count": 23,
      "outputs": []
    },
    {
      "cell_type": "code",
      "source": [
        "U1 = [\"Amarela\", \"Vermelha\"]\n",
        "U2 = [\"Azul\",\"Azul\",\"Azul\"]\n",
        "U3 = [\"Vermelha\", \"Vermelha\", \"Amarela\"]\n",
        "\n",
        "#objetivo\n",
        "A  = \"Amarela\"\n",
        "\n",
        "U1 = filtro(U1, A)\n",
        "U2 = filtro(U2, A)\n",
        "U3 = filtro(U3, A)\n",
        "\n",
        "lista = (U1, U2, U3)\n",
        "S = espaco(lista, A)"
      ],
      "metadata": {
        "id": "EkWKVQdVYyez"
      },
      "execution_count": 24,
      "outputs": []
    },
    {
      "cell_type": "code",
      "source": [
        "prob_U1 = universo(U1, S).prob()\n",
        "prob_U2 = universo(U2, S).prob()\n",
        "prob_U3 = universo(U3, S).prob()\n",
        "\n",
        "print(f\" Probabilidade de escolher U1 {prob_U1}\")\n",
        "print(f\" Probabilidade de escolher U2 {prob_U2}\")\n",
        "print(f\" Probabilidade de escolher U3 {prob_U3}\")"
      ],
      "metadata": {
        "colab": {
          "base_uri": "https://localhost:8080/"
        },
        "id": "PqIKCkF0ZMQ4",
        "outputId": "37c3c69a-f38d-4594-b6e3-8e143a58879f"
      },
      "execution_count": 25,
      "outputs": [
        {
          "output_type": "stream",
          "name": "stdout",
          "text": [
            " Probabilidade de escolher U1 0.3333333333333333\n",
            " Probabilidade de escolher U2 0.0\n",
            " Probabilidade de escolher U3 0.3333333333333333\n"
          ]
        }
      ]
    },
    {
      "cell_type": "code",
      "source": [
        "prob_cond_U1 = universo([A], S, U1).adicao_multual()\n",
        "#prob_cond_U2 = universo([A], S, U2).conditional()\n",
        "prob_cond_U3 = universo([A], S, U3).adicao_multual()\n",
        "\n",
        "print(prob_cond_U1)\n",
        "#print(0)\n",
        "print(prob_cond_U3)"
      ],
      "metadata": {
        "colab": {
          "base_uri": "https://localhost:8080/"
        },
        "id": "C6GLl_cRe-po",
        "outputId": "eebde41d-a14d-4794-80a6-ca99958d0a41"
      },
      "execution_count": 33,
      "outputs": [
        {
          "output_type": "stream",
          "name": "stdout",
          "text": [
            "0.3333333333333333\n",
            "0.3333333333333333\n"
          ]
        }
      ]
    },
    {
      "cell_type": "code",
      "source": [
        "1/2"
      ],
      "metadata": {
        "colab": {
          "base_uri": "https://localhost:8080/"
        },
        "id": "kOeGTjLxnDUU",
        "outputId": "703318ab-2075-44ca-d109-c4e4cb5b1d43"
      },
      "execution_count": 30,
      "outputs": [
        {
          "output_type": "execute_result",
          "data": {
            "text/plain": [
              "0.5"
            ]
          },
          "metadata": {},
          "execution_count": 30
        }
      ]
    }
  ]
}