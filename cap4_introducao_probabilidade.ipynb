{
  "nbformat": 4,
  "nbformat_minor": 0,
  "metadata": {
    "colab": {
      "name": "cap4_introducao_probabilidade.ipynb",
      "provenance": [],
      "collapsed_sections": [],
      "toc_visible": true,
      "include_colab_link": true
    },
    "kernelspec": {
      "name": "python3",
      "display_name": "Python 3"
    },
    "accelerator": "GPU"
  },
  "cells": [
    {
      "cell_type": "markdown",
      "metadata": {
        "id": "view-in-github",
        "colab_type": "text"
      },
      "source": [
        "<a href=\"https://colab.research.google.com/github/jvataidee/ManualdeAnalisedeDados_Python/blob/master/cap4_introducao_probabilidade.ipynb\" target=\"_parent\"><img src=\"https://colab.research.google.com/assets/colab-badge.svg\" alt=\"Open In Colab\"/></a>"
      ]
    },
    {
      "cell_type": "markdown",
      "metadata": {
        "id": "kLI0gJtzDGuQ"
      },
      "source": [
        "**by: [João Ataíde](https://www.joaoataide.com)**\n",
        "# **CAP 04: Introdução a Probabilidade**\n",
        "\n",
        "---\n",
        "\n"
      ]
    },
    {
      "cell_type": "code",
      "source": [
        "#importar bibliotecas\n",
        "import pandas as pd\n",
        "import numpy as np\n",
        "import math\n",
        "import matplotlib.pyplot as plt\n",
        "import seaborn as sns\n",
        "import statistics as st\n",
        "import scipy.stats as stats\n",
        "from scipy.stats import chi2_contingency, spearmanr"
      ],
      "metadata": {
        "id": "dTSRYPl7ORJW"
      },
      "execution_count": null,
      "outputs": []
    },
    {
      "cell_type": "markdown",
      "source": [
        "## **Conceitos**\n",
        "\n",
        "### **Experimento aleatório**\n",
        "Fenômeno imprevisível, se repetido o experimento não é possível aparecer o mesmo resultado\n",
        "\n",
        "### **Espaço amostral**\n",
        "Consiste $S$ em todos o resultados possíveis do experimento\n",
        "\n"
      ],
      "metadata": {
        "id": "zTllLwnt6IGI"
      }
    },
    {
      "cell_type": "code",
      "source": [
        "S = list(range(60))\n",
        "len(S)"
      ],
      "metadata": {
        "colab": {
          "base_uri": "https://localhost:8080/"
        },
        "id": "4fATXMdFe8KZ",
        "outputId": "5d12c412-4c84-4bc7-f039-ce7abbe9044c"
      },
      "execution_count": null,
      "outputs": [
        {
          "output_type": "execute_result",
          "data": {
            "text/plain": [
              "60"
            ]
          },
          "metadata": {},
          "execution_count": 1
        }
      ]
    },
    {
      "cell_type": "markdown",
      "source": [
        "\n",
        "### **Eventos**\n",
        "Subconjunto de um espaço amostral, uma fenômeno que ocorre dentro de um conjunto de resultados possíveis\n"
      ],
      "metadata": {
        "id": "_fUNB87pe3y8"
      }
    },
    {
      "cell_type": "markdown",
      "source": [
        "\n",
        "### **Conjuntos**\n",
        "\n",
        "* `União`\n",
        "Eventos $A$ ∪ $B$, gera no um novo evento resultante de todas os resultados dos dois eventos.\n",
        "\n",
        "* `Intersecção`\n",
        "Eventos $A$ ∩ $B$, gera um novo evento resultante da diferença entre os dois evento, sendo que esse tem que percencer aos dois.\n",
        "\n",
        "* `Complementares`\n",
        "Evento $C$ é um evento que contês todos os elementos do espaço amostral.\n",
        "\n"
      ],
      "metadata": {
        "id": "QwN2vP1_e5Ko"
      }
    },
    {
      "cell_type": "markdown",
      "source": [
        "### **Eventos independentes**\n",
        "Evento $B$ não impacta na condição da ocrrência do evento $A$\n",
        "\n"
      ],
      "metadata": {
        "id": "hGFYmXBKe6DI"
      }
    },
    {
      "cell_type": "markdown",
      "source": [
        "### **Evento mutualmente excludente**\n",
        "O evento $A$ e o evento $B$ não possuem nenhum elemento em comum, não podendo ocorrer simutanemamento."
      ],
      "metadata": {
        "id": "MX1mj-0ze68H"
      }
    },
    {
      "cell_type": "markdown",
      "source": [
        "## **Definição de probabilidade**\n",
        "É conceito matemático que determina a ocorrência de uma determinado evento $A$ dentro de um espaço amostral\n",
        "\n",
        "$P(A) = \\frac{n_{A}}{n}$"
      ],
      "metadata": {
        "id": "Yyj2ZkF_cA0x"
      }
    },
    {
      "cell_type": "code",
      "source": [
        "dados = [1, 2, 3, 4, 5, 6]\n",
        "A = [2, 4, 6]\n",
        "\n",
        "probabilidade = len(A)/len(dados) * 100\n",
        "probabilidade"
      ],
      "metadata": {
        "colab": {
          "base_uri": "https://localhost:8080/"
        },
        "id": "_x9mfpuvcdcL",
        "outputId": "ddfdb2aa-1424-4a1e-b214-94ed2c586be2"
      },
      "execution_count": null,
      "outputs": [
        {
          "output_type": "execute_result",
          "data": {
            "text/plain": [
              "50.0"
            ]
          },
          "metadata": {},
          "execution_count": 2
        }
      ]
    },
    {
      "cell_type": "markdown",
      "source": [
        "## **Regras básicas**\n",
        " \n",
        "\n",
        "1.   `Variação probabilidade:` probabilidade sempre entre 0% a 100% ou $0-1$\n",
        "2.   `Probabilidade espaço amostral:` probabilidade $S$ sempre é igual 1\n",
        "3.   `Conjunto vazio:` se não tem dado não tem probabilidade\n",
        "4.   `Adição de probabilidade: ` $P(A ∪ B) = P(A) + P(B) - P(A ∩ B)$\n",
        "5.   `Probabilidade eventos complementares:` $P(A^c) = 1 - P(A)$\n",
        "6.   `Multiplicação de probabilidade: ` $P(A ∩ B) = P(A)P(B)$\n",
        "\n"
      ],
      "metadata": {
        "id": "jPhKTlfEc5OV"
      }
    },
    {
      "cell_type": "markdown",
      "source": [
        "#### **Exercícios**"
      ],
      "metadata": {
        "id": "1yQgxiFXfmWA"
      }
    },
    {
      "cell_type": "code",
      "source": [
        "#impar\n",
        "def impar(lista):\n",
        "   return list(filter(lambda x: (x%2 != 0) , lista))\n",
        "\n",
        "\n",
        "#numeros par\n",
        "def par(lista):\n",
        "   return list(filter(lambda x: (x%2 == 0) , lista))\n",
        "\n",
        "\n",
        "#multiplo de 5\n",
        "def mult_cinco(lista):\n",
        "   return list(filter(lambda x: (x%5 == 0) , lista))\n",
        "\n",
        "\n",
        "#multiplo de 5\n",
        "def nao_mult_cinco(lista):\n",
        "   return list(filter(lambda x: (x%5 != 0) , lista))"
      ],
      "metadata": {
        "id": "SuzMz0YSe0wC"
      },
      "execution_count": null,
      "outputs": []
    },
    {
      "cell_type": "code",
      "source": [
        "class universo:\n",
        "    def __init__(self, eventoA, eventoB):\n",
        "        self.eventoA = eventoA\n",
        "        self.eventoB = eventoB\n",
        "    \n",
        "    def prob(self):\n",
        "        return len(self.eventoA) / len(self.eventoB)\n",
        "\n",
        "    def intercet(self):\n",
        "        return list(set(self.eventoA).intersection(self.eventoB))\n",
        "    \n",
        "    def union(self):\n",
        "        return list(set(self.eventoA).union(self.eventoB))\n",
        "\n",
        "class operacao:\n",
        "    def __init__(self, eventoA, eventoB, espaco_amostral ):\n",
        "        self.eventoA = eventoA\n",
        "        self.eventoB = eventoB\n",
        "        self.espaco_amostral= espaco_amostral\n",
        "\n",
        "    def adicao_multual(self):\n",
        "        prob_a = universo(self.eventoA, self.espaco_amostral).prob() \n",
        "        prob_b = universo(self.eventoB, self.espaco_amostral).prob()\n",
        "        intecect =  universo(universo(self.eventoA, self.eventoB).intercet(), S).prob()\n",
        "\n",
        "        return prob_a + prob_b - intecect\n",
        "\n",
        "    def adicao_excludantes(self):\n",
        "        prob_a = universo(self.eventoA, self.espaco_amostral).prob() \n",
        "        prob_b = universo(self.eventoB, self.espaco_amostral).prob()\n",
        "\n",
        "        return prob_a + prob_b\n",
        "    \n",
        "    def complement(self):\n",
        "        return 1 - universo(self.eventoA, self.espaco_amostral).prob()\n",
        "\n",
        "    def indepedent(self):\n",
        "        return universo(self.eventoA, self.espaco_amostral).prob() * universo(self.eventoB, self.espaco_amostral).prob()"
      ],
      "metadata": {
        "id": "qqxXfZfjoE6u"
      },
      "execution_count": null,
      "outputs": []
    },
    {
      "cell_type": "code",
      "source": [
        "#B) Probabildiade evento inpar em S\n",
        "prob_A = universo(impar(S),S).prob()\n",
        "prob_A"
      ],
      "metadata": {
        "colab": {
          "base_uri": "https://localhost:8080/"
        },
        "id": "rOkOlvLpfrSF",
        "outputId": "c8e26812-f914-45f9-b17c-39c6d82951fc"
      },
      "execution_count": null,
      "outputs": [
        {
          "output_type": "execute_result",
          "data": {
            "text/plain": [
              "0.5"
            ]
          },
          "metadata": {},
          "execution_count": 154
        }
      ]
    },
    {
      "cell_type": "code",
      "source": [
        "#C) Probabilidade evento multiplo de 5 em S\n",
        "prob_B = universo(mult_cinco(S),S).prob()\n",
        "prob_B"
      ],
      "metadata": {
        "colab": {
          "base_uri": "https://localhost:8080/"
        },
        "id": "yy3op-oJiEvs",
        "outputId": "b4f82882-b0e2-4e93-87db-463935f34897"
      },
      "execution_count": null,
      "outputs": [
        {
          "output_type": "execute_result",
          "data": {
            "text/plain": [
              "0.2"
            ]
          },
          "metadata": {},
          "execution_count": 155
        }
      ]
    },
    {
      "cell_type": "code",
      "source": [
        "#D) Estabelecendo eventos\n",
        "A = impar(S)\n",
        "B = mult_cinco(S)"
      ],
      "metadata": {
        "id": "MUFhAuHKgmr3"
      },
      "execution_count": null,
      "outputs": []
    },
    {
      "cell_type": "code",
      "source": [
        "#Probabilidade de ocorrer A e B Multualmente\n",
        "adicao_AB = operacao(A, B, S).adicao_multual()\n",
        "adicao_AB"
      ],
      "metadata": {
        "colab": {
          "base_uri": "https://localhost:8080/"
        },
        "id": "qw-b5M1vgvSl",
        "outputId": "ae8ac1f2-449e-46eb-e728-6df88431cc46"
      },
      "execution_count": null,
      "outputs": [
        {
          "output_type": "execute_result",
          "data": {
            "text/plain": [
              "0.6"
            ]
          },
          "metadata": {},
          "execution_count": 158
        }
      ]
    },
    {
      "cell_type": "code",
      "source": [
        "A = [7, 14, 21, 18, 35, 42, 49, 56]\n",
        "B = [10, 20, 30, 40, 50, 60]"
      ],
      "metadata": {
        "id": "Aawy9CnFlqP0"
      },
      "execution_count": null,
      "outputs": []
    },
    {
      "cell_type": "code",
      "source": [
        "#Probabilidade dos novos A e B\n",
        "prob_A = universo(A, S).prob()\n",
        "prob_B = universo(B, S).prob()"
      ],
      "metadata": {
        "id": "jBlLvE_cl0gU"
      },
      "execution_count": null,
      "outputs": []
    },
    {
      "cell_type": "code",
      "source": [
        "#E) probobalidade de ocorrer mas A e B são mutuamente excludentes\n",
        "prob_A_inter_B = operacao(A, B, S).adicao_excludantes()\n",
        "prob_A_inter_B"
      ],
      "metadata": {
        "colab": {
          "base_uri": "https://localhost:8080/"
        },
        "id": "NYoeUCVbi2Ls",
        "outputId": "1e2f6d62-d953-4df8-a7be-aa86e169461a"
      },
      "execution_count": null,
      "outputs": [
        {
          "output_type": "execute_result",
          "data": {
            "text/plain": [
              "0.7"
            ]
          },
          "metadata": {},
          "execution_count": 159
        }
      ]
    },
    {
      "cell_type": "code",
      "source": [
        "#Novos eventos\n",
        "A = mult_cinco(S)\n",
        "B = nao_mult_cinco(S)"
      ],
      "metadata": {
        "id": "5xQL_c2Rmkuy"
      },
      "execution_count": null,
      "outputs": []
    },
    {
      "cell_type": "code",
      "source": [
        "#F) Probabilidade de eventos complementares\n",
        "prob_Ac = operacao(A, B, S).complement()\n",
        "prob_Ac"
      ],
      "metadata": {
        "colab": {
          "base_uri": "https://localhost:8080/"
        },
        "id": "RPeFdsDOnE1k",
        "outputId": "c07e0024-2e12-4dba-e26e-a9b309b64882"
      },
      "execution_count": null,
      "outputs": [
        {
          "output_type": "execute_result",
          "data": {
            "text/plain": [
              "0.8"
            ]
          },
          "metadata": {},
          "execution_count": 162
        }
      ]
    },
    {
      "cell_type": "code",
      "source": [
        "#G) Probabilidade de eventos independentes\n",
        "prob_A_int_B = operacao(A, B, S).indepedent()\n",
        "prob_A_int_B"
      ],
      "metadata": {
        "colab": {
          "base_uri": "https://localhost:8080/"
        },
        "id": "9qcrKRqhnUgG",
        "outputId": "9411e191-b813-4641-e4b9-bc5c51351fcc"
      },
      "execution_count": null,
      "outputs": [
        {
          "output_type": "execute_result",
          "data": {
            "text/plain": [
              "0.16000000000000003"
            ]
          },
          "metadata": {},
          "execution_count": 164
        }
      ]
    }
  ]
}