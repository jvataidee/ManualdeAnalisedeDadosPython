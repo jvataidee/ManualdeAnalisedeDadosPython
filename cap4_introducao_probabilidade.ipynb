{
  "nbformat": 4,
  "nbformat_minor": 0,
  "metadata": {
    "colab": {
      "name": "cap4_introducao_probabilidade.ipynb",
      "provenance": [],
      "collapsed_sections": [],
      "toc_visible": true,
      "include_colab_link": true
    },
    "kernelspec": {
      "name": "python3",
      "display_name": "Python 3"
    },
    "accelerator": "GPU"
  },
  "cells": [
    {
      "cell_type": "markdown",
      "metadata": {
        "id": "view-in-github",
        "colab_type": "text"
      },
      "source": [
        "<a href=\"https://colab.research.google.com/github/jvataidee/ManualdeAnalisedeDados_Python/blob/master/cap4_introducao_probabilidade.ipynb\" target=\"_parent\"><img src=\"https://colab.research.google.com/assets/colab-badge.svg\" alt=\"Open In Colab\"/></a>"
      ]
    },
    {
      "cell_type": "markdown",
      "metadata": {
        "id": "kLI0gJtzDGuQ"
      },
      "source": [
        "**by: [João Ataíde](https://www.joaoataide.com)**\n",
        "# **CAP 04: Introdução a Probabilidade**\n",
        "\n",
        "---\n",
        "\n"
      ]
    },
    {
      "cell_type": "code",
      "source": [
        "#importar bibliotecas\n",
        "import pandas as pd\n",
        "import numpy as np\n",
        "import math\n",
        "import matplotlib.pyplot as plt\n",
        "import seaborn as sns\n",
        "import statistics as st\n",
        "import scipy.stats as stats\n",
        "from scipy.stats import chi2_contingency, spearmanr"
      ],
      "metadata": {
        "id": "dTSRYPl7ORJW"
      },
      "execution_count": 1,
      "outputs": []
    },
    {
      "cell_type": "markdown",
      "source": [
        "## **Conceitos**\n",
        "\n",
        "### **Experimento aleatório**\n",
        "Fenômeno imprevisível, se repetido o experimento não é possível aparecer o mesmo resultado\n",
        "\n",
        "### **Espaço amostral**\n",
        "Consiste $S$ em todos o resultados possíveis do experimento\n",
        "\n"
      ],
      "metadata": {
        "id": "zTllLwnt6IGI"
      }
    },
    {
      "cell_type": "code",
      "source": [
        "S = list(range(60))\n",
        "len(S)"
      ],
      "metadata": {
        "colab": {
          "base_uri": "https://localhost:8080/"
        },
        "id": "4fATXMdFe8KZ",
        "outputId": "1de57661-c76c-4ef8-cba1-e93a5df1bef9"
      },
      "execution_count": 84,
      "outputs": [
        {
          "output_type": "execute_result",
          "data": {
            "text/plain": [
              "60"
            ]
          },
          "metadata": {},
          "execution_count": 84
        }
      ]
    },
    {
      "cell_type": "markdown",
      "source": [
        "\n",
        "### **Eventos**\n",
        "Subconjunto de um espaço amostral, uma fenômeno que ocorre dentro de um conjunto de resultados possíveis\n"
      ],
      "metadata": {
        "id": "_fUNB87pe3y8"
      }
    },
    {
      "cell_type": "markdown",
      "source": [
        "\n",
        "### **Conjuntos**\n",
        "\n",
        "* `União`\n",
        "Eventos $A$ ∪ $B$, gera no um novo evento resultante de todas os resultados dos dois eventos.\n",
        "\n",
        "* `Intersecção`\n",
        "Eventos $A$ ∩ $B$, gera um novo evento resultante da diferença entre os dois evento, sendo que esse tem que percencer aos dois.\n",
        "\n",
        "* `Complementares`\n",
        "Evento $C$ é um evento que contês todos os elementos do espaço amostral.\n",
        "\n"
      ],
      "metadata": {
        "id": "QwN2vP1_e5Ko"
      }
    },
    {
      "cell_type": "markdown",
      "source": [
        "### **Eventos independentes**\n",
        "Evento $B$ não impacta na condição da ocrrência do evento $A$\n",
        "\n"
      ],
      "metadata": {
        "id": "hGFYmXBKe6DI"
      }
    },
    {
      "cell_type": "markdown",
      "source": [
        "### **Evento mutualmente excludente**\n",
        "O evento $A$ e o evento $B$ não possuem nenhum elemento em comum, não podendo ocorrer simutanemamento."
      ],
      "metadata": {
        "id": "MX1mj-0ze68H"
      }
    },
    {
      "cell_type": "markdown",
      "source": [
        "## **Definição de probabilidade**\n",
        "É conceito matemático que determina a ocorrência de uma determinado evento $A$ dentro de um espaço amostral\n",
        "\n",
        "$P(A) = \\frac{n_{A}}{n}$"
      ],
      "metadata": {
        "id": "Yyj2ZkF_cA0x"
      }
    },
    {
      "cell_type": "code",
      "source": [
        "dados = [1, 2, 3, 4, 5, 6]\n",
        "A = [2, 4, 6]\n",
        "\n",
        "probabilidade = len(A)/len(dados) * 100\n",
        "probabilidade"
      ],
      "metadata": {
        "colab": {
          "base_uri": "https://localhost:8080/"
        },
        "id": "_x9mfpuvcdcL",
        "outputId": "6c2c9f74-2fb5-4db8-bf9f-553151a5b35a"
      },
      "execution_count": 3,
      "outputs": [
        {
          "output_type": "execute_result",
          "data": {
            "text/plain": [
              "50.0"
            ]
          },
          "metadata": {},
          "execution_count": 3
        }
      ]
    },
    {
      "cell_type": "markdown",
      "source": [
        "## **Regras básicas**\n",
        " \n",
        "\n",
        "1.   `Variação probabilidade:` probabilidade sempre entre 0% a 100% ou $0-1$\n",
        "2.   `Probabilidade espaço amostral:` probabilidade $S$ sempre é igual 1\n",
        "3.   `Conjunto vazio:` se não tem dado não tem probabilidade\n",
        "4.   `Adição de probabilidade: ` $P(A ∪ B) = P(A) + P(B) - P(A ∩ B)$\n",
        "5.   `Probabilidade eventos complementares:` $P(A^c) = 1 - P(A)$\n",
        "6.   `Multiplicação de probabilidade: ` $P(A ∩ B) = P(A)P(B)$\n",
        "\n"
      ],
      "metadata": {
        "id": "jPhKTlfEc5OV"
      }
    },
    {
      "cell_type": "markdown",
      "source": [
        "## **Probabilidade Condicional**\n",
        "Quando os eventos não forem independente deve usar conceito de probabilidade condicional, basicamente se tive um evento qual a probabilidade de acontecer o outro.\n",
        "\n",
        "$P(A|B) = \\frac{P(A ∩ B)}{P(B)}$\n",
        "\n",
        "* `multiplicacao probabilidade: ` $P(A ∩ B) = P(A)P(B|A)$ pode ser extendido para o terceiro evento multiplicando por $P(C|A ∩ B)$"
      ],
      "metadata": {
        "id": "lapWJ-DVGdJ1"
      }
    },
    {
      "cell_type": "markdown",
      "source": [
        "## **Teorema de Bayes**\n",
        "Uma probabilidade calculada de um evento e irá ser colocado mais informações, esse teorema possibilita recalcular.\n",
        "\n",
        "$P(B_{i} | A) = \\frac{P(B_{i} ∩ A)}{P(A)} $"
      ],
      "metadata": {
        "id": "i0qklLosN6Dv"
      }
    },
    {
      "cell_type": "markdown",
      "source": [
        "## **Análise Combinatória**"
      ],
      "metadata": {
        "id": "FlvddR48XNcN"
      }
    },
    {
      "cell_type": "markdown",
      "source": [
        "## **Probpy v.0.0**\n",
        "by: João Ataíde"
      ],
      "metadata": {
        "id": "5ryrKKeLGALP"
      }
    },
    {
      "cell_type": "code",
      "source": [
        "class universo:\n",
        "    def __init__(self, eventoA, espaco_amostral, eventoB = None,\n",
        "                 eventoC = None, novoseventos = None):\n",
        "        self.eventoA = eventoA\n",
        "        self.eventoB = eventoB\n",
        "        self.eventoC = eventoC\n",
        "        self.espaco_amostral= espaco_amostral\n",
        "\n",
        "    def prob(self):\n",
        "        return len(self.eventoA) / len(self.espaco_amostral)\n",
        "\n",
        "    def intercet(self):\n",
        "        return list(set(self.eventoA).intersection(self.eventoB))\n",
        "    \n",
        "    def union(self):\n",
        "        return self.eventoA + self.eventoB\n",
        "\n",
        "    def adicao_multual(self):\n",
        "        prob_a = universo(self.eventoA, self.espaco_amostral).prob() \n",
        "        prob_b = universo(self.eventoB, self.espaco_amostral).prob()\n",
        "        intecect =  universo(universo(self.eventoA,self.espaco_amostral, self.eventoB).intercet(), S).prob()\n",
        "        return prob_a + prob_b - intecect\n",
        "\n",
        "    def adicao_excludantes(self):\n",
        "        prob_a = universo(self.eventoA, self.espaco_amostral).prob() \n",
        "        prob_b = universo(self.eventoB, self.espaco_amostral).prob()\n",
        "        return prob_a + prob_b\n",
        "    \n",
        "    def complement(self):\n",
        "        return (1 - universo(self.eventoA, self.espaco_amostral).prob())\n",
        "\n",
        "    def indepedent(self):\n",
        "        return universo(self.eventoA, self.espaco_amostral).prob() * universo(self.eventoB, self.espaco_amostral).prob()\n",
        "\n",
        "    def conditional(self):\n",
        "        intecect =  universo(universo(self.eventoA, self.espaco_amostral,\n",
        "                                      self.eventoB).intercet(), self.espaco_amostral).prob()\n",
        "        prob_B = universo(self.eventoB, self.espaco_amostral).prob()\n",
        "        return intecect / prob_B\n",
        "\n",
        "    def conditional_mult(self):\n",
        "        interc = universo(self.eventoA, self.espaco_amostral, self.eventoB).intercet()\n",
        "        intecect =  len(interc) / len(self.espaco_amostral)\n",
        "        print(intecect)\n",
        "        print(interc)\n",
        "\n",
        "        prob_A = len(self.eventoA) / len(self.espaco_amostral)\n",
        "        prob_B = len(self.eventoB) / len(self.espaco_amostral)\n",
        "        prob_C = len(self.eventoC) / len(self.espaco_amostral)\n",
        "        return prob_A * (intecect / prob_B) * (intecect / prob_C)\n"
      ],
      "metadata": {
        "id": "qqxXfZfjoE6u"
      },
      "execution_count": 80,
      "outputs": []
    },
    {
      "cell_type": "markdown",
      "source": [
        "## **Exercícios Probabilidade Básica**\n",
        "\n",
        "\n"
      ],
      "metadata": {
        "id": "1yQgxiFXfmWA"
      }
    },
    {
      "cell_type": "markdown",
      "source": [
        "### Exemplo 1"
      ],
      "metadata": {
        "id": "yRagkP10I3Yg"
      }
    },
    {
      "cell_type": "code",
      "source": [
        "#impar\n",
        "def impar(lista):\n",
        "   return list(filter(lambda x: (x%2 != 0) , lista))\n",
        "\n",
        "\n",
        "#numeros par\n",
        "def par(lista):\n",
        "   return list(filter(lambda x: (x%2 == 0) , lista))\n",
        "\n",
        "\n",
        "#multiplo de 5\n",
        "def mult_cinco(lista):\n",
        "   return list(filter(lambda x: (x%5 == 0) , lista))\n",
        "\n",
        "\n",
        "#multiplo de 5\n",
        "def nao_mult_cinco(lista):\n",
        "   return list(filter(lambda x: (x%5 != 0) , lista))"
      ],
      "metadata": {
        "id": "SuzMz0YSe0wC"
      },
      "execution_count": 5,
      "outputs": []
    },
    {
      "cell_type": "markdown",
      "source": [
        "### Exemplo 2"
      ],
      "metadata": {
        "id": "HSr68WUhI51G"
      }
    },
    {
      "cell_type": "code",
      "source": [
        "A = impar(S)\n",
        "B = mult_cinco(S)"
      ],
      "metadata": {
        "id": "yqlAfVXcuZAP"
      },
      "execution_count": 88,
      "outputs": []
    },
    {
      "cell_type": "code",
      "source": [
        "#B) Probabildiade evento inpar em S\n",
        "prob_A = universo(A, S)\n",
        "prob_A.prob()"
      ],
      "metadata": {
        "colab": {
          "base_uri": "https://localhost:8080/"
        },
        "id": "rOkOlvLpfrSF",
        "outputId": "7fa5610b-7bca-4b88-ecd6-068175f0c82c"
      },
      "execution_count": 7,
      "outputs": [
        {
          "output_type": "execute_result",
          "data": {
            "text/plain": [
              "0.5"
            ]
          },
          "metadata": {},
          "execution_count": 7
        }
      ]
    },
    {
      "cell_type": "markdown",
      "source": [
        "### Exemplo 3"
      ],
      "metadata": {
        "id": "kKLYrWfJI71v"
      }
    },
    {
      "cell_type": "code",
      "source": [
        "#C) Probabilidade evento multiplo de 5 em S\n",
        "prob_B = universo(B, S)\n",
        "prob_B.prob()"
      ],
      "metadata": {
        "colab": {
          "base_uri": "https://localhost:8080/"
        },
        "id": "yy3op-oJiEvs",
        "outputId": "8c628c56-decb-48f4-c7c6-8ba5afd3e20b"
      },
      "execution_count": 8,
      "outputs": [
        {
          "output_type": "execute_result",
          "data": {
            "text/plain": [
              "0.2"
            ]
          },
          "metadata": {},
          "execution_count": 8
        }
      ]
    },
    {
      "cell_type": "markdown",
      "source": [
        "### Exemplo 4"
      ],
      "metadata": {
        "id": "OYVvIXvFI9tD"
      }
    },
    {
      "cell_type": "code",
      "source": [
        "#Universo de estudo\n",
        "univers = universo(A, S, B)"
      ],
      "metadata": {
        "id": "qw-b5M1vgvSl"
      },
      "execution_count": 9,
      "outputs": []
    },
    {
      "cell_type": "code",
      "source": [
        "#Probabilidade de ocorrer A e B Multualmente\n",
        "univers.adicao_multual()"
      ],
      "metadata": {
        "colab": {
          "base_uri": "https://localhost:8080/"
        },
        "id": "VsE_z-mtu095",
        "outputId": "56ba642b-2634-4103-d11c-4ca595d2c76a"
      },
      "execution_count": 10,
      "outputs": [
        {
          "output_type": "execute_result",
          "data": {
            "text/plain": [
              "0.6833333333333332"
            ]
          },
          "metadata": {},
          "execution_count": 10
        }
      ]
    },
    {
      "cell_type": "markdown",
      "source": [
        "### Exemplo 5"
      ],
      "metadata": {
        "id": "khllTAi8I_8z"
      }
    },
    {
      "cell_type": "code",
      "source": [
        "#E) probobalidade de ocorrer mas A e B são mutuamente excludentes\n",
        "univers.adicao_excludantes()"
      ],
      "metadata": {
        "colab": {
          "base_uri": "https://localhost:8080/"
        },
        "id": "NYoeUCVbi2Ls",
        "outputId": "9a67672a-7aff-4dd6-97b6-67d9b5738c47"
      },
      "execution_count": 11,
      "outputs": [
        {
          "output_type": "execute_result",
          "data": {
            "text/plain": [
              "0.7"
            ]
          },
          "metadata": {},
          "execution_count": 11
        }
      ]
    },
    {
      "cell_type": "markdown",
      "source": [
        "### Exemplo 6"
      ],
      "metadata": {
        "id": "QAncuLPNJBM2"
      }
    },
    {
      "cell_type": "code",
      "source": [
        "#F) Probabilidade de eventos complementares\n",
        "univers.complement()"
      ],
      "metadata": {
        "colab": {
          "base_uri": "https://localhost:8080/"
        },
        "id": "RPeFdsDOnE1k",
        "outputId": "c0679b4c-1fe9-48ec-862e-425cdffe15ac"
      },
      "execution_count": 12,
      "outputs": [
        {
          "output_type": "execute_result",
          "data": {
            "text/plain": [
              "0.5"
            ]
          },
          "metadata": {},
          "execution_count": 12
        }
      ]
    },
    {
      "cell_type": "markdown",
      "source": [
        "### Exemplo 7"
      ],
      "metadata": {
        "id": "_MGzbx9cJCYP"
      }
    },
    {
      "cell_type": "code",
      "source": [
        "#G) Probabilidade de eventos independentes\n",
        "univers.indepedent()"
      ],
      "metadata": {
        "colab": {
          "base_uri": "https://localhost:8080/"
        },
        "id": "9qcrKRqhnUgG",
        "outputId": "29223027-c864-4996-bd29-45f832a641e5"
      },
      "execution_count": 13,
      "outputs": [
        {
          "output_type": "execute_result",
          "data": {
            "text/plain": [
              "0.1"
            ]
          },
          "metadata": {},
          "execution_count": 13
        }
      ]
    },
    {
      "cell_type": "markdown",
      "source": [
        "## **Exercícios Probabilidade Condicional**"
      ],
      "metadata": {
        "id": "3xUhN4oJJNYM"
      }
    },
    {
      "cell_type": "markdown",
      "source": [
        "### Exemplo 1"
      ],
      "metadata": {
        "id": "xo-0TTs5KSGW"
      }
    },
    {
      "cell_type": "code",
      "source": [
        "# Probabilidade da condição A ocorrer B\n",
        "univers.conditional()"
      ],
      "metadata": {
        "colab": {
          "base_uri": "https://localhost:8080/"
        },
        "id": "BoQw_EsOJzlU",
        "outputId": "81e936af-f2d3-44d0-aa9d-6a6f23feb641"
      },
      "execution_count": 92,
      "outputs": [
        {
          "output_type": "execute_result",
          "data": {
            "text/plain": [
              "0.5"
            ]
          },
          "metadata": {},
          "execution_count": 92
        }
      ]
    },
    {
      "cell_type": "markdown",
      "source": [
        "### Exemplo 2"
      ],
      "metadata": {
        "id": "YHlRGUUEKU7g"
      }
    },
    {
      "cell_type": "code",
      "source": [
        "# Probabilidade da condição de A B e C ocorrer\n",
        "C = nao_mult_cinco(S)\n",
        "univers2 = universo(A, S, B, C)\n",
        "univers2.conditional_mult()"
      ],
      "metadata": {
        "colab": {
          "base_uri": "https://localhost:8080/"
        },
        "id": "BWprxn_xKVpQ",
        "outputId": "b2202dac-6035-4c2b-9998-e012f0eaa5ea"
      },
      "execution_count": 91,
      "outputs": [
        {
          "output_type": "stream",
          "name": "stdout",
          "text": [
            "0.1\n",
            "[35, 5, 45, 15, 55, 25]\n"
          ]
        },
        {
          "output_type": "execute_result",
          "data": {
            "text/plain": [
              "0.03125"
            ]
          },
          "metadata": {},
          "execution_count": 91
        }
      ]
    },
    {
      "cell_type": "markdown",
      "source": [
        "## **Exercícios Teorema de Bayes**"
      ],
      "metadata": {
        "id": "iIfCYXrgRUPZ"
      }
    },
    {
      "cell_type": "code",
      "source": [
        "#Caixas de sorteio\n",
        "U1 = [\"Amarela\", \"Vermelha\", \"Amarela\"]\n",
        "U2 = [\"Azul\",\"Azul\",\"Azul\",]\n",
        "U3 = [\"Vermelha\", \"Vermelha\", \"Amarela\"]\n",
        "\n",
        "#objetivo a sortear\n",
        "A  = [\"Amarela\"]\n",
        "\n",
        "#espaço amostra\n",
        "SD = U1 + U2 + U3\n",
        "\n",
        "S = list(range(len([U1, U2, U3])))"
      ],
      "metadata": {
        "id": "EkWKVQdVYyez"
      },
      "execution_count": 93,
      "outputs": []
    },
    {
      "cell_type": "code",
      "source": [
        "universo(U1, S, A).intercet()"
      ],
      "metadata": {
        "colab": {
          "base_uri": "https://localhost:8080/"
        },
        "id": "m3b9mr3_UIEP",
        "outputId": "ffbc67af-fdb5-4c87-ad0b-0afa38e57746"
      },
      "execution_count": 94,
      "outputs": [
        {
          "output_type": "execute_result",
          "data": {
            "text/plain": [
              "['Amarela']"
            ]
          },
          "metadata": {},
          "execution_count": 94
        }
      ]
    },
    {
      "cell_type": "code",
      "source": [
        "unvers_B1 = universo(universo(U1, S, A).intercet(), S, A)\n",
        "unvers_B2 = universo(universo(U2, S, A).intercet(), S, A)\n",
        "unvers_B3 = universo(universo(U3, S, A).intercet(), S, A)\n",
        "\n",
        "print(unvers_B1.prob())\n",
        "print(unvers_B2.prob())\n",
        "print(unvers_B3.prob())"
      ],
      "metadata": {
        "colab": {
          "base_uri": "https://localhost:8080/"
        },
        "id": "XrmLJImnJcRu",
        "outputId": "2f47de17-af94-4613-926d-a826e49de8b3"
      },
      "execution_count": 95,
      "outputs": [
        {
          "output_type": "stream",
          "name": "stdout",
          "text": [
            "0.3333333333333333\n",
            "0.0\n",
            "0.3333333333333333\n"
          ]
        }
      ]
    },
    {
      "cell_type": "code",
      "source": [
        "print(unvers_B1.complement())\n",
        "print(unvers_B2.complement())\n",
        "print(unvers_B3.complement())"
      ],
      "metadata": {
        "colab": {
          "base_uri": "https://localhost:8080/"
        },
        "id": "LQ_EXrVVK5fY",
        "outputId": "57be4fa7-1b68-4b8d-9e19-72a5de308117"
      },
      "execution_count": 96,
      "outputs": [
        {
          "output_type": "stream",
          "name": "stdout",
          "text": [
            "0.6666666666666667\n",
            "1.0\n",
            "0.6666666666666667\n"
          ]
        }
      ]
    }
  ]
}