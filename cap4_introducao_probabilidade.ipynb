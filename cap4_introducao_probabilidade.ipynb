{
  "nbformat": 4,
  "nbformat_minor": 0,
  "metadata": {
    "colab": {
      "name": "cap4_introducao_probabilidade.ipynb",
      "provenance": [],
      "collapsed_sections": [],
      "toc_visible": true,
      "include_colab_link": true
    },
    "kernelspec": {
      "name": "python3",
      "display_name": "Python 3"
    },
    "accelerator": "GPU"
  },
  "cells": [
    {
      "cell_type": "markdown",
      "metadata": {
        "id": "view-in-github",
        "colab_type": "text"
      },
      "source": [
        "<a href=\"https://colab.research.google.com/github/jvataidee/ManualdeAnalisedeDados_Python/blob/master/cap4_introducao_probabilidade.ipynb\" target=\"_parent\"><img src=\"https://colab.research.google.com/assets/colab-badge.svg\" alt=\"Open In Colab\"/></a>"
      ]
    },
    {
      "cell_type": "markdown",
      "metadata": {
        "id": "kLI0gJtzDGuQ"
      },
      "source": [
        "**by: [João Ataíde](https://www.joaoataide.com)**\n",
        "# **CAP 04: Introdução a Probabilidade**\n",
        "\n",
        "---\n",
        "\n"
      ]
    },
    {
      "cell_type": "code",
      "source": [
        "#importar bibliotecas\n",
        "import pandas as pd\n",
        "import numpy as np\n",
        "import math\n",
        "import matplotlib.pyplot as plt\n",
        "import seaborn as sns\n",
        "import statistics as st\n",
        "import scipy.stats as stats\n",
        "from scipy.stats import chi2_contingency, spearmanr"
      ],
      "metadata": {
        "id": "dTSRYPl7ORJW"
      },
      "execution_count": 1,
      "outputs": []
    },
    {
      "cell_type": "markdown",
      "source": [
        "## **Conceitos**\n",
        "\n",
        "### **Experimento aleatório**\n",
        "Fenômeno imprevisível, se repetido o experimento não é possível aparecer o mesmo resultado\n",
        "\n",
        "### **Espaço amostral**\n",
        "Consiste $S$ em todos o resultados possíveis do experimento\n",
        "\n"
      ],
      "metadata": {
        "id": "zTllLwnt6IGI"
      }
    },
    {
      "cell_type": "code",
      "source": [
        "S = list(range(60))\n",
        "len(S)"
      ],
      "metadata": {
        "colab": {
          "base_uri": "https://localhost:8080/"
        },
        "id": "4fATXMdFe8KZ",
        "outputId": "a0703e74-7a5a-46da-f9ef-f86bc70c6656"
      },
      "execution_count": 2,
      "outputs": [
        {
          "output_type": "execute_result",
          "data": {
            "text/plain": [
              "60"
            ]
          },
          "metadata": {},
          "execution_count": 2
        }
      ]
    },
    {
      "cell_type": "markdown",
      "source": [
        "\n",
        "### **Eventos**\n",
        "Subconjunto de um espaço amostral, uma fenômeno que ocorre dentro de um conjunto de resultados possíveis\n"
      ],
      "metadata": {
        "id": "_fUNB87pe3y8"
      }
    },
    {
      "cell_type": "markdown",
      "source": [
        "\n",
        "### **Conjuntos**\n",
        "\n",
        "* `União`\n",
        "Eventos $A$ ∪ $B$, gera no um novo evento resultante de todas os resultados dos dois eventos.\n",
        "\n",
        "* `Intersecção`\n",
        "Eventos $A$ ∩ $B$, gera um novo evento resultante da diferença entre os dois evento, sendo que esse tem que percencer aos dois.\n",
        "\n",
        "* `Complementares`\n",
        "Evento $C$ é um evento que contês todos os elementos do espaço amostral.\n",
        "\n"
      ],
      "metadata": {
        "id": "QwN2vP1_e5Ko"
      }
    },
    {
      "cell_type": "markdown",
      "source": [
        "### **Eventos independentes**\n",
        "Evento $B$ não impacta na condição da ocrrência do evento $A$\n",
        "\n"
      ],
      "metadata": {
        "id": "hGFYmXBKe6DI"
      }
    },
    {
      "cell_type": "markdown",
      "source": [
        "### **Evento mutualmente excludente**\n",
        "O evento $A$ e o evento $B$ não possuem nenhum elemento em comum, não podendo ocorrer simutanemamento."
      ],
      "metadata": {
        "id": "MX1mj-0ze68H"
      }
    },
    {
      "cell_type": "markdown",
      "source": [
        "## **Definição de probabilidade**\n",
        "É conceito matemático que determina a ocorrência de uma determinado evento $A$ dentro de um espaço amostral\n",
        "\n",
        "$P(A) = \\frac{n_{A}}{n}$"
      ],
      "metadata": {
        "id": "Yyj2ZkF_cA0x"
      }
    },
    {
      "cell_type": "code",
      "source": [
        "dados = [1, 2, 3, 4, 5, 6]\n",
        "A = [2, 4, 6]\n",
        "\n",
        "probabilidade = len(A)/len(dados) * 100\n",
        "probabilidade"
      ],
      "metadata": {
        "colab": {
          "base_uri": "https://localhost:8080/"
        },
        "id": "_x9mfpuvcdcL",
        "outputId": "0ec57527-63f0-4f50-9949-57799f7df44a"
      },
      "execution_count": 3,
      "outputs": [
        {
          "output_type": "execute_result",
          "data": {
            "text/plain": [
              "50.0"
            ]
          },
          "metadata": {},
          "execution_count": 3
        }
      ]
    },
    {
      "cell_type": "markdown",
      "source": [
        "## **Regras básicas**\n",
        " \n",
        "\n",
        "1.   `Variação probabilidade:` probabilidade sempre entre 0% a 100% ou $0-1$\n",
        "2.   `Probabilidade espaço amostral:` probabilidade $S$ sempre é igual 1\n",
        "3.   `Conjunto vazio:` se não tem dado não tem probabilidade\n",
        "4.   `Adição de probabilidade: ` $P(A ∪ B) = P(A) + P(B) - P(A ∩ B)$\n",
        "5.   `Probabilidade eventos complementares:` $P(A^c) = 1 - P(A)$\n",
        "6.   `Multiplicação de probabilidade: ` $P(A ∩ B) = P(A)P(B)$\n",
        "\n"
      ],
      "metadata": {
        "id": "jPhKTlfEc5OV"
      }
    },
    {
      "cell_type": "markdown",
      "source": [
        "## **Probabilidade Condicional**\n",
        "Quando os eventos não forem independente deve usar conceito de probabilidade condicional, basicamente se tive um evento qual a probabilidade de acontecer o outro.\n",
        "\n",
        "$P(A|B) = \\frac{P(A ∩ B)}{P(B)}$\n",
        "\n",
        "* `multiplicacao probabilidade: ` $P(A ∩ B) = P(A)P(B|A)$ pode ser extendido para o terceiro evento multiplicando por $P(C|A ∩ B)$"
      ],
      "metadata": {
        "id": "lapWJ-DVGdJ1"
      }
    },
    {
      "cell_type": "markdown",
      "source": [
        "## **Probpy v.0.0**\n",
        "by: João Ataíde"
      ],
      "metadata": {
        "id": "5ryrKKeLGALP"
      }
    },
    {
      "cell_type": "code",
      "source": [
        "class universo:\n",
        "    def __init__(self, eventoA, espaco_amostral, eventoB = None, eventoC = None):\n",
        "        self.eventoA = eventoA\n",
        "        self.eventoB = eventoB\n",
        "        self.eventoC = eventoC\n",
        "        self.espaco_amostral= espaco_amostral\n",
        "\n",
        "    def prob(self):\n",
        "        return len(self.eventoA) / len(self.espaco_amostral)\n",
        "\n",
        "    def intercet(self):\n",
        "        return list(set(self.eventoA).intersection(self.espaco_amostral))\n",
        "    \n",
        "    def union(self):\n",
        "        return list(set(self.eventoA).union(self.espaco_amostral))\n",
        "\n",
        "    def adicao_multual(self):\n",
        "        prob_a = universo(self.eventoA, self.espaco_amostral).prob() \n",
        "        prob_b = universo(self.eventoB, self.espaco_amostral).prob()\n",
        "        intecect =  universo(universo(self.eventoA, self.eventoB).intercet(), S).prob()\n",
        "\n",
        "        return prob_a + prob_b - intecect\n",
        "\n",
        "    def adicao_excludantes(self):\n",
        "        prob_a = universo(self.eventoA, self.espaco_amostral).prob() \n",
        "        prob_b = universo(self.eventoB, self.espaco_amostral).prob()\n",
        "\n",
        "        return prob_a + prob_b\n",
        "    \n",
        "    def complement(self):\n",
        "        return 1 - universo(self.eventoA, self.espaco_amostral).prob()\n",
        "\n",
        "    def indepedent(self):\n",
        "        return universo(self.eventoA, self.espaco_amostral).prob() * universo(self.eventoB, self.espaco_amostral).prob()\n",
        "\n",
        "    def conditional(self):\n",
        "        intecect =  universo(universo(self.eventoA, self.eventoB).intercet(), S).prob()\n",
        "        prob_B = universo(self.eventoB, self.espaco_amostral).prob()\n",
        "        return intecect / prob_B\n",
        "\n",
        "    def conditional_mult(self):\n",
        "        intecect =  universo(universo(self.eventoA, self.eventoB).intercet(), S).prob()\n",
        "        prob_B = universo(self.eventoB, self.espaco_amostral).prob()\n",
        "        prob_A = universo(self.eventoA, self.espaco_amostral).prob()\n",
        "        prob_C = universo(self.eventoC, self.espaco_amostral).prob()\n",
        "\n",
        "        return prob_A * (intecect / prob_B) * (intecect / prob_C)\n",
        "\n"
      ],
      "metadata": {
        "id": "qqxXfZfjoE6u"
      },
      "execution_count": 4,
      "outputs": []
    },
    {
      "cell_type": "markdown",
      "source": [
        "## **Exercícios Probabilidade Básica**"
      ],
      "metadata": {
        "id": "1yQgxiFXfmWA"
      }
    },
    {
      "cell_type": "markdown",
      "source": [
        "### Exemplo 1"
      ],
      "metadata": {
        "id": "yRagkP10I3Yg"
      }
    },
    {
      "cell_type": "code",
      "source": [
        "#impar\n",
        "def impar(lista):\n",
        "   return list(filter(lambda x: (x%2 != 0) , lista))\n",
        "\n",
        "\n",
        "#numeros par\n",
        "def par(lista):\n",
        "   return list(filter(lambda x: (x%2 == 0) , lista))\n",
        "\n",
        "\n",
        "#multiplo de 5\n",
        "def mult_cinco(lista):\n",
        "   return list(filter(lambda x: (x%5 == 0) , lista))\n",
        "\n",
        "\n",
        "#multiplo de 5\n",
        "def nao_mult_cinco(lista):\n",
        "   return list(filter(lambda x: (x%5 != 0) , lista))"
      ],
      "metadata": {
        "id": "SuzMz0YSe0wC"
      },
      "execution_count": 5,
      "outputs": []
    },
    {
      "cell_type": "markdown",
      "source": [
        "### Exemplo 2"
      ],
      "metadata": {
        "id": "HSr68WUhI51G"
      }
    },
    {
      "cell_type": "code",
      "source": [
        "#B) Probabildiade evento inpar em S\n",
        "prob_A = universo(impar(S),S).prob()\n",
        "prob_A"
      ],
      "metadata": {
        "colab": {
          "base_uri": "https://localhost:8080/"
        },
        "id": "rOkOlvLpfrSF",
        "outputId": "c7522c3c-509c-4cf3-ed7a-2dd145b33f0a"
      },
      "execution_count": 6,
      "outputs": [
        {
          "output_type": "execute_result",
          "data": {
            "text/plain": [
              "0.5"
            ]
          },
          "metadata": {},
          "execution_count": 6
        }
      ]
    },
    {
      "cell_type": "markdown",
      "source": [
        "### Exemplo 3"
      ],
      "metadata": {
        "id": "kKLYrWfJI71v"
      }
    },
    {
      "cell_type": "code",
      "source": [
        "#C) Probabilidade evento multiplo de 5 em S\n",
        "prob_B = universo(mult_cinco(S),S).prob()\n",
        "prob_B"
      ],
      "metadata": {
        "colab": {
          "base_uri": "https://localhost:8080/"
        },
        "id": "yy3op-oJiEvs",
        "outputId": "72c0543d-9494-45aa-c024-53c0648bb942"
      },
      "execution_count": 7,
      "outputs": [
        {
          "output_type": "execute_result",
          "data": {
            "text/plain": [
              "0.2"
            ]
          },
          "metadata": {},
          "execution_count": 7
        }
      ]
    },
    {
      "cell_type": "markdown",
      "source": [
        "### Exemplo 4"
      ],
      "metadata": {
        "id": "OYVvIXvFI9tD"
      }
    },
    {
      "cell_type": "code",
      "source": [
        "#D) Estabelecendo eventos\n",
        "A = impar(S)\n",
        "B = mult_cinco(S)"
      ],
      "metadata": {
        "id": "MUFhAuHKgmr3"
      },
      "execution_count": 8,
      "outputs": []
    },
    {
      "cell_type": "code",
      "source": [
        "#Probabilidade de ocorrer A e B Multualmente\n",
        "universo(A, S, B).adicao_multual()"
      ],
      "metadata": {
        "colab": {
          "base_uri": "https://localhost:8080/"
        },
        "id": "qw-b5M1vgvSl",
        "outputId": "cfd65b0c-56b0-4851-d67b-1bcbef0c740c"
      },
      "execution_count": 9,
      "outputs": [
        {
          "output_type": "execute_result",
          "data": {
            "text/plain": [
              "0.6"
            ]
          },
          "metadata": {},
          "execution_count": 9
        }
      ]
    },
    {
      "cell_type": "code",
      "source": [
        "A = [7, 14, 21, 18, 35, 42, 49, 56]\n",
        "B = [10, 20, 30, 40, 50, 60]"
      ],
      "metadata": {
        "id": "Aawy9CnFlqP0"
      },
      "execution_count": 10,
      "outputs": []
    },
    {
      "cell_type": "code",
      "source": [
        "#Probabilidade dos novos A e B\n",
        "prob_A = universo(A, S).prob()\n",
        "prob_B = universo(B, S).prob()"
      ],
      "metadata": {
        "id": "jBlLvE_cl0gU"
      },
      "execution_count": 11,
      "outputs": []
    },
    {
      "cell_type": "markdown",
      "source": [
        "### Exemplo 5"
      ],
      "metadata": {
        "id": "khllTAi8I_8z"
      }
    },
    {
      "cell_type": "code",
      "source": [
        "#E) probobalidade de ocorrer mas A e B são mutuamente excludentes\n",
        "universo(A, S, B).adicao_excludantes()\n"
      ],
      "metadata": {
        "colab": {
          "base_uri": "https://localhost:8080/"
        },
        "id": "NYoeUCVbi2Ls",
        "outputId": "a9c4e988-b8b8-47ce-9fd1-3d668fa68627"
      },
      "execution_count": 12,
      "outputs": [
        {
          "output_type": "execute_result",
          "data": {
            "text/plain": [
              "0.23333333333333334"
            ]
          },
          "metadata": {},
          "execution_count": 12
        }
      ]
    },
    {
      "cell_type": "code",
      "source": [
        "#Novos eventos\n",
        "A = mult_cinco(S)\n",
        "B = nao_mult_cinco(S)"
      ],
      "metadata": {
        "id": "5xQL_c2Rmkuy"
      },
      "execution_count": 13,
      "outputs": []
    },
    {
      "cell_type": "markdown",
      "source": [
        "### Exemplo 6"
      ],
      "metadata": {
        "id": "QAncuLPNJBM2"
      }
    },
    {
      "cell_type": "code",
      "source": [
        "#F) Probabilidade de eventos complementares\n",
        "universo(A, S, B).complement()"
      ],
      "metadata": {
        "colab": {
          "base_uri": "https://localhost:8080/"
        },
        "id": "RPeFdsDOnE1k",
        "outputId": "60bbf914-8f4b-4ad5-d30c-d5c53209694b"
      },
      "execution_count": 14,
      "outputs": [
        {
          "output_type": "execute_result",
          "data": {
            "text/plain": [
              "0.8"
            ]
          },
          "metadata": {},
          "execution_count": 14
        }
      ]
    },
    {
      "cell_type": "markdown",
      "source": [
        "### Exemplo 7"
      ],
      "metadata": {
        "id": "_MGzbx9cJCYP"
      }
    },
    {
      "cell_type": "code",
      "source": [
        "#G) Probabilidade de eventos independentes\n",
        "universo(A, S, B).indepedent()\n"
      ],
      "metadata": {
        "colab": {
          "base_uri": "https://localhost:8080/"
        },
        "id": "9qcrKRqhnUgG",
        "outputId": "41fee38e-964a-4ef5-f57e-3814fa5ee486"
      },
      "execution_count": 15,
      "outputs": [
        {
          "output_type": "execute_result",
          "data": {
            "text/plain": [
              "0.16000000000000003"
            ]
          },
          "metadata": {},
          "execution_count": 15
        }
      ]
    },
    {
      "cell_type": "markdown",
      "source": [
        "## **Exercícios Probabilidade Condicional**"
      ],
      "metadata": {
        "id": "3xUhN4oJJNYM"
      }
    },
    {
      "cell_type": "markdown",
      "source": [
        "### Exemplo 1"
      ],
      "metadata": {
        "id": "xo-0TTs5KSGW"
      }
    },
    {
      "cell_type": "code",
      "source": [
        "S = [1 ,2, 3, 4, 5, 6] #possibilidade dos dados\n",
        "A = [4]\n",
        "B = par(S)\n",
        "C = impar(S)"
      ],
      "metadata": {
        "id": "io6Puz0ZJTh-"
      },
      "execution_count": 16,
      "outputs": []
    },
    {
      "cell_type": "code",
      "source": [
        "# Probabilidade da condição A ocorrer B\n",
        "universo(A, S, B).conditional()"
      ],
      "metadata": {
        "colab": {
          "base_uri": "https://localhost:8080/"
        },
        "id": "BoQw_EsOJzlU",
        "outputId": "8be6299d-416a-4662-876a-42803e32218c"
      },
      "execution_count": 17,
      "outputs": [
        {
          "output_type": "execute_result",
          "data": {
            "text/plain": [
              "0.3333333333333333"
            ]
          },
          "metadata": {},
          "execution_count": 17
        }
      ]
    },
    {
      "cell_type": "markdown",
      "source": [
        "### Exemplo 2"
      ],
      "metadata": {
        "id": "YHlRGUUEKU7g"
      }
    },
    {
      "cell_type": "code",
      "source": [
        "# Probabilidade da condição de A B e C ocorrer\n",
        "universo(A, S, B, C).conditional_mult()"
      ],
      "metadata": {
        "colab": {
          "base_uri": "https://localhost:8080/"
        },
        "id": "BWprxn_xKVpQ",
        "outputId": "5c5df3ee-0348-4ccf-e9f6-367d93f055af"
      },
      "execution_count": 19,
      "outputs": [
        {
          "output_type": "execute_result",
          "data": {
            "text/plain": [
              "0.018518518518518517"
            ]
          },
          "metadata": {},
          "execution_count": 19
        }
      ]
    }
  ]
}